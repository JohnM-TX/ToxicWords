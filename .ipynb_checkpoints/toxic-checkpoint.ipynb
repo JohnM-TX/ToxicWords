{
 "cells": [
  {
   "cell_type": "code",
   "execution_count": 2,
   "metadata": {},
   "outputs": [],
   "source": [
    "# %load toxicavenger.py\n",
    "import numpy as np\n",
    "import pandas as pd\n",
    "import markovify as mk\n",
    "from sklearn import ensemble\n",
    "from sklearn.feature_extraction.text import TfidfVectorizer\n",
    "\n",
    "train = pd.read_csv('./input/train.csv')\n",
    "test = pd.read_csv('./input/test.csv')\n",
    "sub1 = pd.read_csv('./input/output.csv')\n"
   ]
  },
  {
   "cell_type": "code",
   "execution_count": 3,
   "metadata": {},
   "outputs": [],
   "source": [
    "coly = [c for c in train.columns if c not in ['id','comment_text']]\n",
    "y = train[coly]\n",
    "\n",
    "df = pd.concat([train['comment_text'], test['comment_text']], axis=0)"
   ]
  },
  {
   "cell_type": "code",
   "execution_count": 4,
   "metadata": {},
   "outputs": [],
   "source": [
    "nrow = train.shape[0]\n",
    "\n",
    "tfidf = TfidfVectorizer(stop_words='english', max_features=800000)\n",
    "data = tfidf.fit_transform(df)\n",
    "\n",
    "\n"
   ]
  },
  {
   "cell_type": "code",
   "execution_count": 5,
   "metadata": {},
   "outputs": [
    {
     "name": "stdout",
     "output_type": "stream",
     "text": [
      "0.00128469458736\n"
     ]
    }
   ],
   "source": [
    "model = ensemble.ExtraTreesClassifier(n_jobs=-1, random_state=3, verbose=1)\n",
    "model.fit(data[:nrow], y)\n",
    "\n",
    "print(1- model.score(data[:nrow], y))\n",
    "\n"
   ]
  },
  {
   "cell_type": "code",
   "execution_count": 6,
   "metadata": {},
   "outputs": [],
   "source": [
    "sub2 = model.predict_proba(data[nrow:])\n",
    "sub2 = pd.DataFrame([[c[1] for c in sub2[row]] for row in range(len(sub2))]).T\n",
    "sub2.columns = coly\n",
    "\n",
    "sub2['id'] = test['id'].values\n",
    "\n",
    "for c in coly:\n",
    "    sub2[c] = sub2[c].clip(0+1e12, 1-1e12)\n",
    "\n"
   ]
  },
  {
   "cell_type": "code",
   "execution_count": 7,
   "metadata": {},
   "outputs": [],
   "source": [
    "sub2.columns = [x+'_' if x not in ['id'] else x for x in sub2.columns]\n",
    "blend = pd.merge(sub1, sub2, how='left', on='id')\n",
    "\n"
   ]
  },
  {
   "cell_type": "code",
   "execution_count": 8,
   "metadata": {},
   "outputs": [],
   "source": [
    "for c in coly:\n",
    "    blend[c] = blend[c] * 0.8 + blend[c+'_'] * 0.2\n",
    "    blend[c] = blend[c].clip(0+1e12, 1-1e12)\n",
    "blend = blend[sub1.columns]\n",
    "blend.to_csv('submission.csv', index=False)\n"
   ]
  },
  {
   "cell_type": "code",
   "execution_count": 11,
   "metadata": {},
   "outputs": [
    {
     "data": {
      "text/plain": [
       "Index(['toxic_', 'severe_toxic_', 'obscene_', 'threat_', 'insult_',\n",
       "       'identity_hate_', 'id'],\n",
       "      dtype='object')"
      ]
     },
     "execution_count": 11,
     "metadata": {},
     "output_type": "execute_result"
    }
   ],
   "source": [
    "sub2.columns"
   ]
  },
  {
   "cell_type": "code",
   "execution_count": null,
   "metadata": {},
   "outputs": [],
   "source": []
  }
 ],
 "metadata": {
  "kernelspec": {
   "display_name": "Python [default]",
   "language": "python",
   "name": "python3"
  },
  "language_info": {
   "codemirror_mode": {
    "name": "ipython",
    "version": 3
   },
   "file_extension": ".py",
   "mimetype": "text/x-python",
   "name": "python",
   "nbconvert_exporter": "python",
   "pygments_lexer": "ipython3",
   "version": "3.6.3"
  }
 },
 "nbformat": 4,
 "nbformat_minor": 2
}
