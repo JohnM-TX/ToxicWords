{
 "cells": [
  {
   "cell_type": "code",
   "execution_count": 2,
   "metadata": {},
   "outputs": [],
   "source": [
    "# %load nb_svm_dmitryov.py\n",
    "\n",
    "import pandas as pd, numpy as np\n",
    "from sklearn.linear_model import LogisticRegression\n",
    "from sklearn.feature_extraction.text import CountVectorizer, TfidfVectorizer\n",
    "import re, string\n",
    "\n",
    "train = pd.read_csv('../input/train.csv')\n",
    "test = pd.read_csv('../input/test.csv')\n",
    "subm = pd.read_csv('../input/sample_submission.csv')\n",
    "\n",
    "lens = train.comment_text.str.len()\n",
    "\n",
    "\n",
    "label_cols = train.columns[-6:]\n",
    "train['none'] = 1-train[label_cols].max(axis=1)\n",
    "\n",
    "COMMENT = 'comment_text'\n",
    "train[COMMENT].fillna(\"unknown\", inplace=True)\n",
    "test[COMMENT].fillna(\"unknown\", inplace=True)\n",
    "\n",
    "\n",
    "re_tok = re.compile(f'([{string.punctuation}“”¨«»®´·º½¾¿¡§£₤‘’])')\n",
    "def tokenize(s): return re_tok.sub(r' \\1 ', s).split()\n",
    "\n",
    "print('vectorizing')\n",
    "n = train.shape[0]\n",
    "vec = TfidfVectorizer(ngram_range=(1,2), tokenizer=tokenize,\n",
    "               min_df=3, max_df=0.9, strip_accents='unicode', use_idf=1,\n",
    "               smooth_idf=1, sublinear_tf=1 )\n",
    "trn_term_doc = vec.fit_transform(train[COMMENT])\n",
    "test_term_doc = vec.transform(test[COMMENT])\n",
    "\n",
    "\n",
    "def pr(y_i, y):\n",
    "    p = x[y==y_i].sum(0)\n",
    "    return (p+1) / ((y==y_i).sum()+1)\n",
    "\n",
    "\n",
    "x = trn_term_doc\n",
    "test_x = test_term_doc\n"
   ]
  },
  {
   "cell_type": "code",
   "execution_count": 7,
   "metadata": {},
   "outputs": [
    {
     "name": "stdout",
     "output_type": "stream",
     "text": [
      "fit toxic\n",
      "CV score for class toxic is 0.9799985978436258\n",
      "fit severe_toxic\n",
      "CV score for class severe_toxic is 0.9842974762511153\n",
      "fit obscene\n",
      "CV score for class obscene is 0.9892562301146901\n",
      "fit threat\n",
      "CV score for class threat is 0.985812298630005\n",
      "fit insult\n",
      "CV score for class insult is 0.9818525594450461\n",
      "fit identity_hate\n",
      "CV score for class identity_hate is 0.9726266279450838\n"
     ]
    }
   ],
   "source": [
    "from sklearn.model_selection import cross_val_score, cross_val_predict\n",
    "\n",
    "def get_mdl(y):\n",
    "    y = y.values\n",
    "    r = np.log(pr(1,y) / pr(0,y))\n",
    "    m = LogisticRegression(C=4, dual=True)\n",
    "    x_nb = x.multiply(r)\n",
    "    cv_score = np.mean(cross_val_score(m, x_nb, y, cv=3, scoring='roc_auc'))\n",
    "    cv_preds = cross_val_predict(m, x_nb, y, cv=3, method='predict_proba')\n",
    "    return m.fit(x_nb, y), r, cv_score, cv_preds\n",
    "\n",
    "\n",
    "\n",
    "train_preds = pd.DataFrame.from_dict({'id': train['id']})\n",
    "test_preds = np.zeros((len(test), len(label_cols)))\n",
    "\n",
    "for i, j in enumerate(label_cols):\n",
    "    print('fit', j)\n",
    "    m,r,cv_score, cv_preds = get_mdl(train[j])\n",
    "    print('CV score for class {} is {}'.format(j, cv_score))\n",
    "    train_preds[j] = cv_preds[:, 1]\n",
    "    test_preds[:,i] = m.predict_proba(test_x.multiply(r))[:,1]\n",
    "\n",
    "\n",
    "    \n",
    "train_preds.to_csv('../ensembles/preds_nb_svm.csv', index=False)\n",
    "    \n",
    "submid = pd.DataFrame({'id': subm[\"id\"]})\n",
    "submission = pd.concat([submid, pd.DataFrame(test_preds, columns = label_cols)], axis=1)\n",
    "submission.to_csv('../ensembles/test_nb_svm.csv', index=False)\n",
    "\n"
   ]
  },
  {
   "cell_type": "code",
   "execution_count": null,
   "metadata": {},
   "outputs": [],
   "source": []
  }
 ],
 "metadata": {
  "kernelspec": {
   "display_name": "Python (base)",
   "language": "python",
   "name": "base"
  },
  "language_info": {
   "codemirror_mode": {
    "name": "ipython",
    "version": 3
   },
   "file_extension": ".py",
   "mimetype": "text/x-python",
   "name": "python",
   "nbconvert_exporter": "python",
   "pygments_lexer": "ipython3",
   "version": "3.6.4"
  },
  "varInspector": {
   "cols": {
    "lenName": 16,
    "lenType": 16,
    "lenVar": 40
   },
   "kernels_config": {
    "python": {
     "delete_cmd_postfix": "",
     "delete_cmd_prefix": "del ",
     "library": "var_list.py",
     "varRefreshCmd": "print(var_dic_list())"
    },
    "r": {
     "delete_cmd_postfix": ") ",
     "delete_cmd_prefix": "rm(",
     "library": "var_list.r",
     "varRefreshCmd": "cat(var_dic_list()) "
    }
   },
   "types_to_exclude": [
    "module",
    "function",
    "builtin_function_or_method",
    "instance",
    "_Feature"
   ],
   "window_display": false
  }
 },
 "nbformat": 4,
 "nbformat_minor": 2
}
