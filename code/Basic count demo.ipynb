{
 "cells": [
  {
   "cell_type": "code",
   "execution_count": 11,
   "metadata": {},
   "outputs": [],
   "source": [
    "from sklearn.feature_extraction.text import TfidfVectorizer\n",
    "import pandas as pd"
   ]
  },
  {
   "cell_type": "code",
   "execution_count": 12,
   "metadata": {},
   "outputs": [
    {
     "data": {
      "text/plain": [
       "3"
      ]
     },
     "execution_count": 12,
     "metadata": {},
     "output_type": "execute_result"
    }
   ],
   "source": [
    "\"I tried to fish for fish but I didn't catch any fish\".count(\"fish\")"
   ]
  },
  {
   "cell_type": "code",
   "execution_count": 13,
   "metadata": {},
   "outputs": [
    {
     "data": {
      "text/plain": [
       "['I',\n",
       " 'tried',\n",
       " 'to',\n",
       " 'fish',\n",
       " 'for',\n",
       " 'fish',\n",
       " 'but',\n",
       " 'I',\n",
       " \"didn't\",\n",
       " 'catch',\n",
       " 'any',\n",
       " 'fish']"
      ]
     },
     "execution_count": 13,
     "metadata": {},
     "output_type": "execute_result"
    }
   ],
   "source": [
    "fish_sentence = \"I tried to fish for fish but I didn't catch any fish\"\n",
    "fish_sentence.split(\" \")"
   ]
  },
  {
   "cell_type": "code",
   "execution_count": 14,
   "metadata": {},
   "outputs": [],
   "source": [
    "phrases = [\n",
    "    'i love cars', \n",
    "    'i hate cars', \n",
    "    'cars butter cars', \n",
    "    'misery and gloomy pain cars',\n",
    "    'the cars hate butter'\n",
    "]"
   ]
  },
  {
   "cell_type": "code",
   "execution_count": 15,
   "metadata": {},
   "outputs": [
    {
     "data": {
      "text/plain": [
       "['and',\n",
       " 'butter',\n",
       " 'cars',\n",
       " 'gloomy',\n",
       " 'hate',\n",
       " 'i',\n",
       " 'love',\n",
       " 'misery',\n",
       " 'pain',\n",
       " 'the']"
      ]
     },
     "execution_count": 15,
     "metadata": {},
     "output_type": "execute_result"
    }
   ],
   "source": [
    "vec = TfidfVectorizer(token_pattern='([^\\s]+)')\n",
    "matrix = vec.fit_transform(phrases)\n",
    "vec.get_feature_names()"
   ]
  },
  {
   "cell_type": "code",
   "execution_count": 16,
   "metadata": {},
   "outputs": [
    {
     "data": {
      "text/html": [
       "<div>\n",
       "<style scoped>\n",
       "    .dataframe tbody tr th:only-of-type {\n",
       "        vertical-align: middle;\n",
       "    }\n",
       "\n",
       "    .dataframe tbody tr th {\n",
       "        vertical-align: top;\n",
       "    }\n",
       "\n",
       "    .dataframe thead th {\n",
       "        text-align: right;\n",
       "    }\n",
       "</style>\n",
       "<table border=\"1\" class=\"dataframe\">\n",
       "  <thead>\n",
       "    <tr style=\"text-align: right;\">\n",
       "      <th></th>\n",
       "      <th>and</th>\n",
       "      <th>butter</th>\n",
       "      <th>cars</th>\n",
       "      <th>gloomy</th>\n",
       "      <th>hate</th>\n",
       "      <th>i</th>\n",
       "      <th>love</th>\n",
       "      <th>misery</th>\n",
       "      <th>pain</th>\n",
       "      <th>the</th>\n",
       "    </tr>\n",
       "  </thead>\n",
       "  <tbody>\n",
       "    <tr>\n",
       "      <th>0</th>\n",
       "      <td>0.000000</td>\n",
       "      <td>0.000000</td>\n",
       "      <td>0.347715</td>\n",
       "      <td>0.000000</td>\n",
       "      <td>0.000000</td>\n",
       "      <td>0.588732</td>\n",
       "      <td>0.729718</td>\n",
       "      <td>0.000000</td>\n",
       "      <td>0.000000</td>\n",
       "      <td>0.000000</td>\n",
       "    </tr>\n",
       "    <tr>\n",
       "      <th>1</th>\n",
       "      <td>0.000000</td>\n",
       "      <td>0.000000</td>\n",
       "      <td>0.385372</td>\n",
       "      <td>0.000000</td>\n",
       "      <td>0.652491</td>\n",
       "      <td>0.652491</td>\n",
       "      <td>0.000000</td>\n",
       "      <td>0.000000</td>\n",
       "      <td>0.000000</td>\n",
       "      <td>0.000000</td>\n",
       "    </tr>\n",
       "    <tr>\n",
       "      <th>2</th>\n",
       "      <td>0.000000</td>\n",
       "      <td>0.646129</td>\n",
       "      <td>0.763228</td>\n",
       "      <td>0.000000</td>\n",
       "      <td>0.000000</td>\n",
       "      <td>0.000000</td>\n",
       "      <td>0.000000</td>\n",
       "      <td>0.000000</td>\n",
       "      <td>0.000000</td>\n",
       "      <td>0.000000</td>\n",
       "    </tr>\n",
       "    <tr>\n",
       "      <th>3</th>\n",
       "      <td>0.486386</td>\n",
       "      <td>0.000000</td>\n",
       "      <td>0.231765</td>\n",
       "      <td>0.486386</td>\n",
       "      <td>0.000000</td>\n",
       "      <td>0.000000</td>\n",
       "      <td>0.000000</td>\n",
       "      <td>0.486386</td>\n",
       "      <td>0.486386</td>\n",
       "      <td>0.000000</td>\n",
       "    </tr>\n",
       "    <tr>\n",
       "      <th>4</th>\n",
       "      <td>0.000000</td>\n",
       "      <td>0.507338</td>\n",
       "      <td>0.299642</td>\n",
       "      <td>0.000000</td>\n",
       "      <td>0.507338</td>\n",
       "      <td>0.000000</td>\n",
       "      <td>0.000000</td>\n",
       "      <td>0.000000</td>\n",
       "      <td>0.000000</td>\n",
       "      <td>0.628833</td>\n",
       "    </tr>\n",
       "  </tbody>\n",
       "</table>\n",
       "</div>"
      ],
      "text/plain": [
       "        and    butter      cars    gloomy      hate         i      love  \\\n",
       "0  0.000000  0.000000  0.347715  0.000000  0.000000  0.588732  0.729718   \n",
       "1  0.000000  0.000000  0.385372  0.000000  0.652491  0.652491  0.000000   \n",
       "2  0.000000  0.646129  0.763228  0.000000  0.000000  0.000000  0.000000   \n",
       "3  0.486386  0.000000  0.231765  0.486386  0.000000  0.000000  0.000000   \n",
       "4  0.000000  0.507338  0.299642  0.000000  0.507338  0.000000  0.000000   \n",
       "\n",
       "     misery      pain       the  \n",
       "0  0.000000  0.000000  0.000000  \n",
       "1  0.000000  0.000000  0.000000  \n",
       "2  0.000000  0.000000  0.000000  \n",
       "3  0.486386  0.486386  0.000000  \n",
       "4  0.000000  0.000000  0.628833  "
      ]
     },
     "execution_count": 16,
     "metadata": {},
     "output_type": "execute_result"
    }
   ],
   "source": [
    "docs = pd.DataFrame(matrix.toarray(), columns=vec.get_feature_names())\n",
    "docs"
   ]
  },
  {
   "cell_type": "code",
   "execution_count": 21,
   "metadata": {},
   "outputs": [
    {
     "data": {
      "text/plain": [
       "{'CLICOLOR': '1',\n",
       " 'CONDA_ROOT': '/home/mjp914/anaconda3',\n",
       " 'DBUS_SESSION_BUS_ADDRESS': 'unix:abstract=/tmp/dbus-VLRAwNTXOz,guid=f8e462269dcbb04681b46e115a98877d',\n",
       " 'DEFAULTS_PATH': '/usr/share/gconf/cinnamon.default.path',\n",
       " 'DESKTOP_SESSION': 'cinnamon',\n",
       " 'DISPLAY': ':0',\n",
       " 'GDMSESSION': 'cinnamon',\n",
       " 'GDM_LANG': 'en_US',\n",
       " 'GIT_PAGER': 'cat',\n",
       " 'GNOME_DESKTOP_SESSION_ID': 'this-is-deprecated',\n",
       " 'GTK2_MODULES': 'overlay-scrollbar',\n",
       " 'GTK_MODULES': 'gail:atk-bridge',\n",
       " 'GTK_OVERLAY_SCROLLING': '1',\n",
       " 'HOME': '/home/mjp914',\n",
       " 'JPY_PARENT_PID': '3816',\n",
       " 'LANG': 'en_US.UTF-8',\n",
       " 'LANGUAGE': 'en_US',\n",
       " 'LESSCLOSE': '/usr/bin/lesspipe %s %s',\n",
       " 'LESSOPEN': '| /usr/bin/lesspipe %s',\n",
       " 'LOGNAME': 'mjp914',\n",
       " 'LS_COLORS': 'rs=0:di=01;34:ln=01;36:mh=00:pi=40;33:so=01;35:do=01;35:bd=40;33;01:cd=40;33;01:or=40;31;01:mi=00:su=37;41:sg=30;43:ca=30;41:tw=30;42:ow=34;42:st=37;44:ex=01;32:*.tar=01;31:*.tgz=01;31:*.arc=01;31:*.arj=01;31:*.taz=01;31:*.lha=01;31:*.lz4=01;31:*.lzh=01;31:*.lzma=01;31:*.tlz=01;31:*.txz=01;31:*.tzo=01;31:*.t7z=01;31:*.zip=01;31:*.z=01;31:*.Z=01;31:*.dz=01;31:*.gz=01;31:*.lrz=01;31:*.lz=01;31:*.lzo=01;31:*.xz=01;31:*.bz2=01;31:*.bz=01;31:*.tbz=01;31:*.tbz2=01;31:*.tz=01;31:*.deb=01;31:*.rpm=01;31:*.jar=01;31:*.war=01;31:*.ear=01;31:*.sar=01;31:*.rar=01;31:*.alz=01;31:*.ace=01;31:*.zoo=01;31:*.cpio=01;31:*.7z=01;31:*.rz=01;31:*.cab=01;31:*.jpg=01;35:*.jpeg=01;35:*.gif=01;35:*.bmp=01;35:*.pbm=01;35:*.pgm=01;35:*.ppm=01;35:*.tga=01;35:*.xbm=01;35:*.xpm=01;35:*.tif=01;35:*.tiff=01;35:*.png=01;35:*.svg=01;35:*.svgz=01;35:*.mng=01;35:*.pcx=01;35:*.mov=01;35:*.mpg=01;35:*.mpeg=01;35:*.m2v=01;35:*.mkv=01;35:*.webm=01;35:*.ogm=01;35:*.mp4=01;35:*.m4v=01;35:*.mp4v=01;35:*.vob=01;35:*.qt=01;35:*.nuv=01;35:*.wmv=01;35:*.asf=01;35:*.rm=01;35:*.rmvb=01;35:*.flc=01;35:*.avi=01;35:*.fli=01;35:*.flv=01;35:*.gl=01;35:*.dl=01;35:*.xcf=01;35:*.xwd=01;35:*.yuv=01;35:*.cgm=01;35:*.emf=01;35:*.ogv=01;35:*.ogx=01;35:*.aac=00;36:*.au=00;36:*.flac=00;36:*.m4a=00;36:*.mid=00;36:*.midi=00;36:*.mka=00;36:*.mp3=00;36:*.mpc=00;36:*.ogg=00;36:*.ra=00;36:*.wav=00;36:*.oga=00;36:*.opus=00;36:*.spx=00;36:*.xspf=00;36:',\n",
       " 'MANDATORY_PATH': '/usr/share/gconf/cinnamon.mandatory.path',\n",
       " 'MANPATH': '/opt/OpenPrinting-Gutenprint/man:/opt/OpenPrinting-Gutenprint/man:/usr/local/man:/usr/local/share/man:/usr/share/man',\n",
       " 'MPLBACKEND': 'module://ipykernel.pylab.backend_inline',\n",
       " 'PAGER': 'cat',\n",
       " 'PATH': '/home/mjp914/anaconda3/bin:/home/mjp914/anaconda3/bin:/usr/local/cuda-8.0/bin:/home/mjp914/bin:/home/mjp914/.local/bin:/opt/OpenPrinting-Gutenprint/sbin:/opt/OpenPrinting-Gutenprint/bin:/usr/local/sbin:/usr/local/bin:/usr/sbin:/usr/bin:/sbin:/bin:/usr/games:/usr/local/games:/snap/bin',\n",
       " 'PWD': '/media/mjp914/Fastdata/Kaggles/ToxicWords',\n",
       " 'QT_ACCESSIBILITY': '1',\n",
       " 'QT_LINUX_ACCESSIBILITY_ALWAYS_ON': '1',\n",
       " 'QT_QPA_PLATFORMTHEME': 'appmenu-qt5',\n",
       " 'QT_STYLE_OVERRIDE': 'gtk',\n",
       " 'SESSION_MANAGER': 'local/Franklin:@/tmp/.ICE-unix/2356,unix/Franklin:/tmp/.ICE-unix/2356',\n",
       " 'SHELL': '/bin/bash',\n",
       " 'SHLVL': '1',\n",
       " 'SSH_AGENT_PID': '2421',\n",
       " 'SSH_AUTH_SOCK': '/run/user/1000/keyring/ssh',\n",
       " 'TERM': 'xterm-color',\n",
       " 'USER': 'mjp914',\n",
       " 'VTE_VERSION': '4205',\n",
       " 'WINDOWID': '52428806',\n",
       " 'XAUTHORITY': '/home/mjp914/.Xauthority',\n",
       " 'XDG_CONFIG_DIRS': '/etc/xdg/xdg-cinnamon:/etc/xdg',\n",
       " 'XDG_CURRENT_DESKTOP': 'X-Cinnamon',\n",
       " 'XDG_DATA_DIRS': '/usr/share/cinnamon:/usr/share/gnome:/usr/local/share:/usr/share:/var/lib/snapd/desktop:/var/lib/snapd/desktop',\n",
       " 'XDG_GREETER_DATA_DIR': '/var/lib/lightdm-data/mjp914',\n",
       " 'XDG_RUNTIME_DIR': '/run/user/1000',\n",
       " 'XDG_SEAT': 'seat0',\n",
       " 'XDG_SEAT_PATH': '/org/freedesktop/DisplayManager/Seat0',\n",
       " 'XDG_SESSION_DESKTOP': 'cinnamon',\n",
       " 'XDG_SESSION_ID': 'c2',\n",
       " 'XDG_SESSION_PATH': '/org/freedesktop/DisplayManager/Session0',\n",
       " 'XDG_SESSION_TYPE': 'x11',\n",
       " 'XDG_VTNR': '7',\n",
       " '_': '/home/mjp914/anaconda3/bin/jupyter'}"
      ]
     },
     "execution_count": 21,
     "metadata": {},
     "output_type": "execute_result"
    }
   ],
   "source": [
    "%env"
   ]
  },
  {
   "cell_type": "code",
   "execution_count": null,
   "metadata": {},
   "outputs": [],
   "source": [
    "docs.columns"
   ]
  }
 ],
 "metadata": {
  "kernelspec": {
   "display_name": "Python [conda env:texty]",
   "language": "python",
   "name": "conda-env-texty-py"
  },
  "language_info": {
   "codemirror_mode": {
    "name": "ipython",
    "version": 3
   },
   "file_extension": ".py",
   "mimetype": "text/x-python",
   "name": "python",
   "nbconvert_exporter": "python",
   "pygments_lexer": "ipython3",
   "version": "3.6.4"
  },
  "varInspector": {
   "cols": {
    "lenName": 16,
    "lenType": 16,
    "lenVar": 40
   },
   "kernels_config": {
    "python": {
     "delete_cmd_postfix": "",
     "delete_cmd_prefix": "del ",
     "library": "var_list.py",
     "varRefreshCmd": "print(var_dic_list())"
    },
    "r": {
     "delete_cmd_postfix": ") ",
     "delete_cmd_prefix": "rm(",
     "library": "var_list.r",
     "varRefreshCmd": "cat(var_dic_list()) "
    }
   },
   "types_to_exclude": [
    "module",
    "function",
    "builtin_function_or_method",
    "instance",
    "_Feature"
   ],
   "window_display": false
  }
 },
 "nbformat": 4,
 "nbformat_minor": 2
}
