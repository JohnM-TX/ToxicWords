{
 "cells": [
  {
   "cell_type": "code",
   "execution_count": 11,
   "metadata": {},
   "outputs": [
    {
     "data": {
      "application/javascript": [
       "IPython.notebook.set_autosave_interval(600000)"
      ]
     },
     "metadata": {},
     "output_type": "display_data"
    },
    {
     "name": "stdout",
     "output_type": "stream",
     "text": [
      "Autosaving every 600 seconds\n"
     ]
    }
   ],
   "source": [
    "%autosave 600\n",
    "import numpy as np\n",
    "import pandas as pd\n",
    "import random\n",
    "import cupy\n",
    "import spacy\n",
    "import chainer\n",
    "from spacy.util import minibatch, compounding\n",
    "from sklearn.metrics import roc_auc_score\n",
    "\n",
    "import thinc.neural.gpu_ops"
   ]
  },
  {
   "cell_type": "code",
   "execution_count": 12,
   "metadata": {},
   "outputs": [],
   "source": [
    "# load data\n",
    "train = pd.read_csv('input/train.csv')\n",
    "trainX = train['comment_text'].values.tolist()\n",
    "\n",
    "# set variables\n",
    "n_texts = 100\n",
    "tv_split = 0.8\n",
    "n_iter = 8\n",
    "class_names = list(train)[-6:]\n",
    "tox_type = 'threat'\n",
    "\n"
   ]
  },
  {
   "cell_type": "code",
   "execution_count": 13,
   "metadata": {},
   "outputs": [],
   "source": [
    "\n",
    "def create_model(tox_type):\n",
    "  nlp = spacy.blank('en')\n",
    "  clf = nlp.create_pipe('textcat')\n",
    "  nlp.add_pipe(clf, last=True)\n",
    "  clf.add_label(tox_type)\n",
    "  optimizer = nlp.begin_training()\n",
    "  return nlp, clf, optimizer\n",
    "\n",
    "\n",
    "def preprocess(tox_type):\n",
    "  train[tox_type] = pd.to_numeric(train[tox_type])\n",
    "  target = train[tox_type].values.tolist()\n",
    "\n",
    "  train_data = list(zip(trainX, target))\n",
    "  random.shuffle(train_data)\n",
    "  train_data = train_data[-n_texts:]\n",
    "\n",
    "  texts, labels = zip(*train_data)\n",
    "  cats = [{tox_type: bool(y)} for y in labels]\n",
    "  split = int(len(train_data) * tv_split)\n",
    "\n",
    "  train_texts = texts[:split]\n",
    "  train_cats = cats[:split]\n",
    "  dev_texts = texts[split:]\n",
    "  dev_cats = cats[split:]\n",
    "\n",
    "  print(\"Using {} examples ({} training, {} evaluation)\"\n",
    "      .format(len(texts), len(train_texts), len(dev_texts)))\n",
    "  train_data = list(zip(train_texts,\n",
    "                      [{'cats': cats} for cats in train_cats]))\n",
    "  return train_data, dev_texts, dev_cats\n",
    "\n",
    "\n",
    "def evaluate(tokenizer, textcat, texts, cats):\n",
    "    docs = (tokenizer(text) for text in texts)\n",
    "    tp = 1e-8  # True positives\n",
    "    fp = 1e-8  # False positives\n",
    "    fn = 1e-8  # False negatives\n",
    "    tn = 1e-8  # True negatives\n",
    "    \n",
    "    for i, doc in enumerate(textcat.pipe(docs)):\n",
    "        gold = cats[i]\n",
    "        for label, score in doc.cats.items():\n",
    "            print (score)\n",
    "            if label not in gold:\n",
    "                continue\n",
    "            if score >= 0.5 and gold[label] >= 0.5:\n",
    "                tp += 1.\n",
    "            elif score >= 0.5 and gold[label] < 0.5:\n",
    "                fp += 1.\n",
    "            elif score < 0.5 and gold[label] < 0.5:\n",
    "                tn += 1\n",
    "            elif score < 0.5 and gold[label] >= 0.5:\n",
    "                fn += 1\n",
    "    \n",
    "    precision = tp / (tp + fp)\n",
    "    recall = tp / (tp + fn)\n",
    "    f_score = 2 * (precision * recall) / (precision + recall)\n",
    "\n",
    "    return {'textcat_p': precision, 'textcat_r': recall, 'textcat_f': f_score}"
   ]
  },
  {
   "cell_type": "code",
   "execution_count": 16,
   "metadata": {
    "scrolled": true
   },
   "outputs": [
    {
     "name": "stdout",
     "output_type": "stream",
     "text": [
      "Using 100 examples (80 training, 20 evaluation)\n",
      "Training the model...\n",
      "iter#\tLOSS \t ROC \n",
      "[{'toxic': False}, {'toxic': False}, {'toxic': False}, {'toxic': False}, {'toxic': False}, {'toxic': True}, {'toxic': False}, {'toxic': False}, {'toxic': False}, {'toxic': False}, {'toxic': False}, {'toxic': False}, {'toxic': False}, {'toxic': False}, {'toxic': False}, {'toxic': False}, {'toxic': False}, {'toxic': False}, {'toxic': False}, {'toxic': False}]\n",
      "[{'toxic': False}, {'toxic': False}, {'toxic': False}, {'toxic': False}, {'toxic': False}, {'toxic': True}, {'toxic': False}, {'toxic': False}, {'toxic': False}, {'toxic': False}, {'toxic': False}, {'toxic': False}, {'toxic': False}, {'toxic': False}, {'toxic': False}, {'toxic': False}, {'toxic': False}, {'toxic': False}, {'toxic': False}, {'toxic': False}]\n",
      "[{'toxic': False}, {'toxic': False}, {'toxic': False}, {'toxic': False}, {'toxic': False}, {'toxic': True}, {'toxic': False}, {'toxic': False}, {'toxic': False}, {'toxic': False}, {'toxic': False}, {'toxic': False}, {'toxic': False}, {'toxic': False}, {'toxic': False}, {'toxic': False}, {'toxic': False}, {'toxic': False}, {'toxic': False}, {'toxic': False}]\n",
      "[{'toxic': False}, {'toxic': False}, {'toxic': False}, {'toxic': False}, {'toxic': False}, {'toxic': True}, {'toxic': False}, {'toxic': False}, {'toxic': False}, {'toxic': False}, {'toxic': False}, {'toxic': False}, {'toxic': False}, {'toxic': False}, {'toxic': False}, {'toxic': False}, {'toxic': False}, {'toxic': False}, {'toxic': False}, {'toxic': False}]\n",
      "[{'toxic': False}, {'toxic': False}, {'toxic': False}, {'toxic': False}, {'toxic': False}, {'toxic': True}, {'toxic': False}, {'toxic': False}, {'toxic': False}, {'toxic': False}, {'toxic': False}, {'toxic': False}, {'toxic': False}, {'toxic': False}, {'toxic': False}, {'toxic': False}, {'toxic': False}, {'toxic': False}, {'toxic': False}, {'toxic': False}]\n",
      "[{'toxic': False}, {'toxic': False}, {'toxic': False}, {'toxic': False}, {'toxic': False}, {'toxic': True}, {'toxic': False}, {'toxic': False}, {'toxic': False}, {'toxic': False}, {'toxic': False}, {'toxic': False}, {'toxic': False}, {'toxic': False}, {'toxic': False}, {'toxic': False}, {'toxic': False}, {'toxic': False}, {'toxic': False}, {'toxic': False}]\n",
      "[{'toxic': False}, {'toxic': False}, {'toxic': False}, {'toxic': False}, {'toxic': False}, {'toxic': True}, {'toxic': False}, {'toxic': False}, {'toxic': False}, {'toxic': False}, {'toxic': False}, {'toxic': False}, {'toxic': False}, {'toxic': False}, {'toxic': False}, {'toxic': False}, {'toxic': False}, {'toxic': False}, {'toxic': False}, {'toxic': False}]\n",
      "[{'toxic': False}, {'toxic': False}, {'toxic': False}, {'toxic': False}, {'toxic': False}, {'toxic': True}, {'toxic': False}, {'toxic': False}, {'toxic': False}, {'toxic': False}, {'toxic': False}, {'toxic': False}, {'toxic': False}, {'toxic': False}, {'toxic': False}, {'toxic': False}, {'toxic': False}, {'toxic': False}, {'toxic': False}, {'toxic': False}]\n",
      "Using 100 examples (80 training, 20 evaluation)\n",
      "Training the model...\n",
      "iter#\tLOSS \t ROC \n",
      "[{'severe_toxic': False}, {'severe_toxic': False}, {'severe_toxic': False}, {'severe_toxic': False}, {'severe_toxic': False}, {'severe_toxic': False}, {'severe_toxic': False}, {'severe_toxic': False}, {'severe_toxic': False}, {'severe_toxic': False}, {'severe_toxic': False}, {'severe_toxic': False}, {'severe_toxic': False}, {'severe_toxic': False}, {'severe_toxic': False}, {'severe_toxic': False}, {'severe_toxic': False}, {'severe_toxic': False}, {'severe_toxic': False}, {'severe_toxic': False}]\n",
      "[{'severe_toxic': False}, {'severe_toxic': False}, {'severe_toxic': False}, {'severe_toxic': False}, {'severe_toxic': False}, {'severe_toxic': False}, {'severe_toxic': False}, {'severe_toxic': False}, {'severe_toxic': False}, {'severe_toxic': False}, {'severe_toxic': False}, {'severe_toxic': False}, {'severe_toxic': False}, {'severe_toxic': False}, {'severe_toxic': False}, {'severe_toxic': False}, {'severe_toxic': False}, {'severe_toxic': False}, {'severe_toxic': False}, {'severe_toxic': False}]\n",
      "[{'severe_toxic': False}, {'severe_toxic': False}, {'severe_toxic': False}, {'severe_toxic': False}, {'severe_toxic': False}, {'severe_toxic': False}, {'severe_toxic': False}, {'severe_toxic': False}, {'severe_toxic': False}, {'severe_toxic': False}, {'severe_toxic': False}, {'severe_toxic': False}, {'severe_toxic': False}, {'severe_toxic': False}, {'severe_toxic': False}, {'severe_toxic': False}, {'severe_toxic': False}, {'severe_toxic': False}, {'severe_toxic': False}, {'severe_toxic': False}]\n",
      "[{'severe_toxic': False}, {'severe_toxic': False}, {'severe_toxic': False}, {'severe_toxic': False}, {'severe_toxic': False}, {'severe_toxic': False}, {'severe_toxic': False}, {'severe_toxic': False}, {'severe_toxic': False}, {'severe_toxic': False}, {'severe_toxic': False}, {'severe_toxic': False}, {'severe_toxic': False}, {'severe_toxic': False}, {'severe_toxic': False}, {'severe_toxic': False}, {'severe_toxic': False}, {'severe_toxic': False}, {'severe_toxic': False}, {'severe_toxic': False}]\n",
      "[{'severe_toxic': False}, {'severe_toxic': False}, {'severe_toxic': False}, {'severe_toxic': False}, {'severe_toxic': False}, {'severe_toxic': False}, {'severe_toxic': False}, {'severe_toxic': False}, {'severe_toxic': False}, {'severe_toxic': False}, {'severe_toxic': False}, {'severe_toxic': False}, {'severe_toxic': False}, {'severe_toxic': False}, {'severe_toxic': False}, {'severe_toxic': False}, {'severe_toxic': False}, {'severe_toxic': False}, {'severe_toxic': False}, {'severe_toxic': False}]\n",
      "[{'severe_toxic': False}, {'severe_toxic': False}, {'severe_toxic': False}, {'severe_toxic': False}, {'severe_toxic': False}, {'severe_toxic': False}, {'severe_toxic': False}, {'severe_toxic': False}, {'severe_toxic': False}, {'severe_toxic': False}, {'severe_toxic': False}, {'severe_toxic': False}, {'severe_toxic': False}, {'severe_toxic': False}, {'severe_toxic': False}, {'severe_toxic': False}, {'severe_toxic': False}, {'severe_toxic': False}, {'severe_toxic': False}, {'severe_toxic': False}]\n",
      "[{'severe_toxic': False}, {'severe_toxic': False}, {'severe_toxic': False}, {'severe_toxic': False}, {'severe_toxic': False}, {'severe_toxic': False}, {'severe_toxic': False}, {'severe_toxic': False}, {'severe_toxic': False}, {'severe_toxic': False}, {'severe_toxic': False}, {'severe_toxic': False}, {'severe_toxic': False}, {'severe_toxic': False}, {'severe_toxic': False}, {'severe_toxic': False}, {'severe_toxic': False}, {'severe_toxic': False}, {'severe_toxic': False}, {'severe_toxic': False}]\n",
      "[{'severe_toxic': False}, {'severe_toxic': False}, {'severe_toxic': False}, {'severe_toxic': False}, {'severe_toxic': False}, {'severe_toxic': False}, {'severe_toxic': False}, {'severe_toxic': False}, {'severe_toxic': False}, {'severe_toxic': False}, {'severe_toxic': False}, {'severe_toxic': False}, {'severe_toxic': False}, {'severe_toxic': False}, {'severe_toxic': False}, {'severe_toxic': False}, {'severe_toxic': False}, {'severe_toxic': False}, {'severe_toxic': False}, {'severe_toxic': False}]\n",
      "Using 100 examples (80 training, 20 evaluation)\n",
      "Training the model...\n",
      "iter#\tLOSS \t ROC \n",
      "[{'obscene': False}, {'obscene': True}, {'obscene': False}, {'obscene': False}, {'obscene': False}, {'obscene': False}, {'obscene': False}, {'obscene': False}, {'obscene': False}, {'obscene': False}, {'obscene': False}, {'obscene': False}, {'obscene': False}, {'obscene': False}, {'obscene': False}, {'obscene': False}, {'obscene': False}, {'obscene': False}, {'obscene': False}, {'obscene': False}]\n",
      "[{'obscene': False}, {'obscene': True}, {'obscene': False}, {'obscene': False}, {'obscene': False}, {'obscene': False}, {'obscene': False}, {'obscene': False}, {'obscene': False}, {'obscene': False}, {'obscene': False}, {'obscene': False}, {'obscene': False}, {'obscene': False}, {'obscene': False}, {'obscene': False}, {'obscene': False}, {'obscene': False}, {'obscene': False}, {'obscene': False}]\n",
      "[{'obscene': False}, {'obscene': True}, {'obscene': False}, {'obscene': False}, {'obscene': False}, {'obscene': False}, {'obscene': False}, {'obscene': False}, {'obscene': False}, {'obscene': False}, {'obscene': False}, {'obscene': False}, {'obscene': False}, {'obscene': False}, {'obscene': False}, {'obscene': False}, {'obscene': False}, {'obscene': False}, {'obscene': False}, {'obscene': False}]\n"
     ]
    },
    {
     "name": "stdout",
     "output_type": "stream",
     "text": [
      "[{'obscene': False}, {'obscene': True}, {'obscene': False}, {'obscene': False}, {'obscene': False}, {'obscene': False}, {'obscene': False}, {'obscene': False}, {'obscene': False}, {'obscene': False}, {'obscene': False}, {'obscene': False}, {'obscene': False}, {'obscene': False}, {'obscene': False}, {'obscene': False}, {'obscene': False}, {'obscene': False}, {'obscene': False}, {'obscene': False}]\n",
      "[{'obscene': False}, {'obscene': True}, {'obscene': False}, {'obscene': False}, {'obscene': False}, {'obscene': False}, {'obscene': False}, {'obscene': False}, {'obscene': False}, {'obscene': False}, {'obscene': False}, {'obscene': False}, {'obscene': False}, {'obscene': False}, {'obscene': False}, {'obscene': False}, {'obscene': False}, {'obscene': False}, {'obscene': False}, {'obscene': False}]\n"
     ]
    },
    {
     "ename": "KeyboardInterrupt",
     "evalue": "",
     "output_type": "error",
     "traceback": [
      "\u001b[0;31m---------------------------------------------------------------------------\u001b[0m",
      "\u001b[0;31mKeyboardInterrupt\u001b[0m                         Traceback (most recent call last)",
      "\u001b[0;32m<ipython-input-16-5d92ac6bd8f9>\u001b[0m in \u001b[0;36m<module>\u001b[0;34m()\u001b[0m\n\u001b[1;32m     12\u001b[0m     \u001b[0;32mfor\u001b[0m \u001b[0mbatch\u001b[0m \u001b[0;32min\u001b[0m \u001b[0mbatches\u001b[0m\u001b[0;34m:\u001b[0m\u001b[0;34m\u001b[0m\u001b[0m\n\u001b[1;32m     13\u001b[0m         \u001b[0mtexts\u001b[0m\u001b[0;34m,\u001b[0m \u001b[0mannotations\u001b[0m \u001b[0;34m=\u001b[0m \u001b[0mzip\u001b[0m\u001b[0;34m(\u001b[0m\u001b[0;34m*\u001b[0m\u001b[0mbatch\u001b[0m\u001b[0;34m)\u001b[0m\u001b[0;34m\u001b[0m\u001b[0m\n\u001b[0;32m---> 14\u001b[0;31m         \u001b[0mnlp\u001b[0m\u001b[0;34m.\u001b[0m\u001b[0mupdate\u001b[0m\u001b[0;34m(\u001b[0m\u001b[0mtexts\u001b[0m\u001b[0;34m,\u001b[0m \u001b[0mannotations\u001b[0m\u001b[0;34m,\u001b[0m \u001b[0msgd\u001b[0m\u001b[0;34m=\u001b[0m\u001b[0moptimizer\u001b[0m\u001b[0;34m,\u001b[0m \u001b[0mdrop\u001b[0m\u001b[0;34m=\u001b[0m\u001b[0;36m0.2\u001b[0m\u001b[0;34m,\u001b[0m \u001b[0mlosses\u001b[0m\u001b[0;34m=\u001b[0m\u001b[0mlosses\u001b[0m\u001b[0;34m)\u001b[0m\u001b[0;34m\u001b[0m\u001b[0m\n\u001b[0m\u001b[1;32m     15\u001b[0m \u001b[0;34m\u001b[0m\u001b[0m\n\u001b[1;32m     16\u001b[0m \u001b[0;31m#     with clf.model.use_params(optimizer.averages):\u001b[0m\u001b[0;34m\u001b[0m\u001b[0;34m\u001b[0m\u001b[0m\n",
      "\u001b[0;32m~/anaconda3/envs/texty/lib/python3.6/site-packages/spacy/language.py\u001b[0m in \u001b[0;36mupdate\u001b[0;34m(self, docs, golds, drop, sgd, losses)\u001b[0m\n\u001b[1;32m    407\u001b[0m             \u001b[0mproc\u001b[0m\u001b[0;34m.\u001b[0m\u001b[0mupdate\u001b[0m\u001b[0;34m(\u001b[0m\u001b[0mdocs\u001b[0m\u001b[0;34m,\u001b[0m \u001b[0mgolds\u001b[0m\u001b[0;34m,\u001b[0m \u001b[0mdrop\u001b[0m\u001b[0;34m=\u001b[0m\u001b[0mdrop\u001b[0m\u001b[0;34m,\u001b[0m \u001b[0msgd\u001b[0m\u001b[0;34m=\u001b[0m\u001b[0mget_grads\u001b[0m\u001b[0;34m,\u001b[0m \u001b[0mlosses\u001b[0m\u001b[0;34m=\u001b[0m\u001b[0mlosses\u001b[0m\u001b[0;34m)\u001b[0m\u001b[0;34m\u001b[0m\u001b[0m\n\u001b[1;32m    408\u001b[0m             \u001b[0;32mfor\u001b[0m \u001b[0mkey\u001b[0m\u001b[0;34m,\u001b[0m \u001b[0;34m(\u001b[0m\u001b[0mW\u001b[0m\u001b[0;34m,\u001b[0m \u001b[0mdW\u001b[0m\u001b[0;34m)\u001b[0m \u001b[0;32min\u001b[0m \u001b[0mgrads\u001b[0m\u001b[0;34m.\u001b[0m\u001b[0mitems\u001b[0m\u001b[0;34m(\u001b[0m\u001b[0;34m)\u001b[0m\u001b[0;34m:\u001b[0m\u001b[0;34m\u001b[0m\u001b[0m\n\u001b[0;32m--> 409\u001b[0;31m                 \u001b[0msgd\u001b[0m\u001b[0;34m(\u001b[0m\u001b[0mW\u001b[0m\u001b[0;34m,\u001b[0m \u001b[0mdW\u001b[0m\u001b[0;34m,\u001b[0m \u001b[0mkey\u001b[0m\u001b[0;34m=\u001b[0m\u001b[0mkey\u001b[0m\u001b[0;34m)\u001b[0m\u001b[0;34m\u001b[0m\u001b[0m\n\u001b[0m\u001b[1;32m    410\u001b[0m \u001b[0;34m\u001b[0m\u001b[0m\n\u001b[1;32m    411\u001b[0m     \u001b[0;32mdef\u001b[0m \u001b[0mpreprocess_gold\u001b[0m\u001b[0;34m(\u001b[0m\u001b[0mself\u001b[0m\u001b[0;34m,\u001b[0m \u001b[0mdocs_golds\u001b[0m\u001b[0;34m)\u001b[0m\u001b[0;34m:\u001b[0m\u001b[0;34m\u001b[0m\u001b[0m\n",
      "\u001b[0;32moptimizers.pyx\u001b[0m in \u001b[0;36mthinc.neural.optimizers.Optimizer.__call__\u001b[0;34m()\u001b[0m\n",
      "\u001b[0;32mops.pyx\u001b[0m in \u001b[0;36mthinc.neural.ops.Ops.clip_gradient\u001b[0;34m()\u001b[0m\n",
      "\u001b[0;32m~/anaconda3/envs/texty/lib/python3.6/site-packages/numpy/linalg/linalg.py\u001b[0m in \u001b[0;36mnorm\u001b[0;34m(x, ord, axis, keepdims)\u001b[0m\n\u001b[1;32m   2165\u001b[0m                 \u001b[0msqnorm\u001b[0m \u001b[0;34m=\u001b[0m \u001b[0mdot\u001b[0m\u001b[0;34m(\u001b[0m\u001b[0mx\u001b[0m\u001b[0;34m.\u001b[0m\u001b[0mreal\u001b[0m\u001b[0;34m,\u001b[0m \u001b[0mx\u001b[0m\u001b[0;34m.\u001b[0m\u001b[0mreal\u001b[0m\u001b[0;34m)\u001b[0m \u001b[0;34m+\u001b[0m \u001b[0mdot\u001b[0m\u001b[0;34m(\u001b[0m\u001b[0mx\u001b[0m\u001b[0;34m.\u001b[0m\u001b[0mimag\u001b[0m\u001b[0;34m,\u001b[0m \u001b[0mx\u001b[0m\u001b[0;34m.\u001b[0m\u001b[0mimag\u001b[0m\u001b[0;34m)\u001b[0m\u001b[0;34m\u001b[0m\u001b[0m\n\u001b[1;32m   2166\u001b[0m             \u001b[0;32melse\u001b[0m\u001b[0;34m:\u001b[0m\u001b[0;34m\u001b[0m\u001b[0m\n\u001b[0;32m-> 2167\u001b[0;31m                 \u001b[0msqnorm\u001b[0m \u001b[0;34m=\u001b[0m \u001b[0mdot\u001b[0m\u001b[0;34m(\u001b[0m\u001b[0mx\u001b[0m\u001b[0;34m,\u001b[0m \u001b[0mx\u001b[0m\u001b[0;34m)\u001b[0m\u001b[0;34m\u001b[0m\u001b[0m\n\u001b[0m\u001b[1;32m   2168\u001b[0m             \u001b[0mret\u001b[0m \u001b[0;34m=\u001b[0m \u001b[0msqrt\u001b[0m\u001b[0;34m(\u001b[0m\u001b[0msqnorm\u001b[0m\u001b[0;34m)\u001b[0m\u001b[0;34m\u001b[0m\u001b[0m\n\u001b[1;32m   2169\u001b[0m             \u001b[0;32mif\u001b[0m \u001b[0mkeepdims\u001b[0m\u001b[0;34m:\u001b[0m\u001b[0;34m\u001b[0m\u001b[0m\n",
      "\u001b[0;31mKeyboardInterrupt\u001b[0m: "
     ]
    }
   ],
   "source": [
    "for cl in class_names:\n",
    "  train_data, dev_texts, dev_cats = preprocess(cl)\n",
    "  nlp, clf, optimizer = create_model(cl)\n",
    "\n",
    "  print(\"Training the model...\")\n",
    "  print('{:^5}\\t{:^5}\\t{:^5}'.format('iter#', 'LOSS', 'ROC'))\n",
    "\n",
    "  for i in range(n_iter):\n",
    "    losses = {}\n",
    "    \n",
    "    batches = minibatch(train_data, size=compounding(4., 16., 1.001))\n",
    "    for batch in batches:\n",
    "        texts, annotations = zip(*batch)\n",
    "        nlp.update(texts, annotations, sgd=optimizer, drop=0.2, losses=losses)\n",
    "    \n",
    "#     with clf.model.use_params(optimizer.averages):\n",
    "#         score = roc_auc_score(dev_cats, annotations)\n",
    "    \n",
    "    print(dev_cats)\n"
   ]
  },
  {
   "cell_type": "code",
   "execution_count": null,
   "metadata": {},
   "outputs": [],
   "source": [
    "# test the trained model\n",
    "test_text = \" i must kill you !\"\n",
    "doc = nlp(test_text)\n",
    "print(test_text, doc.cats)\n"
   ]
  },
  {
   "cell_type": "code",
   "execution_count": null,
   "metadata": {},
   "outputs": [],
   "source": [
    "losses['textcat']"
   ]
  },
  {
   "cell_type": "code",
   "execution_count": null,
   "metadata": {},
   "outputs": [],
   "source": [
    "len(train_data)"
   ]
  },
  {
   "cell_type": "code",
   "execution_count": 12,
   "metadata": {},
   "outputs": [
    {
     "ename": "NameError",
     "evalue": "name 'doc' is not defined",
     "output_type": "error",
     "traceback": [
      "\u001b[0;31m---------------------------------------------------------------------------\u001b[0m",
      "\u001b[0;31mNameError\u001b[0m                                 Traceback (most recent call last)",
      "\u001b[0;32m<ipython-input-12-0400e0b62221>\u001b[0m in \u001b[0;36m<module>\u001b[0;34m()\u001b[0m\n\u001b[0;32m----> 1\u001b[0;31m \u001b[0mdoc\u001b[0m\u001b[0;34m.\u001b[0m\u001b[0mcat\u001b[0m\u001b[0;34m.\u001b[0m\u001b[0mitems\u001b[0m\u001b[0;34m\u001b[0m\u001b[0m\n\u001b[0m",
      "\u001b[0;31mNameError\u001b[0m: name 'doc' is not defined"
     ]
    }
   ],
   "source": [
    "doc.cat.items"
   ]
  },
  {
   "cell_type": "code",
   "execution_count": 14,
   "metadata": {},
   "outputs": [
    {
     "ename": "NameError",
     "evalue": "name 'docs' is not defined",
     "output_type": "error",
     "traceback": [
      "\u001b[0;31m---------------------------------------------------------------------------\u001b[0m",
      "\u001b[0;31mNameError\u001b[0m                                 Traceback (most recent call last)",
      "\u001b[0;32m<ipython-input-14-efcafc3cd217>\u001b[0m in \u001b[0;36m<module>\u001b[0;34m()\u001b[0m\n\u001b[0;32m----> 1\u001b[0;31m \u001b[0ma\u001b[0m \u001b[0;34m=\u001b[0m \u001b[0mclf\u001b[0m\u001b[0;34m.\u001b[0m\u001b[0mpipe\u001b[0m\u001b[0;34m(\u001b[0m\u001b[0mdocs\u001b[0m\u001b[0;34m)\u001b[0m\u001b[0;34m\u001b[0m\u001b[0m\n\u001b[0m",
      "\u001b[0;31mNameError\u001b[0m: name 'docs' is not defined"
     ]
    }
   ],
   "source": [
    "a = clf.pipe(docs)"
   ]
  },
  {
   "cell_type": "code",
   "execution_count": null,
   "metadata": {},
   "outputs": [],
   "source": []
  }
 ],
 "metadata": {
  "kernelspec": {
   "display_name": "Python [conda env:texty]",
   "language": "python",
   "name": "conda-env-texty-py"
  },
  "language_info": {
   "codemirror_mode": {
    "name": "ipython",
    "version": 3
   },
   "file_extension": ".py",
   "mimetype": "text/x-python",
   "name": "python",
   "nbconvert_exporter": "python",
   "pygments_lexer": "ipython3",
   "version": "3.6.4"
  },
  "varInspector": {
   "cols": {
    "lenName": 16,
    "lenType": 16,
    "lenVar": 40
   },
   "kernels_config": {
    "python": {
     "delete_cmd_postfix": "",
     "delete_cmd_prefix": "del ",
     "library": "var_list.py",
     "varRefreshCmd": "print(var_dic_list())"
    },
    "r": {
     "delete_cmd_postfix": ") ",
     "delete_cmd_prefix": "rm(",
     "library": "var_list.r",
     "varRefreshCmd": "cat(var_dic_list()) "
    }
   },
   "position": {
    "height": "503px",
    "left": "1378px",
    "right": "20px",
    "top": "488px",
    "width": "489px"
   },
   "types_to_exclude": [
    "module",
    "function",
    "builtin_function_or_method",
    "instance",
    "_Feature"
   ],
   "window_display": false
  }
 },
 "nbformat": 4,
 "nbformat_minor": 2
}
