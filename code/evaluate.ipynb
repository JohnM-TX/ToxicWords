{
 "cells": [
  {
   "cell_type": "code",
   "execution_count": 15,
   "metadata": {},
   "outputs": [],
   "source": [
    "import numpy as np\n",
    "import pandas as pd\n",
    "from sklearn.metrics import roc_auc_score\n",
    "\n",
    "import os \n",
    "from glob import glob"
   ]
  },
  {
   "cell_type": "code",
   "execution_count": 16,
   "metadata": {},
   "outputs": [
    {
     "data": {
      "text/plain": [
       "['../stacks/out/stack_predsidentity_hate.csv',\n",
       " '../stacks/out/stack_predsinsult.csv',\n",
       " '../stacks/out/stack_predsobscene.csv',\n",
       " '../stacks/out/stack_predssevere_toxic.csv',\n",
       " '../stacks/out/stack_predsthreat.csv',\n",
       " '../stacks/out/stack_predstoxic.csv']"
      ]
     },
     "execution_count": 16,
     "metadata": {},
     "output_type": "execute_result"
    }
   ],
   "source": [
    "# get data\n",
    "files = glob(os.path.join(os.pardir, 'stacks', 'out', '*.*'))"
   ]
  },
  {
   "cell_type": "code",
   "execution_count": 17,
   "metadata": {},
   "outputs": [],
   "source": [
    "sub = pd.read_csv(\"../input/sample_submission.csv\")\n",
    "classes = sorted(sub.columns[-6:])"
   ]
  },
  {
   "cell_type": "code",
   "execution_count": 29,
   "metadata": {},
   "outputs": [],
   "source": [
    "for (c, f) in zip(classes, files):\n",
    "    predsfile = pd.read_csv(f, header=None)\n",
    "    sub[c] = predsfile[[1]].values\n"
   ]
  },
  {
   "cell_type": "code",
   "execution_count": 30,
   "metadata": {},
   "outputs": [
    {
     "data": {
      "text/html": [
       "<div>\n",
       "<style scoped>\n",
       "    .dataframe tbody tr th:only-of-type {\n",
       "        vertical-align: middle;\n",
       "    }\n",
       "\n",
       "    .dataframe tbody tr th {\n",
       "        vertical-align: top;\n",
       "    }\n",
       "\n",
       "    .dataframe thead th {\n",
       "        text-align: right;\n",
       "    }\n",
       "</style>\n",
       "<table border=\"1\" class=\"dataframe\">\n",
       "  <thead>\n",
       "    <tr style=\"text-align: right;\">\n",
       "      <th></th>\n",
       "      <th>id</th>\n",
       "      <th>toxic</th>\n",
       "      <th>severe_toxic</th>\n",
       "      <th>obscene</th>\n",
       "      <th>threat</th>\n",
       "      <th>insult</th>\n",
       "      <th>identity_hate</th>\n",
       "    </tr>\n",
       "  </thead>\n",
       "  <tbody>\n",
       "    <tr>\n",
       "      <th>0</th>\n",
       "      <td>00001cee341fdb12</td>\n",
       "      <td>0.950782</td>\n",
       "      <td>0.999285</td>\n",
       "      <td>0.975934</td>\n",
       "      <td>0.114370</td>\n",
       "      <td>0.413450</td>\n",
       "      <td>0.449235</td>\n",
       "    </tr>\n",
       "    <tr>\n",
       "      <th>1</th>\n",
       "      <td>0000247867823ef7</td>\n",
       "      <td>0.004826</td>\n",
       "      <td>0.000476</td>\n",
       "      <td>0.000183</td>\n",
       "      <td>0.000060</td>\n",
       "      <td>0.000039</td>\n",
       "      <td>0.000674</td>\n",
       "    </tr>\n",
       "    <tr>\n",
       "      <th>2</th>\n",
       "      <td>00013b17ad220c46</td>\n",
       "      <td>0.004323</td>\n",
       "      <td>0.004484</td>\n",
       "      <td>0.002169</td>\n",
       "      <td>0.000046</td>\n",
       "      <td>0.000766</td>\n",
       "      <td>0.000232</td>\n",
       "    </tr>\n",
       "    <tr>\n",
       "      <th>3</th>\n",
       "      <td>00017563c3f7919a</td>\n",
       "      <td>0.000536</td>\n",
       "      <td>0.002644</td>\n",
       "      <td>0.000849</td>\n",
       "      <td>0.000015</td>\n",
       "      <td>0.000395</td>\n",
       "      <td>0.000028</td>\n",
       "    </tr>\n",
       "    <tr>\n",
       "      <th>4</th>\n",
       "      <td>00017695ad8997eb</td>\n",
       "      <td>0.001135</td>\n",
       "      <td>0.003836</td>\n",
       "      <td>0.000205</td>\n",
       "      <td>0.000091</td>\n",
       "      <td>0.000060</td>\n",
       "      <td>0.000042</td>\n",
       "    </tr>\n",
       "  </tbody>\n",
       "</table>\n",
       "</div>"
      ],
      "text/plain": [
       "                 id     toxic  severe_toxic   obscene    threat    insult  \\\n",
       "0  00001cee341fdb12  0.950782      0.999285  0.975934  0.114370  0.413450   \n",
       "1  0000247867823ef7  0.004826      0.000476  0.000183  0.000060  0.000039   \n",
       "2  00013b17ad220c46  0.004323      0.004484  0.002169  0.000046  0.000766   \n",
       "3  00017563c3f7919a  0.000536      0.002644  0.000849  0.000015  0.000395   \n",
       "4  00017695ad8997eb  0.001135      0.003836  0.000205  0.000091  0.000060   \n",
       "\n",
       "   identity_hate  \n",
       "0       0.449235  \n",
       "1       0.000674  \n",
       "2       0.000232  \n",
       "3       0.000028  \n",
       "4       0.000042  "
      ]
     },
     "execution_count": 30,
     "metadata": {},
     "output_type": "execute_result"
    }
   ],
   "source": [
    "sub.head()"
   ]
  },
  {
   "cell_type": "code",
   "execution_count": 32,
   "metadata": {},
   "outputs": [],
   "source": [
    "sub.to_csv(\"../subs/substack001.csv\", index=None)"
   ]
  },
  {
   "cell_type": "code",
   "execution_count": null,
   "metadata": {},
   "outputs": [],
   "source": []
  }
 ],
 "metadata": {
  "kernelspec": {
   "display_name": "Python (base)",
   "language": "python",
   "name": "base"
  },
  "language_info": {
   "codemirror_mode": {
    "name": "ipython",
    "version": 3
   },
   "file_extension": ".py",
   "mimetype": "text/x-python",
   "name": "python",
   "nbconvert_exporter": "python",
   "pygments_lexer": "ipython3",
   "version": "3.6.4"
  },
  "varInspector": {
   "cols": {
    "lenName": 16,
    "lenType": 16,
    "lenVar": 40
   },
   "kernels_config": {
    "python": {
     "delete_cmd_postfix": "",
     "delete_cmd_prefix": "del ",
     "library": "var_list.py",
     "varRefreshCmd": "print(var_dic_list())"
    },
    "r": {
     "delete_cmd_postfix": ") ",
     "delete_cmd_prefix": "rm(",
     "library": "var_list.r",
     "varRefreshCmd": "cat(var_dic_list()) "
    }
   },
   "types_to_exclude": [
    "module",
    "function",
    "builtin_function_or_method",
    "instance",
    "_Feature"
   ],
   "window_display": false
  }
 },
 "nbformat": 4,
 "nbformat_minor": 2
}
