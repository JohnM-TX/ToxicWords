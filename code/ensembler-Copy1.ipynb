{
 "cells": [
  {
   "cell_type": "code",
   "execution_count": null,
   "metadata": {},
   "outputs": [],
   "source": [
    "%autosave 600"
   ]
  },
  {
   "cell_type": "code",
   "execution_count": 1,
   "metadata": {},
   "outputs": [
    {
     "name": "stdout",
     "output_type": "stream",
     "text": [
      "Index(['toxic', 'severe_toxic', 'obscene', 'threat', 'insult',\n",
      "       'identity_hate'],\n",
      "      dtype='object')\n"
     ]
    }
   ],
   "source": [
    "import numpy as np\n",
    "import pandas as pd\n",
    "\n",
    "from scipy.stats import rankdata\n",
    "from sklearn.metrics import roc_auc_score\n",
    "\n",
    "import os \n",
    "from glob import glob\n",
    "\n",
    "train = pd.read_csv('../input/train.csv')\n",
    "test = pd.read_csv('../input/test.csv')\n",
    "\n",
    "classes = train.columns[-6:]\n",
    "print(classes)\n"
   ]
  },
  {
   "cell_type": "code",
   "execution_count": 2,
   "metadata": {},
   "outputs": [],
   "source": [
    "from sklearn.preprocessing import normalize"
   ]
  },
  {
   "cell_type": "code",
   "execution_count": 9,
   "metadata": {},
   "outputs": [
    {
     "data": {
      "text/plain": [
       "['../ensembles/prediction_Capsule.csv',\n",
       " '../ensembles/prediction_DPCNN.csv',\n",
       " '../ensembles/prediction_LSTM.csv',\n",
       " '../ensembles/prediction_lgbm.csv',\n",
       " '../ensembles/preds_bilstmft.csv',\n",
       " '../ensembles/preds_log_reg_sgd.csv',\n",
       " '../ensembles/preds_logreg_liblinear.csv',\n",
       " '../ensembles/preds_logreg_sanket.csv',\n",
       " '../ensembles/preds_lsvc_ftrl.csv',\n",
       " '../ensembles/preds_lsvc_liblinear.csv',\n",
       " '../ensembles/preds_nb_svm.csv']"
      ]
     },
     "execution_count": 9,
     "metadata": {},
     "output_type": "execute_result"
    }
   ],
   "source": [
    "\n",
    "files = glob(os.path.join(os.pardir, 'ensembles', 'pred*.csv'))\n",
    "files = sorted(files)\n",
    "files"
   ]
  },
  {
   "cell_type": "code",
   "execution_count": 4,
   "metadata": {},
   "outputs": [],
   "source": [
    "from sklearn.preprocessing import minmax_scale\n",
    "preds_list = []\n",
    "for i, f in enumerate(files):\n",
    "    vals = pd.read_csv(f, usecols = classes).values\n",
    "    vals = minmax_scale(vals)\n",
    "    preds_list.append(vals)"
   ]
  },
  {
   "cell_type": "code",
   "execution_count": 11,
   "metadata": {},
   "outputs": [],
   "source": [
    "\n",
    "def get_preds(coeffs):\n",
    "    preds = np.zeros_like(preds_list[0])\n",
    "    for c,p in zip(coeffs, preds_list):\n",
    "        for i in range(len(classes)):\n",
    "            preds[:, i] = np.add(preds[:, i], c*(p[:, i]))\n",
    "    preds /= len(preds_list)\n",
    "    labels = train[classes].values\n",
    "    j = 1* roc_auc_score(labels, preds)\n",
    "    # print(coeffs, j, '\\n')\n",
    "    return j\n",
    "                   \n",
    "    \n",
    "carray = np.random.randint(0, 5, (500, len(files)))\n",
    "ncarray = normalize(carray, norm='l1') \n",
    "h = []\n",
    "\n",
    "for i in range(carray.shape[0]):\n",
    "    q = get_preds(carray[i])\n",
    "    h.append(q)\n"
   ]
  },
  {
   "cell_type": "code",
   "execution_count": 12,
   "metadata": {},
   "outputs": [
    {
     "name": "stdout",
     "output_type": "stream",
     "text": [
      "[0.         0.13333333 0.06666667 0.         0.13333333 0.06666667\n",
      " 0.26666667 0.13333333 0.         0.         0.2       ] 0.9885175847191916\n"
     ]
    }
   ],
   "source": [
    "max = np.array(h).argmax()\n",
    "print(ncarray[max], h[max])"
   ]
  },
  {
   "cell_type": "code",
   "execution_count": 10,
   "metadata": {},
   "outputs": [
    {
     "data": {
      "text/plain": [
       "['../ensembles/test_average_Capsule.csv',\n",
       " '../ensembles/test_average_DPCNN.csv',\n",
       " '../ensembles/test_average_LSTM.csv',\n",
       " '../ensembles/test_average_lbgm.csv',\n",
       " '../ensembles/test_bilstmft.csv',\n",
       " '../ensembles/test_log_reg_sgd.csv',\n",
       " '../ensembles/test_logreg_liblinear.csv',\n",
       " '../ensembles/test_logreg_sanket.csv',\n",
       " '../ensembles/test_lsvc_ftrl.csv',\n",
       " '../ensembles/test_lsvc_liblinear.csv',\n",
       " '../ensembles/test_nb_svm.csv']"
      ]
     },
     "execution_count": 10,
     "metadata": {},
     "output_type": "execute_result"
    }
   ],
   "source": [
    "files = glob(os.path.join(os.pardir, 'ensembles', 'test*.csv'))\n",
    "files=sorted(files)\n",
    "files"
   ]
  },
  {
   "cell_type": "code",
   "execution_count": null,
   "metadata": {},
   "outputs": [],
   "source": [
    "from sklearn.preprocessing import minmax_scale\n",
    "preds_list = []\n",
    "for i, f in enumerate(files):\n",
    "    vals = pd.read_csv(f, usecols = classes).values\n",
    "    vals = minmax_scale(vals)\n",
    "    preds_list.append(vals)"
   ]
  },
  {
   "cell_type": "code",
   "execution_count": null,
   "metadata": {},
   "outputs": [],
   "source": [
    "coeffs = ncarray[max]\n",
    "\n",
    "preds = np.zeros_like(preds_list[0])\n",
    "for c,p in zip(coeffs, preds_list):\n",
    "    for i in range(len(classes)):\n",
    "        preds[:, i] = np.add(preds[:, i], c*(p[:, i]))\n",
    "preds /= len(preds_list)\n"
   ]
  },
  {
   "cell_type": "code",
   "execution_count": null,
   "metadata": {},
   "outputs": [],
   "source": [
    "submission = pd.read_csv(\"../input/sample_submission.csv\")\n",
    "# submission[classes] = minmax_scale(preds)\n",
    "submission[classes] = preds\n",
    "submission.to_csv(\"../subs/ens_10models_minmax4.csv\", index = False)"
   ]
  },
  {
   "cell_type": "code",
   "execution_count": null,
   "metadata": {},
   "outputs": [],
   "source": []
  }
 ],
 "metadata": {
  "kernelspec": {
   "display_name": "Python (base)",
   "language": "python",
   "name": "base"
  },
  "language_info": {
   "codemirror_mode": {
    "name": "ipython",
    "version": 3
   },
   "file_extension": ".py",
   "mimetype": "text/x-python",
   "name": "python",
   "nbconvert_exporter": "python",
   "pygments_lexer": "ipython3",
   "version": "3.6.4"
  },
  "varInspector": {
   "cols": {
    "lenName": 16,
    "lenType": 16,
    "lenVar": 40
   },
   "kernels_config": {
    "python": {
     "delete_cmd_postfix": "",
     "delete_cmd_prefix": "del ",
     "library": "var_list.py",
     "varRefreshCmd": "print(var_dic_list())"
    },
    "r": {
     "delete_cmd_postfix": ") ",
     "delete_cmd_prefix": "rm(",
     "library": "var_list.r",
     "varRefreshCmd": "cat(var_dic_list()) "
    }
   },
   "types_to_exclude": [
    "module",
    "function",
    "builtin_function_or_method",
    "instance",
    "_Feature"
   ],
   "window_display": false
  }
 },
 "nbformat": 4,
 "nbformat_minor": 2
}
