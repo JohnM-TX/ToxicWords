{
 "cells": [
  {
   "cell_type": "code",
   "execution_count": 1,
   "metadata": {},
   "outputs": [
    {
     "data": {
      "application/javascript": [
       "IPython.notebook.set_autosave_interval(600000)"
      ]
     },
     "metadata": {},
     "output_type": "display_data"
    },
    {
     "name": "stdout",
     "output_type": "stream",
     "text": [
      "Autosaving every 600 seconds\n"
     ]
    }
   ],
   "source": [
    "%autosave 600"
   ]
  },
  {
   "cell_type": "code",
   "execution_count": 2,
   "metadata": {},
   "outputs": [
    {
     "name": "stdout",
     "output_type": "stream",
     "text": [
      "Index(['toxic', 'severe_toxic', 'obscene', 'threat', 'insult',\n",
      "       'identity_hate'],\n",
      "      dtype='object')\n"
     ]
    }
   ],
   "source": [
    "import numpy as np\n",
    "import pandas as pd\n",
    "\n",
    "from scipy.stats import rankdata\n",
    "from sklearn.metrics import roc_auc_score\n",
    "\n",
    "import os \n",
    "from glob import glob\n",
    "\n",
    "train = pd.read_csv('../input/train.csv')\n",
    "test = pd.read_csv('../input/test.csv')\n",
    "\n",
    "classes = train.columns[-6:]\n",
    "print(classes)\n"
   ]
  },
  {
   "cell_type": "code",
   "execution_count": 33,
   "metadata": {},
   "outputs": [],
   "source": [
    "from sklearn.preprocessing import normalize"
   ]
  },
  {
   "cell_type": "code",
   "execution_count": 3,
   "metadata": {},
   "outputs": [
    {
     "data": {
      "text/plain": [
       "['../ensembles/preds_nb_svm.csv',\n",
       " '../ensembles/prediction_lgbm.csv',\n",
       " '../ensembles/preds_log_reg_sgd.csv',\n",
       " '../ensembles/preds_lsvc_ftrl.csv',\n",
       " '../ensembles/preds_lsvc_liblinear.csv',\n",
       " '../ensembles/preds_bilstmft.csv',\n",
       " '../ensembles/prediction_LSTM.csv',\n",
       " '../ensembles/preds_logreg_sanket.csv',\n",
       " '../ensembles/prediction_DPCNN.csv',\n",
       " '../ensembles/prediction_Capsule.csv',\n",
       " '../ensembles/preds_logreg_liblinear.csv']"
      ]
     },
     "execution_count": 3,
     "metadata": {},
     "output_type": "execute_result"
    }
   ],
   "source": [
    "\n",
    "files = glob(os.path.join(os.pardir, 'ensembles', 'pred*.csv'))\n",
    "# neworder=[2,0,4,1,5,3]\n",
    "# files = [files[n] for n in neworder]\n",
    "files"
   ]
  },
  {
   "cell_type": "code",
   "execution_count": 4,
   "metadata": {},
   "outputs": [],
   "source": [
    "from sklearn.preprocessing import minmax_scale\n",
    "preds_list = []\n",
    "for i, f in enumerate(files):\n",
    "    vals = pd.read_csv(f, usecols = classes).values\n",
    "    vals = minmax_scale(vals)\n",
    "    preds_list.append(vals)"
   ]
  },
  {
   "cell_type": "code",
   "execution_count": null,
   "metadata": {},
   "outputs": [],
   "source": [
    "\n",
    "def get_preds(coeffs):\n",
    "    preds = np.zeros_like(preds_list[0])\n",
    "    for c,p in zip(coeffs, preds_list):\n",
    "        for i in range(len(classes)):\n",
    "            preds[:, i] = np.add(preds[:, i], c*(p[:, i]))\n",
    "    preds /= len(preds_list)\n",
    "    labels = train[classes].values\n",
    "    j = 1* roc_auc_score(labels, preds)\n",
    "    # print(coeffs, j, '\\n')\n",
    "    return j\n",
    "                   \n",
    "    \n",
    "carray = np.random.randint(0, 7, (500, 9))\n",
    "ncarray = normalize(carray, norm='l1') \n",
    "h = []\n",
    "\n",
    "for i in range(carray.shape[0]):\n",
    "    q = get_preds(carray[i])\n",
    "    h.append(q)\n"
   ]
  },
  {
   "cell_type": "code",
   "execution_count": 30,
   "metadata": {},
   "outputs": [
    {
     "name": "stdout",
     "output_type": "stream",
     "text": [
      "[3 2 6 0 3 6 6 1 0] 0.9889096565893668\n"
     ]
    }
   ],
   "source": [
    "max = np.array(h).argmax()\n",
    "print(carray[max], h[max])"
   ]
  },
  {
   "cell_type": "code",
   "execution_count": 32,
   "metadata": {},
   "outputs": [
    {
     "data": {
      "text/plain": [
       "array([[1, 4, 1, ..., 6, 2, 4],\n",
       "       [1, 5, 2, ..., 3, 0, 6],\n",
       "       [5, 2, 0, ..., 4, 4, 1],\n",
       "       ...,\n",
       "       [1, 2, 1, ..., 3, 0, 0],\n",
       "       [2, 5, 2, ..., 6, 0, 6],\n",
       "       [4, 4, 0, ..., 4, 6, 1]])"
      ]
     },
     "execution_count": 32,
     "metadata": {},
     "output_type": "execute_result"
    }
   ],
   "source": [
    "carray"
   ]
  },
  {
   "cell_type": "code",
   "execution_count": 19,
   "metadata": {},
   "outputs": [
    {
     "data": {
      "text/plain": [
       "['../ensembles/test_average_lbgm.csv',\n",
       " '../ensembles/test_lsvc_liblinear.csv',\n",
       " '../ensembles/test_log_reg_sgd.csv',\n",
       " '../ensembles/test_average_Capsule.csv',\n",
       " '../ensembles/test_average_LSTM.csv',\n",
       " '../ensembles/test_logreg_liblinear.csv',\n",
       " '../ensembles/test_nb_svm.csv',\n",
       " '../ensembles/test_bilstmft.csv',\n",
       " '../ensembles/test_logreg_sanket.csv',\n",
       " '../ensembles/test_average_DPCNN.csv']"
      ]
     },
     "execution_count": 19,
     "metadata": {},
     "output_type": "execute_result"
    }
   ],
   "source": [
    "files = glob(os.path.join(os.pardir, 'ensembles', 'test*.csv'))\n",
    "neworder=[6,5,0,9,4,3, 7, 1, 8, 2,]\n",
    "files = [files[n] for n in neworder]\n",
    "files"
   ]
  },
  {
   "cell_type": "code",
   "execution_count": null,
   "metadata": {},
   "outputs": [],
   "source": [
    "from sklearn.preprocessing import minmax_scale\n",
    "preds_list = []\n",
    "for i, f in enumerate(files):\n",
    "    vals = pd.read_csv(f, usecols = classes).values\n",
    "    vals = minmax_scale(vals)\n",
    "    preds_list.append(vals)"
   ]
  },
  {
   "cell_type": "code",
   "execution_count": null,
   "metadata": {},
   "outputs": [],
   "source": [
    "coeffs = carray[max]\n",
    "\n",
    "preds = np.zeros_like(preds_list[0])\n",
    "for c,p in zip(coeffs, preds_list):\n",
    "    for i in range(len(classes)):\n",
    "        preds[:, i] = np.add(preds[:, i], c*(p[:, i]))\n",
    "preds /= len(preds_list)\n",
    "# labels = train[classes].values\n",
    "# roc_auc_score(labels, preds)"
   ]
  },
  {
   "cell_type": "code",
   "execution_count": null,
   "metadata": {},
   "outputs": [],
   "source": [
    "submission = pd.read_csv(\"../input/sample_submission.csv\")\n",
    "# submission[classes] = minmax_scale(preds)\n",
    "submission[classes] = preds\n",
    "submission.to_csv(\"../subs/ens_10models_minmax2.csv\", index = False)"
   ]
  },
  {
   "cell_type": "code",
   "execution_count": null,
   "metadata": {},
   "outputs": [],
   "source": []
  }
 ],
 "metadata": {
  "kernelspec": {
   "display_name": "Python (base)",
   "language": "python",
   "name": "base"
  },
  "language_info": {
   "codemirror_mode": {
    "name": "ipython",
    "version": 3
   },
   "file_extension": ".py",
   "mimetype": "text/x-python",
   "name": "python",
   "nbconvert_exporter": "python",
   "pygments_lexer": "ipython3",
   "version": "3.6.4"
  },
  "varInspector": {
   "cols": {
    "lenName": 16,
    "lenType": 16,
    "lenVar": 40
   },
   "kernels_config": {
    "python": {
     "delete_cmd_postfix": "",
     "delete_cmd_prefix": "del ",
     "library": "var_list.py",
     "varRefreshCmd": "print(var_dic_list())"
    },
    "r": {
     "delete_cmd_postfix": ") ",
     "delete_cmd_prefix": "rm(",
     "library": "var_list.r",
     "varRefreshCmd": "cat(var_dic_list()) "
    }
   },
   "types_to_exclude": [
    "module",
    "function",
    "builtin_function_or_method",
    "instance",
    "_Feature"
   ],
   "window_display": false
  }
 },
 "nbformat": 4,
 "nbformat_minor": 2
}
