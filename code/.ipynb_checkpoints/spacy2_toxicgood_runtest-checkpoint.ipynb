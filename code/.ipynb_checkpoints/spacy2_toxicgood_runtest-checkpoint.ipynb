{
 "cells": [
  {
   "cell_type": "code",
   "execution_count": 1,
   "metadata": {},
   "outputs": [],
   "source": [
    "import numpy as np\n",
    "import pandas as pd\n",
    "import spacy as sp"
   ]
  },
  {
   "cell_type": "code",
   "execution_count": 2,
   "metadata": {},
   "outputs": [],
   "source": [
    "# load data\n",
    "train = pd.read_csv('../input/train.csv')\n",
    "trainX = train['comment_text'].values.tolist()[0:200]\n",
    "\n",
    "test = pd.read_csv('../input/test.csv')\n",
    "testX = test['comment_text'].values.tolist()[0:9]    #####\n",
    "\n",
    "class_names = list(train)[-6:]\n",
    "\n",
    "\n",
    "# make train set for model\n",
    "def load(tox_type):\n",
    "    target = train[tox_type].values.tolist() \n",
    "    cats = [{tox_type: bool(y)} for y in target]\n",
    "    train_data = list(zip(trainX,\n",
    "                          [{'cats': c} for c in cats]))\n",
    "    return train_data"
   ]
  },
  {
   "cell_type": "code",
   "execution_count": 3,
   "metadata": {
    "scrolled": true
   },
   "outputs": [
    {
     "name": "stdout",
     "output_type": "stream",
     "text": [
      "\n",
      "Class toxic:\n",
      "Training the model...\n",
      "Iteration 1 of 4 complete.\n",
      "Iteration 2 of 4 complete.\n",
      "Iteration 3 of 4 complete.\n",
      "Iteration 4 of 4 complete.\n",
      "\n",
      "Class severe_toxic:\n",
      "Training the model...\n",
      "Iteration 1 of 4 complete.\n",
      "Iteration 2 of 4 complete.\n",
      "Iteration 3 of 4 complete.\n",
      "Iteration 4 of 4 complete.\n",
      "\n",
      "Class obscene:\n",
      "Training the model...\n",
      "Iteration 1 of 4 complete.\n",
      "Iteration 2 of 4 complete.\n",
      "Iteration 3 of 4 complete.\n",
      "Iteration 4 of 4 complete.\n",
      "\n",
      "Class threat:\n",
      "Training the model...\n",
      "Iteration 1 of 4 complete.\n",
      "Iteration 2 of 4 complete.\n",
      "Iteration 3 of 4 complete.\n",
      "Iteration 4 of 4 complete.\n",
      "\n",
      "Class insult:\n",
      "Training the model...\n",
      "Iteration 1 of 4 complete.\n",
      "Iteration 2 of 4 complete.\n",
      "Iteration 3 of 4 complete.\n",
      "Iteration 4 of 4 complete.\n",
      "\n",
      "Class identity_hate:\n",
      "Training the model...\n",
      "Iteration 1 of 4 complete.\n",
      "Iteration 2 of 4 complete.\n",
      "Iteration 3 of 4 complete.\n",
      "Iteration 4 of 4 complete.\n"
     ]
    }
   ],
   "source": [
    "n_iter = 4\n",
    "test_preds = np.zeros((len(class_names), len(testX)))       #######\n",
    "\n",
    "for i, tox_type in enumerate(class_names):\n",
    "\n",
    "    train_data = load(tox_type)\n",
    "\n",
    "    nlp = sp.blank('en')\n",
    "    clf = nlp.create_pipe('textcat')\n",
    "    nlp.add_pipe(clf, last=True)\n",
    "    clf.add_label(tox_type)\n",
    "\n",
    "    optimizer = nlp.begin_training()\n",
    "    print(\"\\nClass {}:\".format(tox_type))\n",
    "    print(\"Training the model...\")\n",
    "\n",
    "    \n",
    "    for iter in range(n_iter):\n",
    "        losses = {}\n",
    "        batches = sp.util.minibatch(train_data, size=sp.util.compounding(4., 16., 1.001))\n",
    "        for batch in batches:\n",
    "            texts, annotations = zip(*batch)\n",
    "            nlp.update(texts, annotations, sgd=optimizer, drop=0.2, losses=losses)\n",
    "        print(\"Iteration {} of {} complete.\".format(iter+1, n_iter))\n",
    "\n",
    "\n",
    "    for j, txt in enumerate(testX):\n",
    "        doc = nlp(txt)\n",
    "        test_preds[i, j] = np.fromiter(doc.cats.values(), dtype=float)\n",
    "    \n",
    "    "
   ]
  },
  {
   "cell_type": "code",
   "execution_count": null,
   "metadata": {},
   "outputs": [],
   "source": [
    "print(test_preds)"
   ]
  },
  {
   "cell_type": "code",
   "execution_count": null,
   "metadata": {},
   "outputs": [],
   "source": []
  },
  {
   "cell_type": "code",
   "execution_count": 4,
   "metadata": {},
   "outputs": [
    {
     "data": {
      "text/plain": [
       "(\"Explanation\\nWhy the edits made under my username Hardcore Metallica Fan were reverted? They weren't vandalisms, just closure on some GAs after I voted at New York Dolls FAC. And please don't remove the template from the talk page since I'm retired now.89.205.38.27\",\n",
       " {'cats': {'identity_hate': False}})"
      ]
     },
     "execution_count": 4,
     "metadata": {},
     "output_type": "execute_result"
    }
   ],
   "source": [
    "train_data[0]"
   ]
  },
  {
   "cell_type": "code",
   "execution_count": null,
   "metadata": {},
   "outputs": [],
   "source": []
  }
 ],
 "metadata": {
  "kernelspec": {
   "display_name": "Python [conda env:texty]",
   "language": "python",
   "name": "conda-env-texty-py"
  },
  "language_info": {
   "codemirror_mode": {
    "name": "ipython",
    "version": 3
   },
   "file_extension": ".py",
   "mimetype": "text/x-python",
   "name": "python",
   "nbconvert_exporter": "python",
   "pygments_lexer": "ipython3",
   "version": "3.6.4"
  },
  "varInspector": {
   "cols": {
    "lenName": 16,
    "lenType": 16,
    "lenVar": 40
   },
   "kernels_config": {
    "python": {
     "delete_cmd_postfix": "",
     "delete_cmd_prefix": "del ",
     "library": "var_list.py",
     "varRefreshCmd": "print(var_dic_list())"
    },
    "r": {
     "delete_cmd_postfix": ") ",
     "delete_cmd_prefix": "rm(",
     "library": "var_list.r",
     "varRefreshCmd": "cat(var_dic_list()) "
    }
   },
   "oldHeight": 481.4,
   "position": {
    "height": "40px",
    "left": "863px",
    "right": "20px",
    "top": "123px",
    "width": "490px"
   },
   "types_to_exclude": [
    "module",
    "function",
    "builtin_function_or_method",
    "instance",
    "_Feature"
   ],
   "varInspector_section_display": "none",
   "window_display": true
  }
 },
 "nbformat": 4,
 "nbformat_minor": 2
}
