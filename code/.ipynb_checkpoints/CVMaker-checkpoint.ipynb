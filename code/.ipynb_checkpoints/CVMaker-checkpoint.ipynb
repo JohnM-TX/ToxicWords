{
 "cells": [
  {
   "cell_type": "code",
   "execution_count": 8,
   "metadata": {},
   "outputs": [
    {
     "name": "stderr",
     "output_type": "stream",
     "text": [
      "/home/mjp914/anaconda3/lib/python3.6/site-packages/sklearn/model_selection/_split.py:605: Warning: The least populated class in y has only 1 members, which is too few. The minimum number of members in any class cannot be less than n_splits=5.\n",
      "  % (min_groups, self.n_splits)), Warning)\n"
     ]
    }
   ],
   "source": [
    "# %load CVMaker.py\n",
    "\n",
    "\n",
    "import numpy as np\n",
    "import pandas as pd\n",
    "from sklearn.model_selection import StratifiedKFold\n",
    "\n",
    "train = pd.read_csv(\"../input/train.csv\")\n",
    "\n",
    "# create composite class variable for stratification\n",
    "class_names = list(train)[-6:]\n",
    "multarray = np.array([100000, 10000, 1000, 100, 10, 1])\n",
    "y_multi = np.sum(train[class_names].values * multarray, axis=1)\n",
    "\n",
    "# set splits\n",
    "splits = 8\n",
    "skf = StratifiedKFold(n_splits=splits, shuffle=True, random_state=42)\n",
    "\n",
    "# produce two lists of ids. each list has n items where n is the \n",
    "#    number of folds and each item is a pandas series of indexed id numbers\n",
    "train_ids = [] \n",
    "val_ids = []\n",
    "for i, (train_idx, val_idx) in enumerate(skf.split(np.zeros(train.shape[0]), y_multi)):\n",
    "    train_ids.append(train.loc[train_idx, 'id'])\n",
    "    val_ids.append(train.loc[val_idx, 'id'])\n"
   ]
  },
  {
   "cell_type": "code",
   "execution_count": 9,
   "metadata": {},
   "outputs": [
    {
     "name": "stdout",
     "output_type": "stream",
     "text": [
      "Fold 0 : Trainset length 127638 : Valset length 31933\n"
     ]
    }
   ],
   "source": [
    "\n",
    "# example use\n",
    "for i in range(splits):\n",
    "    train = train[train.id.isin(train_ids[i])]\n",
    "    test = train[train.id.isin(val_ids[i])]\n",
    "    # do stuff with the list\n",
    "    \n",
    "    "
   ]
  },
  {
   "cell_type": "code",
   "execution_count": null,
   "metadata": {},
   "outputs": [],
   "source": []
  },
  {
   "cell_type": "code",
   "execution_count": 13,
   "metadata": {},
   "outputs": [
    {
     "name": "stdout",
     "output_type": "stream",
     "text": [
      "Stored 'trainsplit' (DataFrame)\n",
      "Stored 'valsplit' (DataFrame)\n"
     ]
    }
   ],
   "source": [
    "# %store trainsplit\n",
    "# del trainsplit\n",
    "# %store valsplit\n",
    "# del valsplit"
   ]
  }
 ],
 "metadata": {
  "kernelspec": {
   "display_name": "Python (base)",
   "language": "python",
   "name": "base"
  },
  "language_info": {
   "codemirror_mode": {
    "name": "ipython",
    "version": 3
   },
   "file_extension": ".py",
   "mimetype": "text/x-python",
   "name": "python",
   "nbconvert_exporter": "python",
   "pygments_lexer": "ipython3",
   "version": "3.6.4"
  },
  "varInspector": {
   "cols": {
    "lenName": 16,
    "lenType": 16,
    "lenVar": 40
   },
   "kernels_config": {
    "python": {
     "delete_cmd_postfix": "",
     "delete_cmd_prefix": "del ",
     "library": "var_list.py",
     "varRefreshCmd": "print(var_dic_list())"
    },
    "r": {
     "delete_cmd_postfix": ") ",
     "delete_cmd_prefix": "rm(",
     "library": "var_list.r",
     "varRefreshCmd": "cat(var_dic_list()) "
    }
   },
   "position": {
    "height": "450px",
    "left": "1154px",
    "right": "20px",
    "top": "120px",
    "width": "350px"
   },
   "types_to_exclude": [
    "module",
    "function",
    "builtin_function_or_method",
    "instance",
    "_Feature"
   ],
   "window_display": false
  }
 },
 "nbformat": 4,
 "nbformat_minor": 2
}
