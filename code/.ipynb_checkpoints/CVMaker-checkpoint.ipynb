{
 "cells": [
  {
   "cell_type": "code",
   "execution_count": 1,
   "metadata": {},
   "outputs": [],
   "source": [
    "import numpy as np\n",
    "import pandas as pd\n",
    "from sklearn.model_selection import StratifiedKFold"
   ]
  },
  {
   "cell_type": "code",
   "execution_count": 63,
   "metadata": {},
   "outputs": [],
   "source": [
    "train = pd.read_csv(\"../input/train.csv\")"
   ]
  },
  {
   "cell_type": "code",
   "execution_count": 64,
   "metadata": {},
   "outputs": [],
   "source": [
    "# create composite class variable for stratification\n",
    "class_names = list(train)[-6:]\n",
    "multarray = np.array([100000, 10000, 1000, 100, 10, 1])\n",
    "y_multi = np.sum(train[class_names].values * multarray, axis=1)"
   ]
  },
  {
   "cell_type": "code",
   "execution_count": 65,
   "metadata": {},
   "outputs": [
    {
     "name": "stderr",
     "output_type": "stream",
     "text": [
      "/home/mjp914/anaconda3/lib/python3.6/site-packages/sklearn/model_selection/_split.py:605: Warning: The least populated class in y has only 1 members, which is too few. The minimum number of members in any class cannot be less than n_splits=8.\n",
      "  % (min_groups, self.n_splits)), Warning)\n"
     ]
    }
   ],
   "source": [
    "splits = 8\n",
    "skf = StratifiedKFold(n_splits=splits, shuffle=True, random_state=42)\n",
    "\n",
    "# produce two lists of ids. each list has n items where n is the \n",
    "#    number of folds and each item is a pandas series of indexed id numbers\n",
    "train_ids = [] \n",
    "val_ids = []\n",
    "for i, (train_idx, val_idx) in enumerate(skf.split(np.zeros(train.shape[0]), y_multi)):\n",
    "    train_ids.append(train.loc[train_idx, 'id'])\n",
    "    val_ids.append(train.loc[val_idx, 'id'])\n"
   ]
  },
  {
   "cell_type": "code",
   "execution_count": 75,
   "metadata": {},
   "outputs": [
    {
     "name": "stdout",
     "output_type": "stream",
     "text": [
      "Fold 0 : Trainset length 139608 : Valset length 19963\n",
      "Fold 1 : Trainset length 139618 : Valset length 19953\n",
      "Fold 2 : Trainset length 139613 : Valset length 19958\n",
      "Fold 3 : Trainset length 139629 : Valset length 19942\n",
      "Fold 4 : Trainset length 139622 : Valset length 19949\n",
      "Fold 5 : Trainset length 139631 : Valset length 19940\n",
      "Fold 6 : Trainset length 139636 : Valset length 19935\n",
      "Fold 7 : Trainset length 139640 : Valset length 19931\n"
     ]
    }
   ],
   "source": [
    "# example use\n",
    "for i in range(splits):\n",
    "    trainsplit = train[train.id.isin(train_ids[i])]\n",
    "    valsplit = train[train.id.isin(val_ids[i])]\n",
    "    # do stuff with the current fold....\n",
    "    print('Fold {} : Trainset length {} : Valset length {}'.format(i, trainsplit.shape[0], valsplit.shape[0]))\n",
    "\n"
   ]
  },
  {
   "cell_type": "code",
   "execution_count": 67,
   "metadata": {},
   "outputs": [
    {
     "data": {
      "text/plain": [
       "(159571, 8)"
      ]
     },
     "execution_count": 67,
     "metadata": {},
     "output_type": "execute_result"
    }
   ],
   "source": [
    "trainfold.shape"
   ]
  },
  {
   "cell_type": "code",
   "execution_count": 72,
   "metadata": {},
   "outputs": [
    {
     "data": {
      "text/plain": [
       "0         0000997932d777bf\n",
       "4         0001d958c54c6e35\n",
       "14        00070ef96486d6f9\n",
       "26        000f35deef84dc4a\n",
       "36        00151a9f93c6b059\n",
       "37        0015f4aa35ebe9b5\n",
       "38        00169857adbc989b\n",
       "100       003f698d06c9b180\n",
       "101       003fa0c68deca750\n",
       "103       004176f28a17bf45\n",
       "125       0050cb3bc226f94e\n",
       "132       0053bab79133c0fc\n",
       "134       00548f16a392d8ed\n",
       "136       00562e78e0b34102\n",
       "142       00587c559177dcf2\n",
       "143       005b214511a69b4b\n",
       "155       0060c5c9030b2d14\n",
       "158       0061b075244dd234\n",
       "161       0063dd8f202a698a\n",
       "166       006774d59329b7bd\n",
       "176       006b94add72ed61c\n",
       "182       006eaaaca322e12d\n",
       "202       00803f08f55bdcad\n",
       "204       00822d0d01752c7e\n",
       "209       0083ead5c8afc356\n",
       "218       008e0818dde894fb\n",
       "220       008f1b06428778fe\n",
       "223       008faa76dd3eb890\n",
       "226       00908f946bd2fd05\n",
       "232       009565ee1bc64e68\n",
       "                ...       \n",
       "159299    fbb57e7feb4c31ed\n",
       "159313    fbf3f9ba21c34da6\n",
       "159324    fc1ea55212d1aba2\n",
       "159325    fc25721328916f5b\n",
       "159330    fc34b4d6472ab29d\n",
       "159338    fc42e92fcc044bb1\n",
       "159339    fc45e6257fa7f000\n",
       "159347    fc52b2b5c8fe50e5\n",
       "159358    fc6d45d108129fc8\n",
       "159362    fc76454401108bab\n",
       "159363    fc7c3f16c920ac6a\n",
       "159369    fc90ba07601b3946\n",
       "159378    fcb09a6d428bdb74\n",
       "159384    fcc8e0fe2cdc28a5\n",
       "159393    fcf10a3853d079c4\n",
       "159395    fcf84e06462f4011\n",
       "159401    fd0561bec529ca85\n",
       "159429    fd81a349ba99d1ee\n",
       "159454    fdef8a507439620d\n",
       "159473    fe77e59403ac395e\n",
       "159500    ff045f2933a49ba9\n",
       "159518    ff584fbc543d0df6\n",
       "159535    ff7ef80ee62bbcf6\n",
       "159546    ffb47123b2d82762\n",
       "159548    ffb93b0a0a1e78f9\n",
       "159552    ffbcd64a71775e04\n",
       "159557    ffc7bbb177c3c966\n",
       "159560    ffcdcb71854f6d8a\n",
       "159561    ffd2e85b07b3c7e4\n",
       "159566    ffe987279560d7ff\n",
       "Name: id, Length: 19963, dtype: object"
      ]
     },
     "execution_count": 72,
     "metadata": {},
     "output_type": "execute_result"
    }
   ],
   "source": [
    "val_ids[0]"
   ]
  },
  {
   "cell_type": "code",
   "execution_count": null,
   "metadata": {},
   "outputs": [],
   "source": []
  }
 ],
 "metadata": {
  "kernelspec": {
   "display_name": "Python (base)",
   "language": "python",
   "name": "base"
  },
  "language_info": {
   "codemirror_mode": {
    "name": "ipython",
    "version": 3
   },
   "file_extension": ".py",
   "mimetype": "text/x-python",
   "name": "python",
   "nbconvert_exporter": "python",
   "pygments_lexer": "ipython3",
   "version": "3.6.4"
  },
  "varInspector": {
   "cols": {
    "lenName": 16,
    "lenType": 16,
    "lenVar": 40
   },
   "kernels_config": {
    "python": {
     "delete_cmd_postfix": "",
     "delete_cmd_prefix": "del ",
     "library": "var_list.py",
     "varRefreshCmd": "print(var_dic_list())"
    },
    "r": {
     "delete_cmd_postfix": ") ",
     "delete_cmd_prefix": "rm(",
     "library": "var_list.r",
     "varRefreshCmd": "cat(var_dic_list()) "
    }
   },
   "position": {
    "height": "546px",
    "left": "1154px",
    "right": "20px",
    "top": "120px",
    "width": "350px"
   },
   "types_to_exclude": [
    "module",
    "function",
    "builtin_function_or_method",
    "instance",
    "_Feature"
   ],
   "window_display": false
  }
 },
 "nbformat": 4,
 "nbformat_minor": 2
}
