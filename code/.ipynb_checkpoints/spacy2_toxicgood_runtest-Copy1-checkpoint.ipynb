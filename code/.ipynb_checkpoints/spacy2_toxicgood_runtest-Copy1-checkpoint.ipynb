{
 "cells": [
  {
   "cell_type": "code",
   "execution_count": 1,
   "metadata": {},
   "outputs": [],
   "source": [
    "import numpy as np\n",
    "import pandas as pd\n",
    "import spacy as sp"
   ]
  },
  {
   "cell_type": "code",
   "execution_count": 2,
   "metadata": {},
   "outputs": [],
   "source": [
    "# get data\n",
    "train = pd.read_csv('../input/train.csv')\n",
    "trainX = train['comment_text'].str.replace('[^\\w\\s]','')\n",
    "trainX = trainX.str.lower().values.tolist()\n",
    "\n",
    "test = pd.read_csv('../input/test.csv')\n",
    "testX = test['comment_text'].str.replace('[^\\w\\s]','')\n",
    "testX = testX.str.lower().values.tolist()\n",
    "\n",
    "class_names = list(train)[-6:]\n",
    "\n"
   ]
  },
  {
   "cell_type": "code",
   "execution_count": 3,
   "metadata": {},
   "outputs": [],
   "source": [
    "# create format for model\n",
    "all_cats = []\n",
    "for i in range(len(trainX)):\n",
    "    catlist = {}\n",
    "    for tox_type in class_names:\n",
    "        target = train.loc[i, tox_type] \n",
    "        cat = {tox_type: bool(target)}\n",
    "        catlist.update(cat)\n",
    "    cats = {'cats': catlist}\n",
    "    all_cats.append(cats)\n",
    "train_data = list(zip(trainX, all_cats))"
   ]
  },
  {
   "cell_type": "code",
   "execution_count": 4,
   "metadata": {
    "scrolled": true
   },
   "outputs": [
    {
     "name": "stdout",
     "output_type": "stream",
     "text": [
      "Training the model...\n",
      "Iteration 1 of 6 complete.\n",
      "Iteration 2 of 6 complete.\n",
      "Iteration 3 of 6 complete.\n",
      "Iteration 4 of 6 complete.\n",
      "Iteration 5 of 6 complete.\n",
      "Iteration 6 of 6 complete.\n"
     ]
    }
   ],
   "source": [
    "# start model\n",
    "nlp = sp.blank('en')\n",
    "clf = nlp.create_pipe('textcat')\n",
    "nlp.add_pipe(clf, last=True)\n",
    "\n",
    "for tox_type in class_names:\n",
    "    clf.add_label(tox_type)\n",
    "    \n",
    "optimizer = nlp.begin_training()\n",
    "print(\"Training the model...\")\n",
    "\n",
    "        \n",
    "n_iter = 6    \n",
    "for iter in range(n_iter):\n",
    "    losses = {}\n",
    "    batches = sp.util.minibatch(train_data, size=sp.util.compounding(4., 16., 1.001))\n",
    "    for batch in batches:\n",
    "        texts, annotations = zip(*batch)\n",
    "        nlp.update(texts, annotations, sgd=optimizer, drop=0.2, losses=losses)\n",
    "    print(\"Iteration {} of {} complete.\".format(iter+1, n_iter))\n",
    "\n",
    "\n",
    "    "
   ]
  },
  {
   "cell_type": "code",
   "execution_count": 15,
   "metadata": {
    "scrolled": true
   },
   "outputs": [
    {
     "ename": "IndexError",
     "evalue": "Out of bounds on buffer access (axis 0)",
     "output_type": "error",
     "traceback": [
      "\u001b[0;31m---------------------------------------------------------------------------\u001b[0m",
      "\u001b[0;31mIndexError\u001b[0m                                Traceback (most recent call last)",
      "\u001b[0;32m<ipython-input-15-eed83904f13a>\u001b[0m in \u001b[0;36m<module>\u001b[0;34m()\u001b[0m\n\u001b[1;32m      1\u001b[0m \u001b[0mtest_preds\u001b[0m \u001b[0;34m=\u001b[0m \u001b[0mnp\u001b[0m\u001b[0;34m.\u001b[0m\u001b[0mzeros\u001b[0m\u001b[0;34m(\u001b[0m\u001b[0;34m(\u001b[0m\u001b[0mlen\u001b[0m\u001b[0;34m(\u001b[0m\u001b[0mtestX\u001b[0m\u001b[0;34m)\u001b[0m\u001b[0;34m,\u001b[0m \u001b[0mlen\u001b[0m\u001b[0;34m(\u001b[0m\u001b[0mclass_names\u001b[0m\u001b[0;34m)\u001b[0m\u001b[0;34m)\u001b[0m\u001b[0;34m)\u001b[0m\u001b[0;34m\u001b[0m\u001b[0m\n\u001b[1;32m      2\u001b[0m \u001b[0;32mfor\u001b[0m \u001b[0mi\u001b[0m\u001b[0;34m,\u001b[0m \u001b[0mtxt\u001b[0m \u001b[0;32min\u001b[0m \u001b[0menumerate\u001b[0m\u001b[0;34m(\u001b[0m\u001b[0mtestX\u001b[0m\u001b[0;34m[\u001b[0m\u001b[0;36m0\u001b[0m\u001b[0;34m:\u001b[0m\u001b[0;36m10000\u001b[0m\u001b[0;34m]\u001b[0m\u001b[0;34m)\u001b[0m\u001b[0;34m:\u001b[0m\u001b[0;34m\u001b[0m\u001b[0m\n\u001b[0;32m----> 3\u001b[0;31m     \u001b[0mdoc\u001b[0m \u001b[0;34m=\u001b[0m \u001b[0mnlp\u001b[0m\u001b[0;34m(\u001b[0m\u001b[0mtxt\u001b[0m\u001b[0;34m)\u001b[0m\u001b[0;34m\u001b[0m\u001b[0m\n\u001b[0m\u001b[1;32m      4\u001b[0m     \u001b[0mtemp\u001b[0m \u001b[0;34m=\u001b[0m \u001b[0mnp\u001b[0m\u001b[0;34m.\u001b[0m\u001b[0mfromiter\u001b[0m\u001b[0;34m(\u001b[0m\u001b[0mdoc\u001b[0m\u001b[0;34m.\u001b[0m\u001b[0mcats\u001b[0m\u001b[0;34m.\u001b[0m\u001b[0mvalues\u001b[0m\u001b[0;34m(\u001b[0m\u001b[0;34m)\u001b[0m\u001b[0;34m,\u001b[0m \u001b[0mdtype\u001b[0m\u001b[0;34m=\u001b[0m\u001b[0mfloat\u001b[0m\u001b[0;34m)\u001b[0m\u001b[0;34m\u001b[0m\u001b[0m\n\u001b[1;32m      5\u001b[0m     \u001b[0mtest_preds\u001b[0m\u001b[0;34m[\u001b[0m\u001b[0mi\u001b[0m\u001b[0;34m]\u001b[0m \u001b[0;34m=\u001b[0m \u001b[0;34m(\u001b[0m\u001b[0mtemp\u001b[0m\u001b[0;34m)\u001b[0m\u001b[0;34m\u001b[0m\u001b[0m\n",
      "\u001b[0;32m~/anaconda3/envs/texty/lib/python3.6/site-packages/spacy/language.py\u001b[0m in \u001b[0;36m__call__\u001b[0;34m(self, text, disable)\u001b[0m\n\u001b[1;32m    339\u001b[0m             \u001b[0;32mif\u001b[0m \u001b[0mname\u001b[0m \u001b[0;32min\u001b[0m \u001b[0mdisable\u001b[0m\u001b[0;34m:\u001b[0m\u001b[0;34m\u001b[0m\u001b[0m\n\u001b[1;32m    340\u001b[0m                 \u001b[0;32mcontinue\u001b[0m\u001b[0;34m\u001b[0m\u001b[0m\n\u001b[0;32m--> 341\u001b[0;31m             \u001b[0mdoc\u001b[0m \u001b[0;34m=\u001b[0m \u001b[0mproc\u001b[0m\u001b[0;34m(\u001b[0m\u001b[0mdoc\u001b[0m\u001b[0;34m)\u001b[0m\u001b[0;34m\u001b[0m\u001b[0m\n\u001b[0m\u001b[1;32m    342\u001b[0m         \u001b[0;32mreturn\u001b[0m \u001b[0mdoc\u001b[0m\u001b[0;34m\u001b[0m\u001b[0m\n\u001b[1;32m    343\u001b[0m \u001b[0;34m\u001b[0m\u001b[0m\n",
      "\u001b[0;32mpipeline.pyx\u001b[0m in \u001b[0;36mspacy.pipeline.TextCategorizer.__call__\u001b[0;34m()\u001b[0m\n",
      "\u001b[0;32mpipeline.pyx\u001b[0m in \u001b[0;36mspacy.pipeline.TextCategorizer.predict\u001b[0;34m()\u001b[0m\n",
      "\u001b[0;32m~/anaconda3/envs/texty/lib/python3.6/site-packages/thinc/neural/_classes/model.py\u001b[0m in \u001b[0;36m__call__\u001b[0;34m(self, x)\u001b[0m\n\u001b[1;32m    159\u001b[0m             \u001b[0mMust\u001b[0m \u001b[0mmatch\u001b[0m \u001b[0mexpected\u001b[0m \u001b[0mshape\u001b[0m\u001b[0;34m\u001b[0m\u001b[0m\n\u001b[1;32m    160\u001b[0m         '''\n\u001b[0;32m--> 161\u001b[0;31m         \u001b[0;32mreturn\u001b[0m \u001b[0mself\u001b[0m\u001b[0;34m.\u001b[0m\u001b[0mpredict\u001b[0m\u001b[0;34m(\u001b[0m\u001b[0mx\u001b[0m\u001b[0;34m)\u001b[0m\u001b[0;34m\u001b[0m\u001b[0m\n\u001b[0m\u001b[1;32m    162\u001b[0m \u001b[0;34m\u001b[0m\u001b[0m\n\u001b[1;32m    163\u001b[0m     \u001b[0;32mdef\u001b[0m \u001b[0mpipe\u001b[0m\u001b[0;34m(\u001b[0m\u001b[0mself\u001b[0m\u001b[0;34m,\u001b[0m \u001b[0mstream\u001b[0m\u001b[0;34m,\u001b[0m \u001b[0mbatch_size\u001b[0m\u001b[0;34m=\u001b[0m\u001b[0;36m128\u001b[0m\u001b[0;34m)\u001b[0m\u001b[0;34m:\u001b[0m\u001b[0;34m\u001b[0m\u001b[0m\n",
      "\u001b[0;32m~/anaconda3/envs/texty/lib/python3.6/site-packages/thinc/api.py\u001b[0m in \u001b[0;36mpredict\u001b[0;34m(self, X)\u001b[0m\n\u001b[1;32m     53\u001b[0m     \u001b[0;32mdef\u001b[0m \u001b[0mpredict\u001b[0m\u001b[0;34m(\u001b[0m\u001b[0mself\u001b[0m\u001b[0;34m,\u001b[0m \u001b[0mX\u001b[0m\u001b[0;34m)\u001b[0m\u001b[0;34m:\u001b[0m\u001b[0;34m\u001b[0m\u001b[0m\n\u001b[1;32m     54\u001b[0m         \u001b[0;32mfor\u001b[0m \u001b[0mlayer\u001b[0m \u001b[0;32min\u001b[0m \u001b[0mself\u001b[0m\u001b[0;34m.\u001b[0m\u001b[0m_layers\u001b[0m\u001b[0;34m:\u001b[0m\u001b[0;34m\u001b[0m\u001b[0m\n\u001b[0;32m---> 55\u001b[0;31m             \u001b[0mX\u001b[0m \u001b[0;34m=\u001b[0m \u001b[0mlayer\u001b[0m\u001b[0;34m(\u001b[0m\u001b[0mX\u001b[0m\u001b[0;34m)\u001b[0m\u001b[0;34m\u001b[0m\u001b[0m\n\u001b[0m\u001b[1;32m     56\u001b[0m         \u001b[0;32mreturn\u001b[0m \u001b[0mX\u001b[0m\u001b[0;34m\u001b[0m\u001b[0m\n\u001b[1;32m     57\u001b[0m \u001b[0;34m\u001b[0m\u001b[0m\n",
      "\u001b[0;32m~/anaconda3/envs/texty/lib/python3.6/site-packages/thinc/neural/_classes/model.py\u001b[0m in \u001b[0;36m__call__\u001b[0;34m(self, x)\u001b[0m\n\u001b[1;32m    159\u001b[0m             \u001b[0mMust\u001b[0m \u001b[0mmatch\u001b[0m \u001b[0mexpected\u001b[0m \u001b[0mshape\u001b[0m\u001b[0;34m\u001b[0m\u001b[0m\n\u001b[1;32m    160\u001b[0m         '''\n\u001b[0;32m--> 161\u001b[0;31m         \u001b[0;32mreturn\u001b[0m \u001b[0mself\u001b[0m\u001b[0;34m.\u001b[0m\u001b[0mpredict\u001b[0m\u001b[0;34m(\u001b[0m\u001b[0mx\u001b[0m\u001b[0;34m)\u001b[0m\u001b[0;34m\u001b[0m\u001b[0m\n\u001b[0m\u001b[1;32m    162\u001b[0m \u001b[0;34m\u001b[0m\u001b[0m\n\u001b[1;32m    163\u001b[0m     \u001b[0;32mdef\u001b[0m \u001b[0mpipe\u001b[0m\u001b[0;34m(\u001b[0m\u001b[0mself\u001b[0m\u001b[0;34m,\u001b[0m \u001b[0mstream\u001b[0m\u001b[0;34m,\u001b[0m \u001b[0mbatch_size\u001b[0m\u001b[0;34m=\u001b[0m\u001b[0;36m128\u001b[0m\u001b[0;34m)\u001b[0m\u001b[0;34m:\u001b[0m\u001b[0;34m\u001b[0m\u001b[0m\n",
      "\u001b[0;32m~/anaconda3/envs/texty/lib/python3.6/site-packages/thinc/neural/_classes/model.py\u001b[0m in \u001b[0;36mpredict\u001b[0;34m(self, X)\u001b[0m\n\u001b[1;32m    123\u001b[0m \u001b[0;34m\u001b[0m\u001b[0m\n\u001b[1;32m    124\u001b[0m     \u001b[0;32mdef\u001b[0m \u001b[0mpredict\u001b[0m\u001b[0;34m(\u001b[0m\u001b[0mself\u001b[0m\u001b[0;34m,\u001b[0m \u001b[0mX\u001b[0m\u001b[0;34m)\u001b[0m\u001b[0;34m:\u001b[0m\u001b[0;34m\u001b[0m\u001b[0m\n\u001b[0;32m--> 125\u001b[0;31m         \u001b[0my\u001b[0m\u001b[0;34m,\u001b[0m \u001b[0m_\u001b[0m \u001b[0;34m=\u001b[0m \u001b[0mself\u001b[0m\u001b[0;34m.\u001b[0m\u001b[0mbegin_update\u001b[0m\u001b[0;34m(\u001b[0m\u001b[0mX\u001b[0m\u001b[0;34m)\u001b[0m\u001b[0;34m\u001b[0m\u001b[0m\n\u001b[0m\u001b[1;32m    126\u001b[0m         \u001b[0;32mreturn\u001b[0m \u001b[0my\u001b[0m\u001b[0;34m\u001b[0m\u001b[0m\n\u001b[1;32m    127\u001b[0m \u001b[0;34m\u001b[0m\u001b[0m\n",
      "\u001b[0;32m~/anaconda3/envs/texty/lib/python3.6/site-packages/thinc/api.py\u001b[0m in \u001b[0;36mbegin_update\u001b[0;34m(X, *a, **k)\u001b[0m\n\u001b[1;32m    174\u001b[0m     \u001b[0;32mdef\u001b[0m \u001b[0mbegin_update\u001b[0m\u001b[0;34m(\u001b[0m\u001b[0mX\u001b[0m\u001b[0;34m,\u001b[0m \u001b[0;34m*\u001b[0m\u001b[0ma\u001b[0m\u001b[0;34m,\u001b[0m \u001b[0;34m**\u001b[0m\u001b[0mk\u001b[0m\u001b[0;34m)\u001b[0m\u001b[0;34m:\u001b[0m\u001b[0;34m\u001b[0m\u001b[0m\n\u001b[1;32m    175\u001b[0m         \u001b[0mforward\u001b[0m\u001b[0;34m,\u001b[0m \u001b[0mbackward\u001b[0m \u001b[0;34m=\u001b[0m \u001b[0msplit_backward\u001b[0m\u001b[0;34m(\u001b[0m\u001b[0mlayers\u001b[0m\u001b[0;34m)\u001b[0m\u001b[0;34m\u001b[0m\u001b[0m\n\u001b[0;32m--> 176\u001b[0;31m         \u001b[0mvalues\u001b[0m \u001b[0;34m=\u001b[0m \u001b[0;34m[\u001b[0m\u001b[0mfwd\u001b[0m\u001b[0;34m(\u001b[0m\u001b[0mX\u001b[0m\u001b[0;34m,\u001b[0m \u001b[0;34m*\u001b[0m\u001b[0ma\u001b[0m\u001b[0;34m,\u001b[0m \u001b[0;34m**\u001b[0m\u001b[0mk\u001b[0m\u001b[0;34m)\u001b[0m \u001b[0;32mfor\u001b[0m \u001b[0mfwd\u001b[0m \u001b[0;32min\u001b[0m \u001b[0mforward\u001b[0m\u001b[0;34m]\u001b[0m\u001b[0;34m\u001b[0m\u001b[0m\n\u001b[0m\u001b[1;32m    177\u001b[0m \u001b[0;34m\u001b[0m\u001b[0m\n\u001b[1;32m    178\u001b[0m         \u001b[0moutput\u001b[0m \u001b[0;34m=\u001b[0m \u001b[0mops\u001b[0m\u001b[0;34m.\u001b[0m\u001b[0mxp\u001b[0m\u001b[0;34m.\u001b[0m\u001b[0mhstack\u001b[0m\u001b[0;34m(\u001b[0m\u001b[0mvalues\u001b[0m\u001b[0;34m)\u001b[0m\u001b[0;34m\u001b[0m\u001b[0m\n",
      "\u001b[0;32m~/anaconda3/envs/texty/lib/python3.6/site-packages/thinc/api.py\u001b[0m in \u001b[0;36m<listcomp>\u001b[0;34m(.0)\u001b[0m\n\u001b[1;32m    174\u001b[0m     \u001b[0;32mdef\u001b[0m \u001b[0mbegin_update\u001b[0m\u001b[0;34m(\u001b[0m\u001b[0mX\u001b[0m\u001b[0;34m,\u001b[0m \u001b[0;34m*\u001b[0m\u001b[0ma\u001b[0m\u001b[0;34m,\u001b[0m \u001b[0;34m**\u001b[0m\u001b[0mk\u001b[0m\u001b[0;34m)\u001b[0m\u001b[0;34m:\u001b[0m\u001b[0;34m\u001b[0m\u001b[0m\n\u001b[1;32m    175\u001b[0m         \u001b[0mforward\u001b[0m\u001b[0;34m,\u001b[0m \u001b[0mbackward\u001b[0m \u001b[0;34m=\u001b[0m \u001b[0msplit_backward\u001b[0m\u001b[0;34m(\u001b[0m\u001b[0mlayers\u001b[0m\u001b[0;34m)\u001b[0m\u001b[0;34m\u001b[0m\u001b[0m\n\u001b[0;32m--> 176\u001b[0;31m         \u001b[0mvalues\u001b[0m \u001b[0;34m=\u001b[0m \u001b[0;34m[\u001b[0m\u001b[0mfwd\u001b[0m\u001b[0;34m(\u001b[0m\u001b[0mX\u001b[0m\u001b[0;34m,\u001b[0m \u001b[0;34m*\u001b[0m\u001b[0ma\u001b[0m\u001b[0;34m,\u001b[0m \u001b[0;34m**\u001b[0m\u001b[0mk\u001b[0m\u001b[0;34m)\u001b[0m \u001b[0;32mfor\u001b[0m \u001b[0mfwd\u001b[0m \u001b[0;32min\u001b[0m \u001b[0mforward\u001b[0m\u001b[0;34m]\u001b[0m\u001b[0;34m\u001b[0m\u001b[0m\n\u001b[0m\u001b[1;32m    177\u001b[0m \u001b[0;34m\u001b[0m\u001b[0m\n\u001b[1;32m    178\u001b[0m         \u001b[0moutput\u001b[0m \u001b[0;34m=\u001b[0m \u001b[0mops\u001b[0m\u001b[0;34m.\u001b[0m\u001b[0mxp\u001b[0m\u001b[0;34m.\u001b[0m\u001b[0mhstack\u001b[0m\u001b[0;34m(\u001b[0m\u001b[0mvalues\u001b[0m\u001b[0;34m)\u001b[0m\u001b[0;34m\u001b[0m\u001b[0m\n",
      "\u001b[0;32m~/anaconda3/envs/texty/lib/python3.6/site-packages/thinc/api.py\u001b[0m in \u001b[0;36mwrap\u001b[0;34m(*args, **kwargs)\u001b[0m\n\u001b[1;32m    256\u001b[0m     '''\n\u001b[1;32m    257\u001b[0m     \u001b[0;32mdef\u001b[0m \u001b[0mwrap\u001b[0m\u001b[0;34m(\u001b[0m\u001b[0;34m*\u001b[0m\u001b[0margs\u001b[0m\u001b[0;34m,\u001b[0m \u001b[0;34m**\u001b[0m\u001b[0mkwargs\u001b[0m\u001b[0;34m)\u001b[0m\u001b[0;34m:\u001b[0m\u001b[0;34m\u001b[0m\u001b[0m\n\u001b[0;32m--> 258\u001b[0;31m         \u001b[0moutput\u001b[0m \u001b[0;34m=\u001b[0m \u001b[0mfunc\u001b[0m\u001b[0;34m(\u001b[0m\u001b[0;34m*\u001b[0m\u001b[0margs\u001b[0m\u001b[0;34m,\u001b[0m \u001b[0;34m**\u001b[0m\u001b[0mkwargs\u001b[0m\u001b[0;34m)\u001b[0m\u001b[0;34m\u001b[0m\u001b[0m\n\u001b[0m\u001b[1;32m    259\u001b[0m         \u001b[0;32mif\u001b[0m \u001b[0msplitter\u001b[0m \u001b[0;32mis\u001b[0m \u001b[0;32mNone\u001b[0m\u001b[0;34m:\u001b[0m\u001b[0;34m\u001b[0m\u001b[0m\n\u001b[1;32m    260\u001b[0m             \u001b[0mto_keep\u001b[0m\u001b[0;34m,\u001b[0m \u001b[0mto_sink\u001b[0m \u001b[0;34m=\u001b[0m \u001b[0moutput\u001b[0m\u001b[0;34m\u001b[0m\u001b[0m\n",
      "\u001b[0;32m~/anaconda3/envs/texty/lib/python3.6/site-packages/thinc/api.py\u001b[0m in \u001b[0;36mbegin_update\u001b[0;34m(self, X, drop)\u001b[0m\n\u001b[1;32m     59\u001b[0m         \u001b[0mcallbacks\u001b[0m \u001b[0;34m=\u001b[0m \u001b[0;34m[\u001b[0m\u001b[0;34m]\u001b[0m\u001b[0;34m\u001b[0m\u001b[0m\n\u001b[1;32m     60\u001b[0m         \u001b[0;32mfor\u001b[0m \u001b[0mlayer\u001b[0m \u001b[0;32min\u001b[0m \u001b[0mself\u001b[0m\u001b[0;34m.\u001b[0m\u001b[0m_layers\u001b[0m\u001b[0;34m:\u001b[0m\u001b[0;34m\u001b[0m\u001b[0m\n\u001b[0;32m---> 61\u001b[0;31m             \u001b[0mX\u001b[0m\u001b[0;34m,\u001b[0m \u001b[0minc_layer_grad\u001b[0m \u001b[0;34m=\u001b[0m \u001b[0mlayer\u001b[0m\u001b[0;34m.\u001b[0m\u001b[0mbegin_update\u001b[0m\u001b[0;34m(\u001b[0m\u001b[0mX\u001b[0m\u001b[0;34m,\u001b[0m \u001b[0mdrop\u001b[0m\u001b[0;34m=\u001b[0m\u001b[0mdrop\u001b[0m\u001b[0;34m)\u001b[0m\u001b[0;34m\u001b[0m\u001b[0m\n\u001b[0m\u001b[1;32m     62\u001b[0m             \u001b[0mcallbacks\u001b[0m\u001b[0;34m.\u001b[0m\u001b[0mappend\u001b[0m\u001b[0;34m(\u001b[0m\u001b[0minc_layer_grad\u001b[0m\u001b[0;34m)\u001b[0m\u001b[0;34m\u001b[0m\u001b[0m\n\u001b[1;32m     63\u001b[0m         \u001b[0;32mdef\u001b[0m \u001b[0mcontinue_update\u001b[0m\u001b[0;34m(\u001b[0m\u001b[0mgradient\u001b[0m\u001b[0;34m,\u001b[0m \u001b[0msgd\u001b[0m\u001b[0;34m=\u001b[0m\u001b[0;32mNone\u001b[0m\u001b[0;34m)\u001b[0m\u001b[0;34m:\u001b[0m\u001b[0;34m\u001b[0m\u001b[0m\n",
      "\u001b[0;32mlinear.pyx\u001b[0m in \u001b[0;36mthinc.linear.linear.LinearModel.begin_update\u001b[0;34m()\u001b[0m\n",
      "\u001b[0;31mIndexError\u001b[0m: Out of bounds on buffer access (axis 0)"
     ]
    }
   ],
   "source": [
    "test_preds = np.zeros((len(testX), len(class_names)))\n",
    "batches = sp.util.minibatch(testX)\n",
    "for batch in batches\n",
    "    for i, txt in enumerate(batch):\n",
    "        doc = nlp(txt)\n",
    "        temp = np.fromiter(doc.cats.values(), dtype=float)\n",
    "        test_preds[i] = (temp)"
   ]
  },
  {
   "cell_type": "code",
   "execution_count": 16,
   "metadata": {},
   "outputs": [
    {
     "ename": "IndexError",
     "evalue": "Out of bounds on buffer access (axis 0)",
     "output_type": "error",
     "traceback": [
      "\u001b[0;31m---------------------------------------------------------------------------\u001b[0m",
      "\u001b[0;31mIndexError\u001b[0m                                Traceback (most recent call last)",
      "\u001b[0;32m<ipython-input-16-f8b5cceb7c90>\u001b[0m in \u001b[0;36m<module>\u001b[0;34m()\u001b[0m\n\u001b[1;32m      1\u001b[0m \u001b[0mtest_preds\u001b[0m \u001b[0;34m=\u001b[0m \u001b[0;34m[\u001b[0m\u001b[0;34m]\u001b[0m\u001b[0;34m\u001b[0m\u001b[0m\n\u001b[1;32m      2\u001b[0m \u001b[0;32mfor\u001b[0m \u001b[0mi\u001b[0m\u001b[0;34m,\u001b[0m \u001b[0mtxt\u001b[0m \u001b[0;32min\u001b[0m \u001b[0menumerate\u001b[0m\u001b[0;34m(\u001b[0m\u001b[0mtestX\u001b[0m\u001b[0;34m)\u001b[0m\u001b[0;34m:\u001b[0m\u001b[0;34m\u001b[0m\u001b[0m\n\u001b[0;32m----> 3\u001b[0;31m     \u001b[0mdoc\u001b[0m \u001b[0;34m=\u001b[0m \u001b[0mnlp\u001b[0m\u001b[0;34m(\u001b[0m\u001b[0mtxt\u001b[0m\u001b[0;34m)\u001b[0m\u001b[0;34m\u001b[0m\u001b[0m\n\u001b[0m\u001b[1;32m      4\u001b[0m     \u001b[0mtemp\u001b[0m \u001b[0;34m=\u001b[0m \u001b[0mnp\u001b[0m\u001b[0;34m.\u001b[0m\u001b[0mfromiter\u001b[0m\u001b[0;34m(\u001b[0m\u001b[0mdoc\u001b[0m\u001b[0;34m.\u001b[0m\u001b[0mcats\u001b[0m\u001b[0;34m.\u001b[0m\u001b[0mvalues\u001b[0m\u001b[0;34m(\u001b[0m\u001b[0;34m)\u001b[0m\u001b[0;34m,\u001b[0m \u001b[0mdtype\u001b[0m\u001b[0;34m=\u001b[0m\u001b[0mfloat\u001b[0m\u001b[0;34m)\u001b[0m\u001b[0;34m\u001b[0m\u001b[0m\n\u001b[1;32m      5\u001b[0m     \u001b[0mtest_preds\u001b[0m\u001b[0;34m.\u001b[0m\u001b[0mappend\u001b[0m\u001b[0;34m(\u001b[0m\u001b[0mtemp\u001b[0m\u001b[0;34m)\u001b[0m\u001b[0;34m\u001b[0m\u001b[0m\n",
      "\u001b[0;32m~/anaconda3/envs/texty/lib/python3.6/site-packages/spacy/language.py\u001b[0m in \u001b[0;36m__call__\u001b[0;34m(self, text, disable)\u001b[0m\n\u001b[1;32m    339\u001b[0m             \u001b[0;32mif\u001b[0m \u001b[0mname\u001b[0m \u001b[0;32min\u001b[0m \u001b[0mdisable\u001b[0m\u001b[0;34m:\u001b[0m\u001b[0;34m\u001b[0m\u001b[0m\n\u001b[1;32m    340\u001b[0m                 \u001b[0;32mcontinue\u001b[0m\u001b[0;34m\u001b[0m\u001b[0m\n\u001b[0;32m--> 341\u001b[0;31m             \u001b[0mdoc\u001b[0m \u001b[0;34m=\u001b[0m \u001b[0mproc\u001b[0m\u001b[0;34m(\u001b[0m\u001b[0mdoc\u001b[0m\u001b[0;34m)\u001b[0m\u001b[0;34m\u001b[0m\u001b[0m\n\u001b[0m\u001b[1;32m    342\u001b[0m         \u001b[0;32mreturn\u001b[0m \u001b[0mdoc\u001b[0m\u001b[0;34m\u001b[0m\u001b[0m\n\u001b[1;32m    343\u001b[0m \u001b[0;34m\u001b[0m\u001b[0m\n",
      "\u001b[0;32mpipeline.pyx\u001b[0m in \u001b[0;36mspacy.pipeline.TextCategorizer.__call__\u001b[0;34m()\u001b[0m\n",
      "\u001b[0;32mpipeline.pyx\u001b[0m in \u001b[0;36mspacy.pipeline.TextCategorizer.predict\u001b[0;34m()\u001b[0m\n",
      "\u001b[0;32m~/anaconda3/envs/texty/lib/python3.6/site-packages/thinc/neural/_classes/model.py\u001b[0m in \u001b[0;36m__call__\u001b[0;34m(self, x)\u001b[0m\n\u001b[1;32m    159\u001b[0m             \u001b[0mMust\u001b[0m \u001b[0mmatch\u001b[0m \u001b[0mexpected\u001b[0m \u001b[0mshape\u001b[0m\u001b[0;34m\u001b[0m\u001b[0m\n\u001b[1;32m    160\u001b[0m         '''\n\u001b[0;32m--> 161\u001b[0;31m         \u001b[0;32mreturn\u001b[0m \u001b[0mself\u001b[0m\u001b[0;34m.\u001b[0m\u001b[0mpredict\u001b[0m\u001b[0;34m(\u001b[0m\u001b[0mx\u001b[0m\u001b[0;34m)\u001b[0m\u001b[0;34m\u001b[0m\u001b[0m\n\u001b[0m\u001b[1;32m    162\u001b[0m \u001b[0;34m\u001b[0m\u001b[0m\n\u001b[1;32m    163\u001b[0m     \u001b[0;32mdef\u001b[0m \u001b[0mpipe\u001b[0m\u001b[0;34m(\u001b[0m\u001b[0mself\u001b[0m\u001b[0;34m,\u001b[0m \u001b[0mstream\u001b[0m\u001b[0;34m,\u001b[0m \u001b[0mbatch_size\u001b[0m\u001b[0;34m=\u001b[0m\u001b[0;36m128\u001b[0m\u001b[0;34m)\u001b[0m\u001b[0;34m:\u001b[0m\u001b[0;34m\u001b[0m\u001b[0m\n",
      "\u001b[0;32m~/anaconda3/envs/texty/lib/python3.6/site-packages/thinc/api.py\u001b[0m in \u001b[0;36mpredict\u001b[0;34m(self, X)\u001b[0m\n\u001b[1;32m     53\u001b[0m     \u001b[0;32mdef\u001b[0m \u001b[0mpredict\u001b[0m\u001b[0;34m(\u001b[0m\u001b[0mself\u001b[0m\u001b[0;34m,\u001b[0m \u001b[0mX\u001b[0m\u001b[0;34m)\u001b[0m\u001b[0;34m:\u001b[0m\u001b[0;34m\u001b[0m\u001b[0m\n\u001b[1;32m     54\u001b[0m         \u001b[0;32mfor\u001b[0m \u001b[0mlayer\u001b[0m \u001b[0;32min\u001b[0m \u001b[0mself\u001b[0m\u001b[0;34m.\u001b[0m\u001b[0m_layers\u001b[0m\u001b[0;34m:\u001b[0m\u001b[0;34m\u001b[0m\u001b[0m\n\u001b[0;32m---> 55\u001b[0;31m             \u001b[0mX\u001b[0m \u001b[0;34m=\u001b[0m \u001b[0mlayer\u001b[0m\u001b[0;34m(\u001b[0m\u001b[0mX\u001b[0m\u001b[0;34m)\u001b[0m\u001b[0;34m\u001b[0m\u001b[0m\n\u001b[0m\u001b[1;32m     56\u001b[0m         \u001b[0;32mreturn\u001b[0m \u001b[0mX\u001b[0m\u001b[0;34m\u001b[0m\u001b[0m\n\u001b[1;32m     57\u001b[0m \u001b[0;34m\u001b[0m\u001b[0m\n",
      "\u001b[0;32m~/anaconda3/envs/texty/lib/python3.6/site-packages/thinc/neural/_classes/model.py\u001b[0m in \u001b[0;36m__call__\u001b[0;34m(self, x)\u001b[0m\n\u001b[1;32m    159\u001b[0m             \u001b[0mMust\u001b[0m \u001b[0mmatch\u001b[0m \u001b[0mexpected\u001b[0m \u001b[0mshape\u001b[0m\u001b[0;34m\u001b[0m\u001b[0m\n\u001b[1;32m    160\u001b[0m         '''\n\u001b[0;32m--> 161\u001b[0;31m         \u001b[0;32mreturn\u001b[0m \u001b[0mself\u001b[0m\u001b[0;34m.\u001b[0m\u001b[0mpredict\u001b[0m\u001b[0;34m(\u001b[0m\u001b[0mx\u001b[0m\u001b[0;34m)\u001b[0m\u001b[0;34m\u001b[0m\u001b[0m\n\u001b[0m\u001b[1;32m    162\u001b[0m \u001b[0;34m\u001b[0m\u001b[0m\n\u001b[1;32m    163\u001b[0m     \u001b[0;32mdef\u001b[0m \u001b[0mpipe\u001b[0m\u001b[0;34m(\u001b[0m\u001b[0mself\u001b[0m\u001b[0;34m,\u001b[0m \u001b[0mstream\u001b[0m\u001b[0;34m,\u001b[0m \u001b[0mbatch_size\u001b[0m\u001b[0;34m=\u001b[0m\u001b[0;36m128\u001b[0m\u001b[0;34m)\u001b[0m\u001b[0;34m:\u001b[0m\u001b[0;34m\u001b[0m\u001b[0m\n",
      "\u001b[0;32m~/anaconda3/envs/texty/lib/python3.6/site-packages/thinc/neural/_classes/model.py\u001b[0m in \u001b[0;36mpredict\u001b[0;34m(self, X)\u001b[0m\n\u001b[1;32m    123\u001b[0m \u001b[0;34m\u001b[0m\u001b[0m\n\u001b[1;32m    124\u001b[0m     \u001b[0;32mdef\u001b[0m \u001b[0mpredict\u001b[0m\u001b[0;34m(\u001b[0m\u001b[0mself\u001b[0m\u001b[0;34m,\u001b[0m \u001b[0mX\u001b[0m\u001b[0;34m)\u001b[0m\u001b[0;34m:\u001b[0m\u001b[0;34m\u001b[0m\u001b[0m\n\u001b[0;32m--> 125\u001b[0;31m         \u001b[0my\u001b[0m\u001b[0;34m,\u001b[0m \u001b[0m_\u001b[0m \u001b[0;34m=\u001b[0m \u001b[0mself\u001b[0m\u001b[0;34m.\u001b[0m\u001b[0mbegin_update\u001b[0m\u001b[0;34m(\u001b[0m\u001b[0mX\u001b[0m\u001b[0;34m)\u001b[0m\u001b[0;34m\u001b[0m\u001b[0m\n\u001b[0m\u001b[1;32m    126\u001b[0m         \u001b[0;32mreturn\u001b[0m \u001b[0my\u001b[0m\u001b[0;34m\u001b[0m\u001b[0m\n\u001b[1;32m    127\u001b[0m \u001b[0;34m\u001b[0m\u001b[0m\n",
      "\u001b[0;32m~/anaconda3/envs/texty/lib/python3.6/site-packages/thinc/api.py\u001b[0m in \u001b[0;36mbegin_update\u001b[0;34m(X, *a, **k)\u001b[0m\n\u001b[1;32m    174\u001b[0m     \u001b[0;32mdef\u001b[0m \u001b[0mbegin_update\u001b[0m\u001b[0;34m(\u001b[0m\u001b[0mX\u001b[0m\u001b[0;34m,\u001b[0m \u001b[0;34m*\u001b[0m\u001b[0ma\u001b[0m\u001b[0;34m,\u001b[0m \u001b[0;34m**\u001b[0m\u001b[0mk\u001b[0m\u001b[0;34m)\u001b[0m\u001b[0;34m:\u001b[0m\u001b[0;34m\u001b[0m\u001b[0m\n\u001b[1;32m    175\u001b[0m         \u001b[0mforward\u001b[0m\u001b[0;34m,\u001b[0m \u001b[0mbackward\u001b[0m \u001b[0;34m=\u001b[0m \u001b[0msplit_backward\u001b[0m\u001b[0;34m(\u001b[0m\u001b[0mlayers\u001b[0m\u001b[0;34m)\u001b[0m\u001b[0;34m\u001b[0m\u001b[0m\n\u001b[0;32m--> 176\u001b[0;31m         \u001b[0mvalues\u001b[0m \u001b[0;34m=\u001b[0m \u001b[0;34m[\u001b[0m\u001b[0mfwd\u001b[0m\u001b[0;34m(\u001b[0m\u001b[0mX\u001b[0m\u001b[0;34m,\u001b[0m \u001b[0;34m*\u001b[0m\u001b[0ma\u001b[0m\u001b[0;34m,\u001b[0m \u001b[0;34m**\u001b[0m\u001b[0mk\u001b[0m\u001b[0;34m)\u001b[0m \u001b[0;32mfor\u001b[0m \u001b[0mfwd\u001b[0m \u001b[0;32min\u001b[0m \u001b[0mforward\u001b[0m\u001b[0;34m]\u001b[0m\u001b[0;34m\u001b[0m\u001b[0m\n\u001b[0m\u001b[1;32m    177\u001b[0m \u001b[0;34m\u001b[0m\u001b[0m\n\u001b[1;32m    178\u001b[0m         \u001b[0moutput\u001b[0m \u001b[0;34m=\u001b[0m \u001b[0mops\u001b[0m\u001b[0;34m.\u001b[0m\u001b[0mxp\u001b[0m\u001b[0;34m.\u001b[0m\u001b[0mhstack\u001b[0m\u001b[0;34m(\u001b[0m\u001b[0mvalues\u001b[0m\u001b[0;34m)\u001b[0m\u001b[0;34m\u001b[0m\u001b[0m\n",
      "\u001b[0;32m~/anaconda3/envs/texty/lib/python3.6/site-packages/thinc/api.py\u001b[0m in \u001b[0;36m<listcomp>\u001b[0;34m(.0)\u001b[0m\n\u001b[1;32m    174\u001b[0m     \u001b[0;32mdef\u001b[0m \u001b[0mbegin_update\u001b[0m\u001b[0;34m(\u001b[0m\u001b[0mX\u001b[0m\u001b[0;34m,\u001b[0m \u001b[0;34m*\u001b[0m\u001b[0ma\u001b[0m\u001b[0;34m,\u001b[0m \u001b[0;34m**\u001b[0m\u001b[0mk\u001b[0m\u001b[0;34m)\u001b[0m\u001b[0;34m:\u001b[0m\u001b[0;34m\u001b[0m\u001b[0m\n\u001b[1;32m    175\u001b[0m         \u001b[0mforward\u001b[0m\u001b[0;34m,\u001b[0m \u001b[0mbackward\u001b[0m \u001b[0;34m=\u001b[0m \u001b[0msplit_backward\u001b[0m\u001b[0;34m(\u001b[0m\u001b[0mlayers\u001b[0m\u001b[0;34m)\u001b[0m\u001b[0;34m\u001b[0m\u001b[0m\n\u001b[0;32m--> 176\u001b[0;31m         \u001b[0mvalues\u001b[0m \u001b[0;34m=\u001b[0m \u001b[0;34m[\u001b[0m\u001b[0mfwd\u001b[0m\u001b[0;34m(\u001b[0m\u001b[0mX\u001b[0m\u001b[0;34m,\u001b[0m \u001b[0;34m*\u001b[0m\u001b[0ma\u001b[0m\u001b[0;34m,\u001b[0m \u001b[0;34m**\u001b[0m\u001b[0mk\u001b[0m\u001b[0;34m)\u001b[0m \u001b[0;32mfor\u001b[0m \u001b[0mfwd\u001b[0m \u001b[0;32min\u001b[0m \u001b[0mforward\u001b[0m\u001b[0;34m]\u001b[0m\u001b[0;34m\u001b[0m\u001b[0m\n\u001b[0m\u001b[1;32m    177\u001b[0m \u001b[0;34m\u001b[0m\u001b[0m\n\u001b[1;32m    178\u001b[0m         \u001b[0moutput\u001b[0m \u001b[0;34m=\u001b[0m \u001b[0mops\u001b[0m\u001b[0;34m.\u001b[0m\u001b[0mxp\u001b[0m\u001b[0;34m.\u001b[0m\u001b[0mhstack\u001b[0m\u001b[0;34m(\u001b[0m\u001b[0mvalues\u001b[0m\u001b[0;34m)\u001b[0m\u001b[0;34m\u001b[0m\u001b[0m\n",
      "\u001b[0;32m~/anaconda3/envs/texty/lib/python3.6/site-packages/thinc/api.py\u001b[0m in \u001b[0;36mwrap\u001b[0;34m(*args, **kwargs)\u001b[0m\n\u001b[1;32m    256\u001b[0m     '''\n\u001b[1;32m    257\u001b[0m     \u001b[0;32mdef\u001b[0m \u001b[0mwrap\u001b[0m\u001b[0;34m(\u001b[0m\u001b[0;34m*\u001b[0m\u001b[0margs\u001b[0m\u001b[0;34m,\u001b[0m \u001b[0;34m**\u001b[0m\u001b[0mkwargs\u001b[0m\u001b[0;34m)\u001b[0m\u001b[0;34m:\u001b[0m\u001b[0;34m\u001b[0m\u001b[0m\n\u001b[0;32m--> 258\u001b[0;31m         \u001b[0moutput\u001b[0m \u001b[0;34m=\u001b[0m \u001b[0mfunc\u001b[0m\u001b[0;34m(\u001b[0m\u001b[0;34m*\u001b[0m\u001b[0margs\u001b[0m\u001b[0;34m,\u001b[0m \u001b[0;34m**\u001b[0m\u001b[0mkwargs\u001b[0m\u001b[0;34m)\u001b[0m\u001b[0;34m\u001b[0m\u001b[0m\n\u001b[0m\u001b[1;32m    259\u001b[0m         \u001b[0;32mif\u001b[0m \u001b[0msplitter\u001b[0m \u001b[0;32mis\u001b[0m \u001b[0;32mNone\u001b[0m\u001b[0;34m:\u001b[0m\u001b[0;34m\u001b[0m\u001b[0m\n\u001b[1;32m    260\u001b[0m             \u001b[0mto_keep\u001b[0m\u001b[0;34m,\u001b[0m \u001b[0mto_sink\u001b[0m \u001b[0;34m=\u001b[0m \u001b[0moutput\u001b[0m\u001b[0;34m\u001b[0m\u001b[0m\n",
      "\u001b[0;32m~/anaconda3/envs/texty/lib/python3.6/site-packages/thinc/api.py\u001b[0m in \u001b[0;36mbegin_update\u001b[0;34m(self, X, drop)\u001b[0m\n\u001b[1;32m     59\u001b[0m         \u001b[0mcallbacks\u001b[0m \u001b[0;34m=\u001b[0m \u001b[0;34m[\u001b[0m\u001b[0;34m]\u001b[0m\u001b[0;34m\u001b[0m\u001b[0m\n\u001b[1;32m     60\u001b[0m         \u001b[0;32mfor\u001b[0m \u001b[0mlayer\u001b[0m \u001b[0;32min\u001b[0m \u001b[0mself\u001b[0m\u001b[0;34m.\u001b[0m\u001b[0m_layers\u001b[0m\u001b[0;34m:\u001b[0m\u001b[0;34m\u001b[0m\u001b[0m\n\u001b[0;32m---> 61\u001b[0;31m             \u001b[0mX\u001b[0m\u001b[0;34m,\u001b[0m \u001b[0minc_layer_grad\u001b[0m \u001b[0;34m=\u001b[0m \u001b[0mlayer\u001b[0m\u001b[0;34m.\u001b[0m\u001b[0mbegin_update\u001b[0m\u001b[0;34m(\u001b[0m\u001b[0mX\u001b[0m\u001b[0;34m,\u001b[0m \u001b[0mdrop\u001b[0m\u001b[0;34m=\u001b[0m\u001b[0mdrop\u001b[0m\u001b[0;34m)\u001b[0m\u001b[0;34m\u001b[0m\u001b[0m\n\u001b[0m\u001b[1;32m     62\u001b[0m             \u001b[0mcallbacks\u001b[0m\u001b[0;34m.\u001b[0m\u001b[0mappend\u001b[0m\u001b[0;34m(\u001b[0m\u001b[0minc_layer_grad\u001b[0m\u001b[0;34m)\u001b[0m\u001b[0;34m\u001b[0m\u001b[0m\n\u001b[1;32m     63\u001b[0m         \u001b[0;32mdef\u001b[0m \u001b[0mcontinue_update\u001b[0m\u001b[0;34m(\u001b[0m\u001b[0mgradient\u001b[0m\u001b[0;34m,\u001b[0m \u001b[0msgd\u001b[0m\u001b[0;34m=\u001b[0m\u001b[0;32mNone\u001b[0m\u001b[0;34m)\u001b[0m\u001b[0;34m:\u001b[0m\u001b[0;34m\u001b[0m\u001b[0m\n",
      "\u001b[0;32mlinear.pyx\u001b[0m in \u001b[0;36mthinc.linear.linear.LinearModel.begin_update\u001b[0;34m()\u001b[0m\n",
      "\u001b[0;31mIndexError\u001b[0m: Out of bounds on buffer access (axis 0)"
     ]
    }
   ],
   "source": [
    "test_preds = []\n",
    "for i, txt in enumerate(testX):\n",
    "    doc = nlp(txt)\n",
    "    temp = np.fromiter(doc.cats.values(), dtype=float)\n",
    "    test_preds.append(temp)"
   ]
  },
  {
   "cell_type": "code",
   "execution_count": null,
   "metadata": {},
   "outputs": [],
   "source": [
    "pred_df = pd.DataFrame(test_preds, columns = class_names)"
   ]
  },
  {
   "cell_type": "code",
   "execution_count": null,
   "metadata": {},
   "outputs": [],
   "source": [
    "submission = pd.read_csv(\"../input/sample_submission.csv\")\n",
    "submission[class_names] = pred_df\n",
    "submission.head()\n",
    "submission.to_csv(\"../subs/sub_spacy2.csv\", index=False)"
   ]
  },
  {
   "cell_type": "code",
   "execution_count": 10,
   "metadata": {},
   "outputs": [
    {
     "data": {
      "text/plain": [
       "153164"
      ]
     },
     "execution_count": 10,
     "metadata": {},
     "output_type": "execute_result"
    }
   ],
   "source": [
    "len(testX)"
   ]
  },
  {
   "cell_type": "code",
   "execution_count": 18,
   "metadata": {},
   "outputs": [
    {
     "name": "stdout",
     "output_type": "stream",
     "text": [
      " i must kill you jew boy! {'toxic': 0.8189160823822021, 'severe_toxic': 0.10976621508598328, 'obscene': 0.12333100289106369, 'threat': 0.018847690895199776, 'insult': 0.3530437648296356, 'identity_hate': 0.641996443271637}\n"
     ]
    }
   ],
   "source": [
    "# test the trained model\n",
    "test_text = \" i must kill you jew boy!\"\n",
    "doc = nlp(test_text)\n",
    "print(test_text, doc.cats)"
   ]
  },
  {
   "cell_type": "code",
   "execution_count": 21,
   "metadata": {},
   "outputs": [
    {
     "name": "stdout",
     "output_type": "stream",
     "text": [
      "dict_values([0.11480710655450821, 0.00435399217531085, 0.015478072687983513, 4.539787187241018e-05, 0.028476133942604065, 0.0034778141416609287])\n",
      "dict_values([0.11786646395921707, 0.012342091649770737, 0.0225022304803133, 4.539787187241018e-05, 0.03252966329455376, 0.005241862032562494])\n",
      "dict_values([0.03890296816825867, 0.0016323646996170282, 0.0030763011891394854, 4.539787187241018e-05, 0.00674314284697175, 0.0012302856193855405])\n",
      "dict_values([0.0864296481013298, 0.007888400927186012, 0.014353757724165916, 4.539787187241018e-05, 0.029867585748434067, 0.004056697245687246])\n",
      "dict_values([0.042233679443597794, 0.0018844197038561106, 0.004467296414077282, 4.539787187241018e-05, 0.008082793094217777, 0.0013656046940013766])\n",
      "dict_values([0.022281479090452194, 0.0011471884790807962, 0.002193327760323882, 4.539787187241018e-05, 0.0038893523160368204, 0.0008969513000920415])\n",
      "dict_values([0.014805383048951626, 0.0016693565994501114, 0.002591328229755163, 4.539787187241018e-05, 0.004711631685495377, 0.0008653327240608633])\n",
      "dict_values([0.04479580372571945, 0.0031246019061654806, 0.004347722977399826, 4.539787187241018e-05, 0.008542060852050781, 0.001978380372747779])\n",
      "dict_values([0.03890296816825867, 0.0016323646996170282, 0.0030763011891394854, 4.539787187241018e-05, 0.00674314284697175, 0.0012302856193855405])\n",
      "dict_values([0.07361727207899094, 0.004330021794885397, 0.006725393235683441, 4.539787187241018e-05, 0.01223963126540184, 0.002054066164419055])\n",
      "dict_values([0.2580791413784027, 0.0173860564827919, 0.05083079636096954, 0.0002546400355640799, 0.08451355993747711, 0.016442900523543358])\n",
      "dict_values([0.03890296816825867, 0.0016323646996170282, 0.0030763011891394854, 4.539787187241018e-05, 0.00674314284697175, 0.0012302856193855405])\n",
      "dict_values([0.0551375076174736, 0.003157247556373477, 0.005919999442994595, 4.539787187241018e-05, 0.012086121365427971, 0.0041060373187065125])\n",
      "dict_values([0.2011221945285797, 0.010261359624564648, 0.026671892032027245, 4.539787187241018e-05, 0.05270978435873985, 0.005875907838344574])\n",
      "dict_values([0.038132309913635254, 0.0017904225969687104, 0.0026526255533099174, 4.539787187241018e-05, 0.005544756073504686, 0.0006853293161839247])\n",
      "dict_values([0.02606717310845852, 0.0011605340987443924, 0.002078633988276124, 4.539787187241018e-05, 0.004166835453361273, 0.000896348909009248])\n",
      "dict_values([0.03890296816825867, 0.0016323646996170282, 0.0030763011891394854, 4.539787187241018e-05, 0.00674314284697175, 0.0012302856193855405])\n",
      "dict_values([0.042233679443597794, 0.0018844197038561106, 0.004467296414077282, 4.539787187241018e-05, 0.008082793094217777, 0.0013656046940013766])\n",
      "dict_values([0.03304434195160866, 0.001341545837931335, 0.0034276065416634083, 4.539787187241018e-05, 0.005719159264117479, 0.0015673767775297165])\n",
      "dict_values([0.03890296816825867, 0.0016323646996170282, 0.0030763011891394854, 4.539787187241018e-05, 0.00674314284697175, 0.0012302856193855405])\n",
      "dict_values([0.02235550805926323, 0.0007713307277299464, 0.0021013582590967417, 4.539787187241018e-05, 0.003311940934509039, 0.0007243417203426361])\n",
      "dict_values([0.11786646395921707, 0.012342091649770737, 0.0225022304803133, 4.539787187241018e-05, 0.03252966329455376, 0.005241862032562494])\n",
      "dict_values([0.0551375076174736, 0.003157247556373477, 0.005919999442994595, 4.539787187241018e-05, 0.012086121365427971, 0.0041060373187065125])\n",
      "dict_values([0.02606717310845852, 0.0011605340987443924, 0.002078633988276124, 4.539787187241018e-05, 0.004166835453361273, 0.000896348909009248])\n",
      "dict_values([0.03890296816825867, 0.0016323646996170282, 0.0030763011891394854, 4.539787187241018e-05, 0.00674314284697175, 0.0012302856193855405])\n",
      "dict_values([0.03304434195160866, 0.001341545837931335, 0.0034276065416634083, 4.539787187241018e-05, 0.005719159264117479, 0.0015673767775297165])\n",
      "dict_values([0.2011221945285797, 0.010261359624564648, 0.026671892032027245, 4.539787187241018e-05, 0.05270978435873985, 0.005875907838344574])\n",
      "dict_values([0.014805383048951626, 0.0016693565994501114, 0.002591328229755163, 4.539787187241018e-05, 0.004711631685495377, 0.0008653327240608633])\n",
      "dict_values([0.014805383048951626, 0.0016693565994501114, 0.002591328229755163, 4.539787187241018e-05, 0.004711631685495377, 0.0008653327240608633])\n",
      "dict_values([0.02606717310845852, 0.0011605340987443924, 0.002078633988276124, 4.539787187241018e-05, 0.004166835453361273, 0.000896348909009248])\n",
      "dict_values([0.03304434195160866, 0.001341545837931335, 0.0034276065416634083, 4.539787187241018e-05, 0.005719159264117479, 0.0015673767775297165])\n",
      "dict_values([0.7353827357292175, 0.0769992396235466, 0.3541794419288635, 0.017673777416348457, 0.2526688277721405, 0.0492827333509922])\n",
      "dict_values([0.2011221945285797, 0.010261359624564648, 0.026671892032027245, 4.539787187241018e-05, 0.05270978435873985, 0.005875907838344574])\n",
      "dict_values([0.038132309913635254, 0.0017904225969687104, 0.0026526255533099174, 4.539787187241018e-05, 0.005544756073504686, 0.0006853293161839247])\n",
      "dict_values([0.03890296816825867, 0.0016323646996170282, 0.0030763011891394854, 4.539787187241018e-05, 0.00674314284697175, 0.0012302856193855405])\n",
      "dict_values([0.022281479090452194, 0.0011471884790807962, 0.002193327760323882, 4.539787187241018e-05, 0.0038893523160368204, 0.0008969513000920415])\n",
      "dict_values([0.04479580372571945, 0.0031246019061654806, 0.004347722977399826, 4.539787187241018e-05, 0.008542060852050781, 0.001978380372747779])\n",
      "dict_values([0.02606717310845852, 0.0011605340987443924, 0.002078633988276124, 4.539787187241018e-05, 0.004166835453361273, 0.000896348909009248])\n",
      "dict_values([0.03774270415306091, 0.0013094516471028328, 0.004552648402750492, 4.539787187241018e-05, 0.0068885087966918945, 0.001225547632202506])\n",
      "dict_values([0.03890296816825867, 0.0016323646996170282, 0.0030763011891394854, 4.539787187241018e-05, 0.00674314284697175, 0.0012302856193855405])\n",
      "dict_values([0.11480710655450821, 0.00435399217531085, 0.015478072687983513, 4.539787187241018e-05, 0.028476133942604065, 0.0034778141416609287])\n",
      "dict_values([0.11786646395921707, 0.012342091649770737, 0.0225022304803133, 4.539787187241018e-05, 0.03252966329455376, 0.005241862032562494])\n",
      "dict_values([0.2011221945285797, 0.010261359624564648, 0.026671892032027245, 4.539787187241018e-05, 0.05270978435873985, 0.005875907838344574])\n",
      "dict_values([0.038132309913635254, 0.0017904225969687104, 0.0026526255533099174, 4.539787187241018e-05, 0.005544756073504686, 0.0006853293161839247])\n",
      "dict_values([0.038132309913635254, 0.0017904225969687104, 0.0026526255533099174, 4.539787187241018e-05, 0.005544756073504686, 0.0006853293161839247])\n",
      "dict_values([0.03890296816825867, 0.0016323646996170282, 0.0030763011891394854, 4.539787187241018e-05, 0.00674314284697175, 0.0012302856193855405])\n",
      "dict_values([0.02606717310845852, 0.0011605340987443924, 0.002078633988276124, 4.539787187241018e-05, 0.004166835453361273, 0.000896348909009248])\n",
      "dict_values([0.01596013270318508, 0.000948097207583487, 0.0021444479934871197, 4.539787187241018e-05, 0.003631737781688571, 0.0007763381581753492])\n",
      "dict_values([0.02606717310845852, 0.0011605340987443924, 0.002078633988276124, 4.539787187241018e-05, 0.004166835453361273, 0.000896348909009248])\n",
      "dict_values([0.0551375076174736, 0.003157247556373477, 0.005919999442994595, 4.539787187241018e-05, 0.012086121365427971, 0.0041060373187065125])\n",
      "dict_values([0.03890296816825867, 0.0016323646996170282, 0.0030763011891394854, 4.539787187241018e-05, 0.00674314284697175, 0.0012302856193855405])\n",
      "dict_values([0.0864296481013298, 0.007888400927186012, 0.014353757724165916, 4.539787187241018e-05, 0.029867585748434067, 0.004056697245687246])\n",
      "dict_values([0.02606717310845852, 0.0011605340987443924, 0.002078633988276124, 4.539787187241018e-05, 0.004166835453361273, 0.000896348909009248])\n",
      "dict_values([0.03890296816825867, 0.0016323646996170282, 0.0030763011891394854, 4.539787187241018e-05, 0.00674314284697175, 0.0012302856193855405])\n",
      "dict_values([0.01923454739153385, 0.0009856654796749353, 0.002080434001982212, 4.539787187241018e-05, 0.005256250035017729, 0.0007156687788665295])\n",
      "dict_values([0.04479580372571945, 0.0031246019061654806, 0.004347722977399826, 4.539787187241018e-05, 0.008542060852050781, 0.001978380372747779])\n",
      "dict_values([0.2580791413784027, 0.0173860564827919, 0.05083079636096954, 0.0002546400355640799, 0.08451355993747711, 0.016442900523543358])\n",
      "dict_values([0.022281479090452194, 0.0011471884790807962, 0.002193327760323882, 4.539787187241018e-05, 0.0038893523160368204, 0.0008969513000920415])\n",
      "dict_values([0.03304434195160866, 0.001341545837931335, 0.0034276065416634083, 4.539787187241018e-05, 0.005719159264117479, 0.0015673767775297165])\n",
      "dict_values([0.03890296816825867, 0.0016323646996170282, 0.0030763011891394854, 4.539787187241018e-05, 0.00674314284697175, 0.0012302856193855405])\n",
      "dict_values([0.2011221945285797, 0.010261359624564648, 0.026671892032027245, 4.539787187241018e-05, 0.05270978435873985, 0.005875907838344574])\n",
      "dict_values([0.044412944465875626, 0.0017401924123987556, 0.0027595898136496544, 4.539787187241018e-05, 0.00363996927626431, 0.0005747741088271141])\n",
      "dict_values([0.03890296816825867, 0.0016323646996170282, 0.0030763011891394854, 4.539787187241018e-05, 0.00674314284697175, 0.0012302856193855405])\n",
      "dict_values([0.01923454739153385, 0.0009856654796749353, 0.002080434001982212, 4.539787187241018e-05, 0.005256250035017729, 0.0007156687788665295])\n",
      "dict_values([0.042233679443597794, 0.0018844197038561106, 0.004467296414077282, 4.539787187241018e-05, 0.008082793094217777, 0.0013656046940013766])\n",
      "dict_values([0.022281479090452194, 0.0011471884790807962, 0.002193327760323882, 4.539787187241018e-05, 0.0038893523160368204, 0.0008969513000920415])\n",
      "dict_values([0.04479580372571945, 0.0031246019061654806, 0.004347722977399826, 4.539787187241018e-05, 0.008542060852050781, 0.001978380372747779])\n",
      "dict_values([0.03890296816825867, 0.0016323646996170282, 0.0030763011891394854, 4.539787187241018e-05, 0.00674314284697175, 0.0012302856193855405])\n",
      "dict_values([0.11480710655450821, 0.00435399217531085, 0.015478072687983513, 4.539787187241018e-05, 0.028476133942604065, 0.0034778141416609287])\n",
      "dict_values([0.11786646395921707, 0.012342091649770737, 0.0225022304803133, 4.539787187241018e-05, 0.03252966329455376, 0.005241862032562494])\n",
      "dict_values([0.2011221945285797, 0.010261359624564648, 0.026671892032027245, 4.539787187241018e-05, 0.05270978435873985, 0.005875907838344574])\n",
      "dict_values([0.03890296816825867, 0.0016323646996170282, 0.0030763011891394854, 4.539787187241018e-05, 0.00674314284697175, 0.0012302856193855405])\n",
      "dict_values([0.2580791413784027, 0.0173860564827919, 0.05083079636096954, 0.0002546400355640799, 0.08451355993747711, 0.016442900523543358])\n",
      "dict_values([0.03774270415306091, 0.0013094516471028328, 0.004552648402750492, 4.539787187241018e-05, 0.0068885087966918945, 0.001225547632202506])\n",
      "dict_values([0.02883150801062584, 0.0020181965082883835, 0.0033826802391558886, 4.539787187241018e-05, 0.00616384856402874, 0.001466102316044271])\n",
      "dict_values([0.03890296816825867, 0.0016323646996170282, 0.0030763011891394854, 4.539787187241018e-05, 0.00674314284697175, 0.0012302856193855405])\n",
      "dict_values([0.04479580372571945, 0.0031246019061654806, 0.004347722977399826, 4.539787187241018e-05, 0.008542060852050781, 0.001978380372747779])\n",
      "dict_values([0.2580791413784027, 0.0173860564827919, 0.05083079636096954, 0.0002546400355640799, 0.08451355993747711, 0.016442900523543358])\n",
      "dict_values([0.022281479090452194, 0.0011471884790807962, 0.002193327760323882, 4.539787187241018e-05, 0.0038893523160368204, 0.0008969513000920415])\n",
      "dict_values([0.042233679443597794, 0.0018844197038561106, 0.004467296414077282, 4.539787187241018e-05, 0.008082793094217777, 0.0013656046940013766])\n",
      "dict_values([0.03774270415306091, 0.0013094516471028328, 0.004552648402750492, 4.539787187241018e-05, 0.0068885087966918945, 0.001225547632202506])\n",
      "dict_values([0.030340541154146194, 0.0009458194836042821, 0.0027765855193138123, 4.539787187241018e-05, 0.0051192124374210835, 0.0016342392191290855])\n",
      "dict_values([0.03890296816825867, 0.0016323646996170282, 0.0030763011891394854, 4.539787187241018e-05, 0.00674314284697175, 0.0012302856193855405])\n",
      "dict_values([0.11480710655450821, 0.00435399217531085, 0.015478072687983513, 4.539787187241018e-05, 0.028476133942604065, 0.0034778141416609287])\n",
      "dict_values([0.11786646395921707, 0.012342091649770737, 0.0225022304803133, 4.539787187241018e-05, 0.03252966329455376, 0.005241862032562494])\n",
      "dict_values([0.2011221945285797, 0.010261359624564648, 0.026671892032027245, 4.539787187241018e-05, 0.05270978435873985, 0.005875907838344574])\n",
      "dict_values([0.03890296816825867, 0.0016323646996170282, 0.0030763011891394854, 4.539787187241018e-05, 0.00674314284697175, 0.0012302856193855405])\n",
      "dict_values([0.03304434195160866, 0.001341545837931335, 0.0034276065416634083, 4.539787187241018e-05, 0.005719159264117479, 0.0015673767775297165])\n",
      "dict_values([0.2580791413784027, 0.0173860564827919, 0.05083079636096954, 0.0002546400355640799, 0.08451355993747711, 0.016442900523543358])\n",
      "dict_values([0.02883150801062584, 0.0020181965082883835, 0.0033826802391558886, 4.539787187241018e-05, 0.00616384856402874, 0.001466102316044271])\n",
      "dict_values([0.03890296816825867, 0.0016323646996170282, 0.0030763011891394854, 4.539787187241018e-05, 0.00674314284697175, 0.0012302856193855405])\n",
      "dict_values([0.02235550805926323, 0.0007713307277299464, 0.0021013582590967417, 4.539787187241018e-05, 0.003311940934509039, 0.0007243417203426361])\n",
      "dict_values([0.11786646395921707, 0.012342091649770737, 0.0225022304803133, 4.539787187241018e-05, 0.03252966329455376, 0.005241862032562494])\n",
      "dict_values([0.7353827357292175, 0.0769992396235466, 0.3541794419288635, 0.017673777416348457, 0.2526688277721405, 0.0492827333509922])\n",
      "dict_values([0.2011221945285797, 0.010261359624564648, 0.026671892032027245, 4.539787187241018e-05, 0.05270978435873985, 0.005875907838344574])\n",
      "dict_values([0.014805383048951626, 0.0016693565994501114, 0.002591328229755163, 4.539787187241018e-05, 0.004711631685495377, 0.0008653327240608633])\n",
      "dict_values([0.13124993443489075, 0.004000196233391762, 0.00997664500027895, 4.539787187241018e-05, 0.028757665306329727, 0.003711605677381158])\n",
      "dict_values([0.2580791413784027, 0.0173860564827919, 0.05083079636096954, 0.0002546400355640799, 0.08451355993747711, 0.016442900523543358])\n",
      "dict_values([0.03304434195160866, 0.001341545837931335, 0.0034276065416634083, 4.539787187241018e-05, 0.005719159264117479, 0.0015673767775297165])\n",
      "dict_values([0.042233679443597794, 0.0018844197038561106, 0.004467296414077282, 4.539787187241018e-05, 0.008082793094217777, 0.0013656046940013766])\n",
      "dict_values([0.03890296816825867, 0.0016323646996170282, 0.0030763011891394854, 4.539787187241018e-05, 0.00674314284697175, 0.0012302856193855405])\n",
      "dict_values([0.03304434195160866, 0.001341545837931335, 0.0034276065416634083, 4.539787187241018e-05, 0.005719159264117479, 0.0015673767775297165])\n",
      "dict_values([0.04479580372571945, 0.0031246019061654806, 0.004347722977399826, 4.539787187241018e-05, 0.008542060852050781, 0.001978380372747779])\n",
      "dict_values([0.11786646395921707, 0.012342091649770737, 0.0225022304803133, 4.539787187241018e-05, 0.03252966329455376, 0.005241862032562494])\n",
      "dict_values([0.2011221945285797, 0.010261359624564648, 0.026671892032027245, 4.539787187241018e-05, 0.05270978435873985, 0.005875907838344574])\n",
      "dict_values([0.038132309913635254, 0.0017904225969687104, 0.0026526255533099174, 4.539787187241018e-05, 0.005544756073504686, 0.0006853293161839247])\n",
      "dict_values([0.02883150801062584, 0.0020181965082883835, 0.0033826802391558886, 4.539787187241018e-05, 0.00616384856402874, 0.001466102316044271])\n",
      "dict_values([0.03890296816825867, 0.0016323646996170282, 0.0030763011891394854, 4.539787187241018e-05, 0.00674314284697175, 0.0012302856193855405])\n",
      "dict_values([0.0864296481013298, 0.007888400927186012, 0.014353757724165916, 4.539787187241018e-05, 0.029867585748434067, 0.004056697245687246])\n",
      "dict_values([0.042233679443597794, 0.0018844197038561106, 0.004467296414077282, 4.539787187241018e-05, 0.008082793094217777, 0.0013656046940013766])\n",
      "dict_values([0.022281479090452194, 0.0011471884790807962, 0.002193327760323882, 4.539787187241018e-05, 0.0038893523160368204, 0.0008969513000920415])\n",
      "dict_values([0.014805383048951626, 0.0016693565994501114, 0.002591328229755163, 4.539787187241018e-05, 0.004711631685495377, 0.0008653327240608633])\n"
     ]
    },
    {
     "name": "stdout",
     "output_type": "stream",
     "text": [
      "dict_values([0.04479580372571945, 0.0031246019061654806, 0.004347722977399826, 4.539787187241018e-05, 0.008542060852050781, 0.001978380372747779])\n",
      "dict_values([0.03890296816825867, 0.0016323646996170282, 0.0030763011891394854, 4.539787187241018e-05, 0.00674314284697175, 0.0012302856193855405])\n",
      "dict_values([0.03304434195160866, 0.001341545837931335, 0.0034276065416634083, 4.539787187241018e-05, 0.005719159264117479, 0.0015673767775297165])\n",
      "dict_values([0.038132309913635254, 0.0017904225969687104, 0.0026526255533099174, 4.539787187241018e-05, 0.005544756073504686, 0.0006853293161839247])\n",
      "dict_values([0.2580791413784027, 0.0173860564827919, 0.05083079636096954, 0.0002546400355640799, 0.08451355993747711, 0.016442900523543358])\n",
      "dict_values([0.044412944465875626, 0.0017401924123987556, 0.0027595898136496544, 4.539787187241018e-05, 0.00363996927626431, 0.0005747741088271141])\n",
      "dict_values([0.03890296816825867, 0.0016323646996170282, 0.0030763011891394854, 4.539787187241018e-05, 0.00674314284697175, 0.0012302856193855405])\n",
      "dict_values([0.2011221945285797, 0.010261359624564648, 0.026671892032027245, 4.539787187241018e-05, 0.05270978435873985, 0.005875907838344574])\n",
      "dict_values([0.0551375076174736, 0.003157247556373477, 0.005919999442994595, 4.539787187241018e-05, 0.012086121365427971, 0.0041060373187065125])\n",
      "dict_values([0.03890296816825867, 0.0016323646996170282, 0.0030763011891394854, 4.539787187241018e-05, 0.00674314284697175, 0.0012302856193855405])\n",
      "dict_values([0.044412944465875626, 0.0017401924123987556, 0.0027595898136496544, 4.539787187241018e-05, 0.00363996927626431, 0.0005747741088271141])\n",
      "dict_values([0.02606717310845852, 0.0011605340987443924, 0.002078633988276124, 4.539787187241018e-05, 0.004166835453361273, 0.000896348909009248])\n",
      "dict_values([0.022281479090452194, 0.0011471884790807962, 0.002193327760323882, 4.539787187241018e-05, 0.0038893523160368204, 0.0008969513000920415])\n",
      "dict_values([0.04479580372571945, 0.0031246019061654806, 0.004347722977399826, 4.539787187241018e-05, 0.008542060852050781, 0.001978380372747779])\n",
      "dict_values([0.02606717310845852, 0.0011605340987443924, 0.002078633988276124, 4.539787187241018e-05, 0.004166835453361273, 0.000896348909009248])\n",
      "dict_values([0.02883150801062584, 0.0020181965082883835, 0.0033826802391558886, 4.539787187241018e-05, 0.00616384856402874, 0.001466102316044271])\n",
      "dict_values([0.042233679443597794, 0.0018844197038561106, 0.004467296414077282, 4.539787187241018e-05, 0.008082793094217777, 0.0013656046940013766])\n",
      "dict_values([0.014805383048951626, 0.0016693565994501114, 0.002591328229755163, 4.539787187241018e-05, 0.004711631685495377, 0.0008653327240608633])\n",
      "dict_values([0.03890296816825867, 0.0016323646996170282, 0.0030763011891394854, 4.539787187241018e-05, 0.00674314284697175, 0.0012302856193855405])\n",
      "dict_values([0.01923454739153385, 0.0009856654796749353, 0.002080434001982212, 4.539787187241018e-05, 0.005256250035017729, 0.0007156687788665295])\n",
      "dict_values([0.04479580372571945, 0.0031246019061654806, 0.004347722977399826, 4.539787187241018e-05, 0.008542060852050781, 0.001978380372747779])\n",
      "dict_values([0.042233679443597794, 0.0018844197038561106, 0.004467296414077282, 4.539787187241018e-05, 0.008082793094217777, 0.0013656046940013766])\n",
      "dict_values([0.022281479090452194, 0.0011471884790807962, 0.002193327760323882, 4.539787187241018e-05, 0.0038893523160368204, 0.0008969513000920415])\n",
      "dict_values([0.02606717310845852, 0.0011605340987443924, 0.002078633988276124, 4.539787187241018e-05, 0.004166835453361273, 0.000896348909009248])\n",
      "dict_values([0.03890296816825867, 0.0016323646996170282, 0.0030763011891394854, 4.539787187241018e-05, 0.00674314284697175, 0.0012302856193855405])\n",
      "dict_values([0.7353827357292175, 0.0769992396235466, 0.3541794419288635, 0.017673777416348457, 0.2526688277721405, 0.0492827333509922])\n",
      "dict_values([0.2580791413784027, 0.0173860564827919, 0.05083079636096954, 0.0002546400355640799, 0.08451355993747711, 0.016442900523543358])\n",
      "dict_values([0.014805383048951626, 0.0016693565994501114, 0.002591328229755163, 4.539787187241018e-05, 0.004711631685495377, 0.0008653327240608633])\n",
      "dict_values([0.02606717310845852, 0.0011605340987443924, 0.002078633988276124, 4.539787187241018e-05, 0.004166835453361273, 0.000896348909009248])\n",
      "dict_values([0.03304434195160866, 0.001341545837931335, 0.0034276065416634083, 4.539787187241018e-05, 0.005719159264117479, 0.0015673767775297165])\n",
      "dict_values([0.03890296816825867, 0.0016323646996170282, 0.0030763011891394854, 4.539787187241018e-05, 0.00674314284697175, 0.0012302856193855405])\n",
      "dict_values([0.2580791413784027, 0.0173860564827919, 0.05083079636096954, 0.0002546400355640799, 0.08451355993747711, 0.016442900523543358])\n",
      "dict_values([0.03774270415306091, 0.0013094516471028328, 0.004552648402750492, 4.539787187241018e-05, 0.0068885087966918945, 0.001225547632202506])\n",
      "dict_values([0.02883150801062584, 0.0020181965082883835, 0.0033826802391558886, 4.539787187241018e-05, 0.00616384856402874, 0.001466102316044271])\n",
      "dict_values([0.03890296816825867, 0.0016323646996170282, 0.0030763011891394854, 4.539787187241018e-05, 0.00674314284697175, 0.0012302856193855405])\n",
      "dict_values([0.030340541154146194, 0.0009458194836042821, 0.0027765855193138123, 4.539787187241018e-05, 0.0051192124374210835, 0.0016342392191290855])\n",
      "dict_values([0.02606717310845852, 0.0011605340987443924, 0.002078633988276124, 4.539787187241018e-05, 0.004166835453361273, 0.000896348909009248])\n",
      "dict_values([0.022281479090452194, 0.0011471884790807962, 0.002193327760323882, 4.539787187241018e-05, 0.0038893523160368204, 0.0008969513000920415])\n",
      "dict_values([0.03890296816825867, 0.0016323646996170282, 0.0030763011891394854, 4.539787187241018e-05, 0.00674314284697175, 0.0012302856193855405])\n",
      "dict_values([0.11480710655450821, 0.00435399217531085, 0.015478072687983513, 4.539787187241018e-05, 0.028476133942604065, 0.0034778141416609287])\n",
      "dict_values([0.11786646395921707, 0.012342091649770737, 0.0225022304803133, 4.539787187241018e-05, 0.03252966329455376, 0.005241862032562494])\n",
      "dict_values([0.2011221945285797, 0.010261359624564648, 0.026671892032027245, 4.539787187241018e-05, 0.05270978435873985, 0.005875907838344574])\n",
      "dict_values([0.03890296816825867, 0.0016323646996170282, 0.0030763011891394854, 4.539787187241018e-05, 0.00674314284697175, 0.0012302856193855405])\n",
      "dict_values([0.022281479090452194, 0.0011471884790807962, 0.002193327760323882, 4.539787187241018e-05, 0.0038893523160368204, 0.0008969513000920415])\n",
      "dict_values([0.11786646395921707, 0.012342091649770737, 0.0225022304803133, 4.539787187241018e-05, 0.03252966329455376, 0.005241862032562494])\n",
      "dict_values([0.03890296816825867, 0.0016323646996170282, 0.0030763011891394854, 4.539787187241018e-05, 0.00674314284697175, 0.0012302856193855405])\n",
      "dict_values([0.13124993443489075, 0.004000196233391762, 0.00997664500027895, 4.539787187241018e-05, 0.028757665306329727, 0.003711605677381158])\n",
      "dict_values([0.042233679443597794, 0.0018844197038561106, 0.004467296414077282, 4.539787187241018e-05, 0.008082793094217777, 0.0013656046940013766])\n",
      "dict_values([0.03304434195160866, 0.001341545837931335, 0.0034276065416634083, 4.539787187241018e-05, 0.005719159264117479, 0.0015673767775297165])\n",
      "dict_values([0.03304434195160866, 0.001341545837931335, 0.0034276065416634083, 4.539787187241018e-05, 0.005719159264117479, 0.0015673767775297165])\n",
      "dict_values([0.03890296816825867, 0.0016323646996170282, 0.0030763011891394854, 4.539787187241018e-05, 0.00674314284697175, 0.0012302856193855405])\n",
      "dict_values([0.02235550805926323, 0.0007713307277299464, 0.0021013582590967417, 4.539787187241018e-05, 0.003311940934509039, 0.0007243417203426361])\n",
      "dict_values([0.11480710655450821, 0.00435399217531085, 0.015478072687983513, 4.539787187241018e-05, 0.028476133942604065, 0.0034778141416609287])\n",
      "dict_values([0.03890296816825867, 0.0016323646996170282, 0.0030763011891394854, 4.539787187241018e-05, 0.00674314284697175, 0.0012302856193855405])\n",
      "dict_values([0.2580791413784027, 0.0173860564827919, 0.05083079636096954, 0.0002546400355640799, 0.08451355993747711, 0.016442900523543358])\n",
      "dict_values([0.03304434195160866, 0.001341545837931335, 0.0034276065416634083, 4.539787187241018e-05, 0.005719159264117479, 0.0015673767775297165])\n",
      "dict_values([0.03304434195160866, 0.001341545837931335, 0.0034276065416634083, 4.539787187241018e-05, 0.005719159264117479, 0.0015673767775297165])\n",
      "dict_values([0.03890296816825867, 0.0016323646996170282, 0.0030763011891394854, 4.539787187241018e-05, 0.00674314284697175, 0.0012302856193855405])\n",
      "dict_values([0.11480710655450821, 0.00435399217531085, 0.015478072687983513, 4.539787187241018e-05, 0.028476133942604065, 0.0034778141416609287])\n",
      "dict_values([0.11786646395921707, 0.012342091649770737, 0.0225022304803133, 4.539787187241018e-05, 0.03252966329455376, 0.005241862032562494])\n",
      "dict_values([0.2011221945285797, 0.010261359624564648, 0.026671892032027245, 4.539787187241018e-05, 0.05270978435873985, 0.005875907838344574])\n",
      "dict_values([0.03890296816825867, 0.0016323646996170282, 0.0030763011891394854, 4.539787187241018e-05, 0.00674314284697175, 0.0012302856193855405])\n",
      "dict_values([0.030340541154146194, 0.0009458194836042821, 0.0027765855193138123, 4.539787187241018e-05, 0.0051192124374210835, 0.0016342392191290855])\n",
      "dict_values([0.2011221945285797, 0.010261359624564648, 0.026671892032027245, 4.539787187241018e-05, 0.05270978435873985, 0.005875907838344574])\n",
      "dict_values([0.11480710655450821, 0.00435399217531085, 0.015478072687983513, 4.539787187241018e-05, 0.028476133942604065, 0.0034778141416609287])\n",
      "dict_values([0.03304434195160866, 0.001341545837931335, 0.0034276065416634083, 4.539787187241018e-05, 0.005719159264117479, 0.0015673767775297165])\n",
      "dict_values([0.03890296816825867, 0.0016323646996170282, 0.0030763011891394854, 4.539787187241018e-05, 0.00674314284697175, 0.0012302856193855405])\n",
      "dict_values([0.03304434195160866, 0.001341545837931335, 0.0034276065416634083, 4.539787187241018e-05, 0.005719159264117479, 0.0015673767775297165])\n",
      "dict_values([0.042233679443597794, 0.0018844197038561106, 0.004467296414077282, 4.539787187241018e-05, 0.008082793094217777, 0.0013656046940013766])\n",
      "dict_values([0.014805383048951626, 0.0016693565994501114, 0.002591328229755163, 4.539787187241018e-05, 0.004711631685495377, 0.0008653327240608633])\n",
      "dict_values([0.13124993443489075, 0.004000196233391762, 0.00997664500027895, 4.539787187241018e-05, 0.028757665306329727, 0.003711605677381158])\n",
      "dict_values([0.02606717310845852, 0.0011605340987443924, 0.002078633988276124, 4.539787187241018e-05, 0.004166835453361273, 0.000896348909009248])\n",
      "dict_values([0.03774270415306091, 0.0013094516471028328, 0.004552648402750492, 4.539787187241018e-05, 0.0068885087966918945, 0.001225547632202506])\n",
      "dict_values([0.03890296816825867, 0.0016323646996170282, 0.0030763011891394854, 4.539787187241018e-05, 0.00674314284697175, 0.0012302856193855405])\n",
      "dict_values([0.02235550805926323, 0.0007713307277299464, 0.0021013582590967417, 4.539787187241018e-05, 0.003311940934509039, 0.0007243417203426361])\n",
      "dict_values([0.02606717310845852, 0.0011605340987443924, 0.002078633988276124, 4.539787187241018e-05, 0.004166835453361273, 0.000896348909009248])\n",
      "dict_values([0.03890296816825867, 0.0016323646996170282, 0.0030763011891394854, 4.539787187241018e-05, 0.00674314284697175, 0.0012302856193855405])\n",
      "dict_values([0.07361727207899094, 0.004330021794885397, 0.006725393235683441, 4.539787187241018e-05, 0.01223963126540184, 0.002054066164419055])\n",
      "dict_values([0.2580791413784027, 0.0173860564827919, 0.05083079636096954, 0.0002546400355640799, 0.08451355993747711, 0.016442900523543358])\n",
      "dict_values([0.03890296816825867, 0.0016323646996170282, 0.0030763011891394854, 4.539787187241018e-05, 0.00674314284697175, 0.0012302856193855405])\n",
      "dict_values([0.0551375076174736, 0.003157247556373477, 0.005919999442994595, 4.539787187241018e-05, 0.012086121365427971, 0.0041060373187065125])\n",
      "dict_values([0.2011221945285797, 0.010261359624564648, 0.026671892032027245, 4.539787187241018e-05, 0.05270978435873985, 0.005875907838344574])\n",
      "dict_values([0.038132309913635254, 0.0017904225969687104, 0.0026526255533099174, 4.539787187241018e-05, 0.005544756073504686, 0.0006853293161839247])\n",
      "dict_values([0.02606717310845852, 0.0011605340987443924, 0.002078633988276124, 4.539787187241018e-05, 0.004166835453361273, 0.000896348909009248])\n",
      "dict_values([0.03890296816825867, 0.0016323646996170282, 0.0030763011891394854, 4.539787187241018e-05, 0.00674314284697175, 0.0012302856193855405])\n",
      "dict_values([0.042233679443597794, 0.0018844197038561106, 0.004467296414077282, 4.539787187241018e-05, 0.008082793094217777, 0.0013656046940013766])\n",
      "dict_values([0.03304434195160866, 0.001341545837931335, 0.0034276065416634083, 4.539787187241018e-05, 0.005719159264117479, 0.0015673767775297165])\n",
      "dict_values([0.03890296816825867, 0.0016323646996170282, 0.0030763011891394854, 4.539787187241018e-05, 0.00674314284697175, 0.0012302856193855405])\n",
      "dict_values([0.2580791413784027, 0.0173860564827919, 0.05083079636096954, 0.0002546400355640799, 0.08451355993747711, 0.016442900523543358])\n",
      "dict_values([0.0864296481013298, 0.007888400927186012, 0.014353757724165916, 4.539787187241018e-05, 0.029867585748434067, 0.004056697245687246])\n",
      "dict_values([0.11786646395921707, 0.012342091649770737, 0.0225022304803133, 4.539787187241018e-05, 0.03252966329455376, 0.005241862032562494])\n",
      "dict_values([0.2011221945285797, 0.010261359624564648, 0.026671892032027245, 4.539787187241018e-05, 0.05270978435873985, 0.005875907838344574])\n",
      "dict_values([0.022281479090452194, 0.0011471884790807962, 0.002193327760323882, 4.539787187241018e-05, 0.0038893523160368204, 0.0008969513000920415])\n",
      "dict_values([0.03890296816825867, 0.0016323646996170282, 0.0030763011891394854, 4.539787187241018e-05, 0.00674314284697175, 0.0012302856193855405])\n",
      "dict_values([0.044412944465875626, 0.0017401924123987556, 0.0027595898136496544, 4.539787187241018e-05, 0.00363996927626431, 0.0005747741088271141])\n",
      "dict_values([0.0551375076174736, 0.003157247556373477, 0.005919999442994595, 4.539787187241018e-05, 0.012086121365427971, 0.0041060373187065125])\n",
      "dict_values([0.042233679443597794, 0.0018844197038561106, 0.004467296414077282, 4.539787187241018e-05, 0.008082793094217777, 0.0013656046940013766])\n",
      "dict_values([0.02883150801062584, 0.0020181965082883835, 0.0033826802391558886, 4.539787187241018e-05, 0.00616384856402874, 0.001466102316044271])\n",
      "dict_values([0.02606717310845852, 0.0011605340987443924, 0.002078633988276124, 4.539787187241018e-05, 0.004166835453361273, 0.000896348909009248])\n",
      "dict_values([0.03890296816825867, 0.0016323646996170282, 0.0030763011891394854, 4.539787187241018e-05, 0.00674314284697175, 0.0012302856193855405])\n",
      "dict_values([0.042233679443597794, 0.0018844197038561106, 0.004467296414077282, 4.539787187241018e-05, 0.008082793094217777, 0.0013656046940013766])\n",
      "dict_values([0.03774270415306091, 0.0013094516471028328, 0.004552648402750492, 4.539787187241018e-05, 0.0068885087966918945, 0.001225547632202506])\n",
      "dict_values([0.03890296816825867, 0.0016323646996170282, 0.0030763011891394854, 4.539787187241018e-05, 0.00674314284697175, 0.0012302856193855405])\n",
      "dict_values([0.02883150801062584, 0.0020181965082883835, 0.0033826802391558886, 4.539787187241018e-05, 0.00616384856402874, 0.001466102316044271])\n",
      "dict_values([0.2580791413784027, 0.0173860564827919, 0.05083079636096954, 0.0002546400355640799, 0.08451355993747711, 0.016442900523543358])\n",
      "dict_values([0.03890296816825867, 0.0016323646996170282, 0.0030763011891394854, 4.539787187241018e-05, 0.00674314284697175, 0.0012302856193855405])\n",
      "dict_values([0.02235550805926323, 0.0007713307277299464, 0.0021013582590967417, 4.539787187241018e-05, 0.003311940934509039, 0.0007243417203426361])\n",
      "dict_values([0.2011221945285797, 0.010261359624564648, 0.026671892032027245, 4.539787187241018e-05, 0.05270978435873985, 0.005875907838344574])\n",
      "dict_values([0.03304434195160866, 0.001341545837931335, 0.0034276065416634083, 4.539787187241018e-05, 0.005719159264117479, 0.0015673767775297165])\n",
      "dict_values([0.042233679443597794, 0.0018844197038561106, 0.004467296414077282, 4.539787187241018e-05, 0.008082793094217777, 0.0013656046940013766])\n",
      "dict_values([0.014805383048951626, 0.0016693565994501114, 0.002591328229755163, 4.539787187241018e-05, 0.004711631685495377, 0.0008653327240608633])\n",
      "dict_values([0.03890296816825867, 0.0016323646996170282, 0.0030763011891394854, 4.539787187241018e-05, 0.00674314284697175, 0.0012302856193855405])\n",
      "dict_values([0.02235550805926323, 0.0007713307277299464, 0.0021013582590967417, 4.539787187241018e-05, 0.003311940934509039, 0.0007243417203426361])\n",
      "dict_values([0.2580791413784027, 0.0173860564827919, 0.05083079636096954, 0.0002546400355640799, 0.08451355993747711, 0.016442900523543358])\n",
      "dict_values([0.03774270415306091, 0.0013094516471028328, 0.004552648402750492, 4.539787187241018e-05, 0.0068885087966918945, 0.001225547632202506])\n",
      "dict_values([0.03890296816825867, 0.0016323646996170282, 0.0030763011891394854, 4.539787187241018e-05, 0.00674314284697175, 0.0012302856193855405])\n",
      "dict_values([0.02883150801062584, 0.0020181965082883835, 0.0033826802391558886, 4.539787187241018e-05, 0.00616384856402874, 0.001466102316044271])\n",
      "dict_values([0.11786646395921707, 0.012342091649770737, 0.0225022304803133, 4.539787187241018e-05, 0.03252966329455376, 0.005241862032562494])\n",
      "dict_values([0.03774270415306091, 0.0013094516471028328, 0.004552648402750492, 4.539787187241018e-05, 0.0068885087966918945, 0.001225547632202506])\n",
      "dict_values([0.022281479090452194, 0.0011471884790807962, 0.002193327760323882, 4.539787187241018e-05, 0.0038893523160368204, 0.0008969513000920415])\n",
      "dict_values([0.03890296816825867, 0.0016323646996170282, 0.0030763011891394854, 4.539787187241018e-05, 0.00674314284697175, 0.0012302856193855405])\n",
      "dict_values([0.02883150801062584, 0.0020181965082883835, 0.0033826802391558886, 4.539787187241018e-05, 0.00616384856402874, 0.001466102316044271])\n",
      "dict_values([0.042233679443597794, 0.0018844197038561106, 0.004467296414077282, 4.539787187241018e-05, 0.008082793094217777, 0.0013656046940013766])\n",
      "dict_values([0.03304434195160866, 0.001341545837931335, 0.0034276065416634083, 4.539787187241018e-05, 0.005719159264117479, 0.0015673767775297165])\n",
      "dict_values([0.03304434195160866, 0.001341545837931335, 0.0034276065416634083, 4.539787187241018e-05, 0.005719159264117479, 0.0015673767775297165])\n",
      "dict_values([0.03890296816825867, 0.0016323646996170282, 0.0030763011891394854, 4.539787187241018e-05, 0.00674314284697175, 0.0012302856193855405])\n",
      "dict_values([0.022281479090452194, 0.0011471884790807962, 0.002193327760323882, 4.539787187241018e-05, 0.0038893523160368204, 0.0008969513000920415])\n",
      "dict_values([0.04479580372571945, 0.0031246019061654806, 0.004347722977399826, 4.539787187241018e-05, 0.008542060852050781, 0.001978380372747779])\n",
      "dict_values([0.2580791413784027, 0.0173860564827919, 0.05083079636096954, 0.0002546400355640799, 0.08451355993747711, 0.016442900523543358])\n",
      "dict_values([0.022281479090452194, 0.0011471884790807962, 0.002193327760323882, 4.539787187241018e-05, 0.0038893523160368204, 0.0008969513000920415])\n"
     ]
    },
    {
     "name": "stdout",
     "output_type": "stream",
     "text": [
      "dict_values([0.03890296816825867, 0.0016323646996170282, 0.0030763011891394854, 4.539787187241018e-05, 0.00674314284697175, 0.0012302856193855405])\n",
      "dict_values([0.03304434195160866, 0.001341545837931335, 0.0034276065416634083, 4.539787187241018e-05, 0.005719159264117479, 0.0015673767775297165])\n",
      "dict_values([0.04479580372571945, 0.0031246019061654806, 0.004347722977399826, 4.539787187241018e-05, 0.008542060852050781, 0.001978380372747779])\n",
      "dict_values([0.042233679443597794, 0.0018844197038561106, 0.004467296414077282, 4.539787187241018e-05, 0.008082793094217777, 0.0013656046940013766])\n",
      "dict_values([0.022281479090452194, 0.0011471884790807962, 0.002193327760323882, 4.539787187241018e-05, 0.0038893523160368204, 0.0008969513000920415])\n",
      "dict_values([0.03890296816825867, 0.0016323646996170282, 0.0030763011891394854, 4.539787187241018e-05, 0.00674314284697175, 0.0012302856193855405])\n",
      "dict_values([0.11786646395921707, 0.012342091649770737, 0.0225022304803133, 4.539787187241018e-05, 0.03252966329455376, 0.005241862032562494])\n",
      "dict_values([0.03774270415306091, 0.0013094516471028328, 0.004552648402750492, 4.539787187241018e-05, 0.0068885087966918945, 0.001225547632202506])\n",
      "dict_values([0.03890296816825867, 0.0016323646996170282, 0.0030763011891394854, 4.539787187241018e-05, 0.00674314284697175, 0.0012302856193855405])\n",
      "dict_values([0.04479580372571945, 0.0031246019061654806, 0.004347722977399826, 4.539787187241018e-05, 0.008542060852050781, 0.001978380372747779])\n",
      "dict_values([0.042233679443597794, 0.0018844197038561106, 0.004467296414077282, 4.539787187241018e-05, 0.008082793094217777, 0.0013656046940013766])\n",
      "dict_values([0.02235550805926323, 0.0007713307277299464, 0.0021013582590967417, 4.539787187241018e-05, 0.003311940934509039, 0.0007243417203426361])\n",
      "dict_values([0.03890296816825867, 0.0016323646996170282, 0.0030763011891394854, 4.539787187241018e-05, 0.00674314284697175, 0.0012302856193855405])\n",
      "dict_values([0.2580791413784027, 0.0173860564827919, 0.05083079636096954, 0.0002546400355640799, 0.08451355993747711, 0.016442900523543358])\n",
      "dict_values([0.03774270415306091, 0.0013094516471028328, 0.004552648402750492, 4.539787187241018e-05, 0.0068885087966918945, 0.001225547632202506])\n",
      "dict_values([0.02883150801062584, 0.0020181965082883835, 0.0033826802391558886, 4.539787187241018e-05, 0.00616384856402874, 0.001466102316044271])\n",
      "dict_values([0.03890296816825867, 0.0016323646996170282, 0.0030763011891394854, 4.539787187241018e-05, 0.00674314284697175, 0.0012302856193855405])\n",
      "dict_values([0.03774270415306091, 0.0013094516471028328, 0.004552648402750492, 4.539787187241018e-05, 0.0068885087966918945, 0.001225547632202506])\n",
      "dict_values([0.11786646395921707, 0.012342091649770737, 0.0225022304803133, 4.539787187241018e-05, 0.03252966329455376, 0.005241862032562494])\n",
      "dict_values([0.022281479090452194, 0.0011471884790807962, 0.002193327760323882, 4.539787187241018e-05, 0.0038893523160368204, 0.0008969513000920415])\n",
      "dict_values([0.04479580372571945, 0.0031246019061654806, 0.004347722977399826, 4.539787187241018e-05, 0.008542060852050781, 0.001978380372747779])\n",
      "dict_values([0.042233679443597794, 0.0018844197038561106, 0.004467296414077282, 4.539787187241018e-05, 0.008082793094217777, 0.0013656046940013766])\n",
      "dict_values([0.03774270415306091, 0.0013094516471028328, 0.004552648402750492, 4.539787187241018e-05, 0.0068885087966918945, 0.001225547632202506])\n",
      "dict_values([0.03890296816825867, 0.0016323646996170282, 0.0030763011891394854, 4.539787187241018e-05, 0.00674314284697175, 0.0012302856193855405])\n",
      "dict_values([0.042233679443597794, 0.0018844197038561106, 0.004467296414077282, 4.539787187241018e-05, 0.008082793094217777, 0.0013656046940013766])\n",
      "dict_values([0.03304434195160866, 0.001341545837931335, 0.0034276065416634083, 4.539787187241018e-05, 0.005719159264117479, 0.0015673767775297165])\n",
      "dict_values([0.03890296816825867, 0.0016323646996170282, 0.0030763011891394854, 4.539787187241018e-05, 0.00674314284697175, 0.0012302856193855405])\n",
      "dict_values([0.01923454739153385, 0.0009856654796749353, 0.002080434001982212, 4.539787187241018e-05, 0.005256250035017729, 0.0007156687788665295])\n",
      "dict_values([0.0551375076174736, 0.003157247556373477, 0.005919999442994595, 4.539787187241018e-05, 0.012086121365427971, 0.0041060373187065125])\n",
      "dict_values([0.11786646395921707, 0.012342091649770737, 0.0225022304803133, 4.539787187241018e-05, 0.03252966329455376, 0.005241862032562494])\n",
      "dict_values([0.03774270415306091, 0.0013094516471028328, 0.004552648402750492, 4.539787187241018e-05, 0.0068885087966918945, 0.001225547632202506])\n",
      "dict_values([0.030340541154146194, 0.0009458194836042821, 0.0027765855193138123, 4.539787187241018e-05, 0.0051192124374210835, 0.0016342392191290855])\n",
      "dict_values([0.03890296816825867, 0.0016323646996170282, 0.0030763011891394854, 4.539787187241018e-05, 0.00674314284697175, 0.0012302856193855405])\n",
      "dict_values([0.0864296481013298, 0.007888400927186012, 0.014353757724165916, 4.539787187241018e-05, 0.029867585748434067, 0.004056697245687246])\n",
      "dict_values([0.02606717310845852, 0.0011605340987443924, 0.002078633988276124, 4.539787187241018e-05, 0.004166835453361273, 0.000896348909009248])\n",
      "dict_values([0.042233679443597794, 0.0018844197038561106, 0.004467296414077282, 4.539787187241018e-05, 0.008082793094217777, 0.0013656046940013766])\n",
      "dict_values([0.03774270415306091, 0.0013094516471028328, 0.004552648402750492, 4.539787187241018e-05, 0.0068885087966918945, 0.001225547632202506])\n",
      "dict_values([0.03890296816825867, 0.0016323646996170282, 0.0030763011891394854, 4.539787187241018e-05, 0.00674314284697175, 0.0012302856193855405])\n",
      "dict_values([0.038132309913635254, 0.0017904225969687104, 0.0026526255533099174, 4.539787187241018e-05, 0.005544756073504686, 0.0006853293161839247])\n",
      "dict_values([0.042233679443597794, 0.0018844197038561106, 0.004467296414077282, 4.539787187241018e-05, 0.008082793094217777, 0.0013656046940013766])\n",
      "dict_values([0.13124993443489075, 0.004000196233391762, 0.00997664500027895, 4.539787187241018e-05, 0.028757665306329727, 0.003711605677381158])\n",
      "dict_values([0.02606717310845852, 0.0011605340987443924, 0.002078633988276124, 4.539787187241018e-05, 0.004166835453361273, 0.000896348909009248])\n",
      "dict_values([0.03890296816825867, 0.0016323646996170282, 0.0030763011891394854, 4.539787187241018e-05, 0.00674314284697175, 0.0012302856193855405])\n",
      "dict_values([0.022281479090452194, 0.0011471884790807962, 0.002193327760323882, 4.539787187241018e-05, 0.0038893523160368204, 0.0008969513000920415])\n",
      "dict_values([0.2011221945285797, 0.010261359624564648, 0.026671892032027245, 4.539787187241018e-05, 0.05270978435873985, 0.005875907838344574])\n",
      "dict_values([0.044412944465875626, 0.0017401924123987556, 0.0027595898136496544, 4.539787187241018e-05, 0.00363996927626431, 0.0005747741088271141])\n",
      "dict_values([0.2580791413784027, 0.0173860564827919, 0.05083079636096954, 0.0002546400355640799, 0.08451355993747711, 0.016442900523543358])\n",
      "dict_values([0.014805383048951626, 0.0016693565994501114, 0.002591328229755163, 4.539787187241018e-05, 0.004711631685495377, 0.0008653327240608633])\n",
      "dict_values([0.03890296816825867, 0.0016323646996170282, 0.0030763011891394854, 4.539787187241018e-05, 0.00674314284697175, 0.0012302856193855405])\n",
      "dict_values([0.04479580372571945, 0.0031246019061654806, 0.004347722977399826, 4.539787187241018e-05, 0.008542060852050781, 0.001978380372747779])\n",
      "dict_values([0.02606717310845852, 0.0011605340987443924, 0.002078633988276124, 4.539787187241018e-05, 0.004166835453361273, 0.000896348909009248])\n",
      "dict_values([0.03890296816825867, 0.0016323646996170282, 0.0030763011891394854, 4.539787187241018e-05, 0.00674314284697175, 0.0012302856193855405])\n",
      "dict_values([0.01923454739153385, 0.0009856654796749353, 0.002080434001982212, 4.539787187241018e-05, 0.005256250035017729, 0.0007156687788665295])\n",
      "dict_values([0.2580791413784027, 0.0173860564827919, 0.05083079636096954, 0.0002546400355640799, 0.08451355993747711, 0.016442900523543358])\n",
      "dict_values([0.03304434195160866, 0.001341545837931335, 0.0034276065416634083, 4.539787187241018e-05, 0.005719159264117479, 0.0015673767775297165])\n",
      "dict_values([0.03890296816825867, 0.0016323646996170282, 0.0030763011891394854, 4.539787187241018e-05, 0.00674314284697175, 0.0012302856193855405])\n",
      "dict_values([0.2580791413784027, 0.0173860564827919, 0.05083079636096954, 0.0002546400355640799, 0.08451355993747711, 0.016442900523543358])\n",
      "dict_values([0.03890296816825867, 0.0016323646996170282, 0.0030763011891394854, 4.539787187241018e-05, 0.00674314284697175, 0.0012302856193855405])\n",
      "dict_values([0.0864296481013298, 0.007888400927186012, 0.014353757724165916, 4.539787187241018e-05, 0.029867585748434067, 0.004056697245687246])\n",
      "dict_values([0.0551375076174736, 0.003157247556373477, 0.005919999442994595, 4.539787187241018e-05, 0.012086121365427971, 0.0041060373187065125])\n",
      "dict_values([0.11786646395921707, 0.012342091649770737, 0.0225022304803133, 4.539787187241018e-05, 0.03252966329455376, 0.005241862032562494])\n",
      "dict_values([0.022281479090452194, 0.0011471884790807962, 0.002193327760323882, 4.539787187241018e-05, 0.0038893523160368204, 0.0008969513000920415])\n",
      "dict_values([0.04479580372571945, 0.0031246019061654806, 0.004347722977399826, 4.539787187241018e-05, 0.008542060852050781, 0.001978380372747779])\n",
      "dict_values([0.02606717310845852, 0.0011605340987443924, 0.002078633988276124, 4.539787187241018e-05, 0.004166835453361273, 0.000896348909009248])\n",
      "dict_values([0.0551375076174736, 0.003157247556373477, 0.005919999442994595, 4.539787187241018e-05, 0.012086121365427971, 0.0041060373187065125])\n",
      "dict_values([0.03890296816825867, 0.0016323646996170282, 0.0030763011891394854, 4.539787187241018e-05, 0.00674314284697175, 0.0012302856193855405])\n",
      "dict_values([0.022281479090452194, 0.0011471884790807962, 0.002193327760323882, 4.539787187241018e-05, 0.0038893523160368204, 0.0008969513000920415])\n",
      "dict_values([0.11786646395921707, 0.012342091649770737, 0.0225022304803133, 4.539787187241018e-05, 0.03252966329455376, 0.005241862032562494])\n",
      "dict_values([0.11786646395921707, 0.012342091649770737, 0.0225022304803133, 4.539787187241018e-05, 0.03252966329455376, 0.005241862032562494])\n",
      "dict_values([0.7353827357292175, 0.0769992396235466, 0.3541794419288635, 0.017673777416348457, 0.2526688277721405, 0.0492827333509922])\n",
      "dict_values([0.2011221945285797, 0.010261359624564648, 0.026671892032027245, 4.539787187241018e-05, 0.05270978435873985, 0.005875907838344574])\n",
      "dict_values([0.014805383048951626, 0.0016693565994501114, 0.002591328229755163, 4.539787187241018e-05, 0.004711631685495377, 0.0008653327240608633])\n",
      "dict_values([0.13124993443489075, 0.004000196233391762, 0.00997664500027895, 4.539787187241018e-05, 0.028757665306329727, 0.003711605677381158])\n",
      "dict_values([0.042233679443597794, 0.0018844197038561106, 0.004467296414077282, 4.539787187241018e-05, 0.008082793094217777, 0.0013656046940013766])\n",
      "dict_values([0.03774270415306091, 0.0013094516471028328, 0.004552648402750492, 4.539787187241018e-05, 0.0068885087966918945, 0.001225547632202506])\n",
      "dict_values([0.03890296816825867, 0.0016323646996170282, 0.0030763011891394854, 4.539787187241018e-05, 0.00674314284697175, 0.0012302856193855405])\n",
      "dict_values([0.01923454739153385, 0.0009856654796749353, 0.002080434001982212, 4.539787187241018e-05, 0.005256250035017729, 0.0007156687788665295])\n",
      "dict_values([0.04479580372571945, 0.0031246019061654806, 0.004347722977399826, 4.539787187241018e-05, 0.008542060852050781, 0.001978380372747779])\n",
      "dict_values([0.042233679443597794, 0.0018844197038561106, 0.004467296414077282, 4.539787187241018e-05, 0.008082793094217777, 0.0013656046940013766])\n",
      "dict_values([0.022281479090452194, 0.0011471884790807962, 0.002193327760323882, 4.539787187241018e-05, 0.0038893523160368204, 0.0008969513000920415])\n",
      "dict_values([0.02606717310845852, 0.0011605340987443924, 0.002078633988276124, 4.539787187241018e-05, 0.004166835453361273, 0.000896348909009248])\n",
      "dict_values([0.03890296816825867, 0.0016323646996170282, 0.0030763011891394854, 4.539787187241018e-05, 0.00674314284697175, 0.0012302856193855405])\n",
      "dict_values([0.0864296481013298, 0.007888400927186012, 0.014353757724165916, 4.539787187241018e-05, 0.029867585748434067, 0.004056697245687246])\n",
      "dict_values([0.11786646395921707, 0.012342091649770737, 0.0225022304803133, 4.539787187241018e-05, 0.03252966329455376, 0.005241862032562494])\n",
      "dict_values([0.11480710655450821, 0.00435399217531085, 0.015478072687983513, 4.539787187241018e-05, 0.028476133942604065, 0.0034778141416609287])\n",
      "dict_values([0.03304434195160866, 0.001341545837931335, 0.0034276065416634083, 4.539787187241018e-05, 0.005719159264117479, 0.0015673767775297165])\n",
      "dict_values([0.03890296816825867, 0.0016323646996170282, 0.0030763011891394854, 4.539787187241018e-05, 0.00674314284697175, 0.0012302856193855405])\n",
      "dict_values([0.030340541154146194, 0.0009458194836042821, 0.0027765855193138123, 4.539787187241018e-05, 0.0051192124374210835, 0.0016342392191290855])\n",
      "dict_values([0.02606717310845852, 0.0011605340987443924, 0.002078633988276124, 4.539787187241018e-05, 0.004166835453361273, 0.000896348909009248])\n",
      "dict_values([0.022281479090452194, 0.0011471884790807962, 0.002193327760323882, 4.539787187241018e-05, 0.0038893523160368204, 0.0008969513000920415])\n",
      "dict_values([0.03890296816825867, 0.0016323646996170282, 0.0030763011891394854, 4.539787187241018e-05, 0.00674314284697175, 0.0012302856193855405])\n",
      "dict_values([0.022281479090452194, 0.0011471884790807962, 0.002193327760323882, 4.539787187241018e-05, 0.0038893523160368204, 0.0008969513000920415])\n",
      "dict_values([0.04479580372571945, 0.0031246019061654806, 0.004347722977399826, 4.539787187241018e-05, 0.008542060852050781, 0.001978380372747779])\n",
      "dict_values([0.042233679443597794, 0.0018844197038561106, 0.004467296414077282, 4.539787187241018e-05, 0.008082793094217777, 0.0013656046940013766])\n",
      "dict_values([0.03774270415306091, 0.0013094516471028328, 0.004552648402750492, 4.539787187241018e-05, 0.0068885087966918945, 0.001225547632202506])\n",
      "dict_values([0.030340541154146194, 0.0009458194836042821, 0.0027765855193138123, 4.539787187241018e-05, 0.0051192124374210835, 0.0016342392191290855])\n",
      "dict_values([0.03304434195160866, 0.001341545837931335, 0.0034276065416634083, 4.539787187241018e-05, 0.005719159264117479, 0.0015673767775297165])\n",
      "dict_values([0.03890296816825867, 0.0016323646996170282, 0.0030763011891394854, 4.539787187241018e-05, 0.00674314284697175, 0.0012302856193855405])\n",
      "dict_values([0.0551375076174736, 0.003157247556373477, 0.005919999442994595, 4.539787187241018e-05, 0.012086121365427971, 0.0041060373187065125])\n",
      "dict_values([0.042233679443597794, 0.0018844197038561106, 0.004467296414077282, 4.539787187241018e-05, 0.008082793094217777, 0.0013656046940013766])\n",
      "dict_values([0.030340541154146194, 0.0009458194836042821, 0.0027765855193138123, 4.539787187241018e-05, 0.0051192124374210835, 0.0016342392191290855])\n",
      "dict_values([0.04479580372571945, 0.0031246019061654806, 0.004347722977399826, 4.539787187241018e-05, 0.008542060852050781, 0.001978380372747779])\n",
      "dict_values([0.022281479090452194, 0.0011471884790807962, 0.002193327760323882, 4.539787187241018e-05, 0.0038893523160368204, 0.0008969513000920415])\n",
      "dict_values([0.03890296816825867, 0.0016323646996170282, 0.0030763011891394854, 4.539787187241018e-05, 0.00674314284697175, 0.0012302856193855405])\n",
      "dict_values([0.03774270415306091, 0.0013094516471028328, 0.004552648402750492, 4.539787187241018e-05, 0.0068885087966918945, 0.001225547632202506])\n"
     ]
    },
    {
     "name": "stdout",
     "output_type": "stream",
     "text": [
      "dict_values([0.02606717310845852, 0.0011605340987443924, 0.002078633988276124, 4.539787187241018e-05, 0.004166835453361273, 0.000896348909009248])\n",
      "dict_values([0.04233590140938759, 0.0019640959799289703, 0.002476820722222328, 4.539787187241018e-05, 0.00809075590223074, 0.0017023885156959295])\n",
      "dict_values([0.022281479090452194, 0.0011471884790807962, 0.002193327760323882, 4.539787187241018e-05, 0.0038893523160368204, 0.0008969513000920415])\n",
      "dict_values([0.03890296816825867, 0.0016323646996170282, 0.0030763011891394854, 4.539787187241018e-05, 0.00674314284697175, 0.0012302856193855405])\n",
      "dict_values([0.022281479090452194, 0.0011471884790807962, 0.002193327760323882, 4.539787187241018e-05, 0.0038893523160368204, 0.0008969513000920415])\n",
      "dict_values([0.042233679443597794, 0.0018844197038561106, 0.004467296414077282, 4.539787187241018e-05, 0.008082793094217777, 0.0013656046940013766])\n",
      "dict_values([0.02235550805926323, 0.0007713307277299464, 0.0021013582590967417, 4.539787187241018e-05, 0.003311940934509039, 0.0007243417203426361])\n",
      "dict_values([0.02606717310845852, 0.0011605340987443924, 0.002078633988276124, 4.539787187241018e-05, 0.004166835453361273, 0.000896348909009248])\n"
     ]
    }
   ],
   "source": [
    "test_preds = []\n",
    "for i, txt in enumerate(testX[0]):\n",
    "    doc = nlp(txt)\n",
    "    print(doc.cats.values())\n",
    "#     test_preds.append(temp)"
   ]
  },
  {
   "cell_type": "code",
   "execution_count": 23,
   "metadata": {},
   "outputs": [
    {
     "data": {
      "text/plain": [
       "e"
      ]
     },
     "execution_count": 23,
     "metadata": {},
     "output_type": "execute_result"
    }
   ],
   "source": [
    "doc"
   ]
  },
  {
   "cell_type": "code",
   "execution_count": 25,
   "metadata": {},
   "outputs": [
    {
     "data": {
      "text/plain": [
       "'yo bitch ja rule is more succesful then youll ever be whats up with you and hating you sad mofuckasi should bitch slap ur pethedic white faces and get you to kiss my ass you guys sicken me ja rule is about pride in da music man dont diss that shit on him and nothin is wrong bein like tupac he was a brother toofuckin white boys get things right next time'"
      ]
     },
     "execution_count": 25,
     "metadata": {},
     "output_type": "execute_result"
    }
   ],
   "source": [
    "testX[0]"
   ]
  },
  {
   "cell_type": "code",
   "execution_count": null,
   "metadata": {},
   "outputs": [],
   "source": []
  }
 ],
 "metadata": {
  "kernelspec": {
   "display_name": "Python [conda env:texty]",
   "language": "python",
   "name": "conda-env-texty-py"
  },
  "language_info": {
   "codemirror_mode": {
    "name": "ipython",
    "version": 3
   },
   "file_extension": ".py",
   "mimetype": "text/x-python",
   "name": "python",
   "nbconvert_exporter": "python",
   "pygments_lexer": "ipython3",
   "version": "3.6.4"
  },
  "varInspector": {
   "cols": {
    "lenName": 16,
    "lenType": 16,
    "lenVar": 40
   },
   "kernels_config": {
    "python": {
     "delete_cmd_postfix": "",
     "delete_cmd_prefix": "del ",
     "library": "var_list.py",
     "varRefreshCmd": "print(var_dic_list())"
    },
    "r": {
     "delete_cmd_postfix": ") ",
     "delete_cmd_prefix": "rm(",
     "library": "var_list.r",
     "varRefreshCmd": "cat(var_dic_list()) "
    }
   },
   "oldHeight": 480.4,
   "position": {
    "height": "40px",
    "left": "861px",
    "right": "20px",
    "top": "158px",
    "width": "490px"
   },
   "types_to_exclude": [
    "module",
    "function",
    "builtin_function_or_method",
    "instance",
    "_Feature"
   ],
   "varInspector_section_display": "none",
   "window_display": false
  }
 },
 "nbformat": 4,
 "nbformat_minor": 2
}
