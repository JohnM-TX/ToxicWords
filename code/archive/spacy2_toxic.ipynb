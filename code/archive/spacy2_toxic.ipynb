{
 "cells": [
  {
   "cell_type": "code",
   "execution_count": 1,
   "metadata": {},
   "outputs": [
    {
     "data": {
      "application/javascript": [
       "IPython.notebook.set_autosave_interval(600000)"
      ]
     },
     "metadata": {},
     "output_type": "display_data"
    },
    {
     "name": "stdout",
     "output_type": "stream",
     "text": [
      "Autosaving every 600 seconds\n"
     ]
    }
   ],
   "source": [
    "%autosave 600\n",
    "import numpy as np\n",
    "import pandas as pd\n",
    "import random\n",
    "import cupy\n",
    "import spacy\n",
    "import chainer\n",
    "from spacy.util import minibatch, compounding\n",
    "from sklearn.metrics import roc_auc_score\n",
    "\n",
    "import thinc.neural.gpu_ops"
   ]
  },
  {
   "cell_type": "code",
   "execution_count": 18,
   "metadata": {},
   "outputs": [],
   "source": [
    "# load data\n",
    "train = pd.read_csv('../input/train.csv')\n",
    "trainX = train['comment_text'].values.tolist()\n",
    "\n",
    "# set variables\n",
    "n_texts = 10\n",
    "tv_split = 0.8\n",
    "n_iter = 8\n",
    "class_names = list(train)[-6:]\n",
    "# tox_type = 'threat'\n",
    "\n"
   ]
  },
  {
   "cell_type": "code",
   "execution_count": 19,
   "metadata": {},
   "outputs": [],
   "source": [
    "\n",
    "def create_model(tox_type):\n",
    "\n",
    "\n",
    "\n",
    "def preprocess(tox_type):\n",
    "  train[tox_type] = pd.to_numeric(train[tox_type])\n",
    "  target = train[tox_type].values.tolist()\n",
    "\n",
    "  train_data = list(zip(trainX, target))\n",
    "  random.shuffle(train_data)\n",
    "  train_data = train_data[-n_texts:]\n",
    "\n",
    "  texts, labels = zip(*train_data)\n",
    "  cats = [{tox_type: bool(y)} for y in labels]\n",
    "  split = int(len(train_data) * tv_split)\n",
    "\n",
    "  train_texts = texts[:split]\n",
    "  train_cats = cats[:split]\n",
    "  dev_texts = texts[split:]\n",
    "  dev_cats = cats[split:]\n",
    "\n",
    "  print(\"Using {} examples ({} training, {} evaluation)\"\n",
    "      .format(len(texts), len(train_texts), len(dev_texts)))\n",
    "  train_data = list(zip(train_texts,\n",
    "                      [{'cats': cats} for cats in train_cats]))\n",
    "  return train_data, dev_texts, dev_cats\n",
    "\n",
    "\n",
    "def evaluate(tokenizer, textcat, texts, cats):\n",
    "    docs = (tokenizer(text) for text in texts)\n",
    "    tp = 1e-8  # True positives\n",
    "    fp = 1e-8  # False positives\n",
    "    fn = 1e-8  # False negatives\n",
    "    tn = 1e-8  # True negatives\n",
    "    \n",
    "    for i, doc in enumerate(textcat.pipe(docs)):\n",
    "        gold = cats[i]\n",
    "        for label, score in doc.cats.items():\n",
    "            print (score)\n",
    "            if label not in gold:\n",
    "                continue\n",
    "            if score >= 0.5 and gold[label] >= 0.5:\n",
    "                tp += 1.\n",
    "            elif score >= 0.5 and gold[label] < 0.5:\n",
    "                fp += 1.\n",
    "            elif score < 0.5 and gold[label] < 0.5:\n",
    "                tn += 1\n",
    "            elif score < 0.5 and gold[label] >= 0.5:\n",
    "                fn += 1\n",
    "    \n",
    "    precision = tp / (tp + fp)\n",
    "    recall = tp / (tp + fn)\n",
    "    f_score = 2 * (precision * recall) / (precision + recall)\n",
    "\n",
    "    return {'textcat_p': precision, 'textcat_r': recall, 'textcat_f': f_score}"
   ]
  },
  {
   "cell_type": "code",
   "execution_count": 22,
   "metadata": {
    "scrolled": true
   },
   "outputs": [
    {
     "name": "stdout",
     "output_type": "stream",
     "text": [
      "Using 10 examples (8 training, 2 evaluation)\n",
      "Training the model...\n",
      "iter#\tLOSS \t ROC \n",
      "0 [{'toxic': False}, {'toxic': True}]\n",
      "1 [{'toxic': False}, {'toxic': True}]\n",
      "2 [{'toxic': False}, {'toxic': True}]\n",
      "3 [{'toxic': False}, {'toxic': True}]\n",
      "4 [{'toxic': False}, {'toxic': True}]\n",
      "5 [{'toxic': False}, {'toxic': True}]\n",
      "6 [{'toxic': False}, {'toxic': True}]\n",
      "7 [{'toxic': False}, {'toxic': True}]\n",
      "Using 10 examples (8 training, 2 evaluation)\n",
      "Training the model...\n",
      "iter#\tLOSS \t ROC \n",
      "0 [{'severe_toxic': False}, {'severe_toxic': False}]\n",
      "1 [{'severe_toxic': False}, {'severe_toxic': False}]\n",
      "2 [{'severe_toxic': False}, {'severe_toxic': False}]\n",
      "3 [{'severe_toxic': False}, {'severe_toxic': False}]\n",
      "4 [{'severe_toxic': False}, {'severe_toxic': False}]\n",
      "5 [{'severe_toxic': False}, {'severe_toxic': False}]\n",
      "6 [{'severe_toxic': False}, {'severe_toxic': False}]\n",
      "7 [{'severe_toxic': False}, {'severe_toxic': False}]\n",
      "Using 10 examples (8 training, 2 evaluation)\n",
      "Training the model...\n",
      "iter#\tLOSS \t ROC \n",
      "0 [{'obscene': False}, {'obscene': False}]\n",
      "1 [{'obscene': False}, {'obscene': False}]\n",
      "2 [{'obscene': False}, {'obscene': False}]\n",
      "3 [{'obscene': False}, {'obscene': False}]\n",
      "4 [{'obscene': False}, {'obscene': False}]\n",
      "5 [{'obscene': False}, {'obscene': False}]\n",
      "6 [{'obscene': False}, {'obscene': False}]\n",
      "7 [{'obscene': False}, {'obscene': False}]\n",
      "Using 10 examples (8 training, 2 evaluation)\n",
      "Training the model...\n",
      "iter#\tLOSS \t ROC \n",
      "0 [{'threat': False}, {'threat': False}]\n",
      "1 [{'threat': False}, {'threat': False}]\n",
      "2 [{'threat': False}, {'threat': False}]\n",
      "3 [{'threat': False}, {'threat': False}]\n",
      "4 [{'threat': False}, {'threat': False}]\n",
      "5 [{'threat': False}, {'threat': False}]\n",
      "6 [{'threat': False}, {'threat': False}]\n",
      "7 [{'threat': False}, {'threat': False}]\n",
      "Using 10 examples (8 training, 2 evaluation)\n",
      "Training the model...\n",
      "iter#\tLOSS \t ROC \n",
      "0 [{'insult': False}, {'insult': True}]\n",
      "1 [{'insult': False}, {'insult': True}]\n",
      "2 [{'insult': False}, {'insult': True}]\n",
      "3 [{'insult': False}, {'insult': True}]\n",
      "4 [{'insult': False}, {'insult': True}]\n",
      "5 [{'insult': False}, {'insult': True}]\n",
      "6 [{'insult': False}, {'insult': True}]\n",
      "7 [{'insult': False}, {'insult': True}]\n",
      "Using 10 examples (8 training, 2 evaluation)\n",
      "Training the model...\n",
      "iter#\tLOSS \t ROC \n",
      "0 [{'identity_hate': False}, {'identity_hate': False}]\n",
      "1 [{'identity_hate': False}, {'identity_hate': False}]\n",
      "2 [{'identity_hate': False}, {'identity_hate': False}]\n",
      "3 [{'identity_hate': False}, {'identity_hate': False}]\n",
      "4 [{'identity_hate': False}, {'identity_hate': False}]\n",
      "5 [{'identity_hate': False}, {'identity_hate': False}]\n",
      "6 [{'identity_hate': False}, {'identity_hate': False}]\n",
      "7 [{'identity_hate': False}, {'identity_hate': False}]\n"
     ]
    }
   ],
   "source": [
    "for cl in class_names:\n",
    "train_data, dev_texts, dev_cats = preprocess(cl)\n",
    "nlp, clf, optimizer = create_model(cl)\n",
    "\n",
    "print(\"Training the model...\")\n",
    "print('{:^5}\\t{:^5}\\t{:^5}'.format('iter#', 'LOSS', 'ROC'))\n",
    "\n",
    "for i in range(n_iter):\n",
    "losses = {}\n",
    "\n",
    "batches = minibatch(train_data, size=compounding(4., 16., 1.001))\n",
    "for batch in batches:\n",
    "    texts, annotations = zip(*batch)\n",
    "    nlp.update(texts, annotations, sgd=optimizer, drop=0.2, losses=losses)\n",
    "\n",
    "#     with clf.model.use_params(optimizer.averages):\n",
    "#         score = roc_auc_score(dev_cats, annotations)\n",
    "\n",
    "print(i, dev_cats)\n"
   ]
  },
  {
   "cell_type": "code",
   "execution_count": 23,
   "metadata": {},
   "outputs": [
    {
     "name": "stdout",
     "output_type": "stream",
     "text": [
      " i must kill you ! {'identity_hate': 0.01189790666103363}\n"
     ]
    }
   ],
   "source": [
    "# test the trained model\n",
    "test_text = \" i must kill you !\"\n",
    "doc = nlp(test_text)\n",
    "print(test_text, doc.cats)\n"
   ]
  },
  {
   "cell_type": "code",
   "execution_count": 11,
   "metadata": {},
   "outputs": [
    {
     "data": {
      "text/plain": [
       "0.034178385382801935"
      ]
     },
     "execution_count": 11,
     "metadata": {},
     "output_type": "execute_result"
    }
   ],
   "source": [
    "losses['textcat']"
   ]
  },
  {
   "cell_type": "code",
   "execution_count": null,
   "metadata": {},
   "outputs": [],
   "source": []
  }
 ],
 "metadata": {
  "kernelspec": {
   "display_name": "Python [conda env:texty]",
   "language": "python",
   "name": "conda-env-texty-py"
  },
  "language_info": {
   "codemirror_mode": {
    "name": "ipython",
    "version": 3
   },
   "file_extension": ".py",
   "mimetype": "text/x-python",
   "name": "python",
   "nbconvert_exporter": "python",
   "pygments_lexer": "ipython3",
   "version": "3.6.4"
  },
  "varInspector": {
   "cols": {
    "lenName": 16,
    "lenType": 16,
    "lenVar": 40
   },
   "kernels_config": {
    "python": {
     "delete_cmd_postfix": "",
     "delete_cmd_prefix": "del ",
     "library": "var_list.py",
     "varRefreshCmd": "print(var_dic_list())"
    },
    "r": {
     "delete_cmd_postfix": ") ",
     "delete_cmd_prefix": "rm(",
     "library": "var_list.r",
     "varRefreshCmd": "cat(var_dic_list()) "
    }
   },
   "position": {
    "height": "503px",
    "left": "1378px",
    "right": "20px",
    "top": "488px",
    "width": "489px"
   },
   "types_to_exclude": [
    "module",
    "function",
    "builtin_function_or_method",
    "instance",
    "_Feature"
   ],
   "window_display": true
  }
 },
 "nbformat": 4,
 "nbformat_minor": 2
}
